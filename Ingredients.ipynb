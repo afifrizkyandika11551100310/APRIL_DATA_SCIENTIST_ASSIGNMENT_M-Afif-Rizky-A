{
  "nbformat": 4,
  "nbformat_minor": 0,
  "metadata": {
    "colab": {
      "name": "Ingredients.ipynb",
      "provenance": [],
      "authorship_tag": "ABX9TyMtvhT6yR/nlOKkbyRjhl0H",
      "include_colab_link": true
    },
    "kernelspec": {
      "name": "python3",
      "display_name": "Python 3"
    },
    "language_info": {
      "name": "python"
    },
    "widgets": {
      "application/vnd.jupyter.widget-state+json": {
        "08457e6d61c14f6098f26fa5502b2e0a": {
          "model_module": "@jupyter-widgets/controls",
          "model_name": "IntProgressModel",
          "model_module_version": "1.5.0",
          "state": {
            "_dom_classes": [],
            "_model_module": "@jupyter-widgets/controls",
            "_model_module_version": "1.5.0",
            "_model_name": "IntProgressModel",
            "_view_count": null,
            "_view_module": "@jupyter-widgets/controls",
            "_view_module_version": "1.5.0",
            "_view_name": "ProgressView",
            "bar_style": "",
            "description": "Processing: ",
            "description_tooltip": null,
            "layout": "IPY_MODEL_1f7bf1586f35404c96547b07caeccc61",
            "max": 3,
            "min": 0,
            "orientation": "horizontal",
            "style": "IPY_MODEL_28f93edb755b41b3a6d2c93a0ec04ec4",
            "value": 3
          }
        },
        "1f7bf1586f35404c96547b07caeccc61": {
          "model_module": "@jupyter-widgets/base",
          "model_name": "LayoutModel",
          "model_module_version": "1.2.0",
          "state": {
            "_model_module": "@jupyter-widgets/base",
            "_model_module_version": "1.2.0",
            "_model_name": "LayoutModel",
            "_view_count": null,
            "_view_module": "@jupyter-widgets/base",
            "_view_module_version": "1.2.0",
            "_view_name": "LayoutView",
            "align_content": null,
            "align_items": null,
            "align_self": null,
            "border": null,
            "bottom": null,
            "display": null,
            "flex": null,
            "flex_flow": null,
            "grid_area": null,
            "grid_auto_columns": null,
            "grid_auto_flow": null,
            "grid_auto_rows": null,
            "grid_column": null,
            "grid_gap": null,
            "grid_row": null,
            "grid_template_areas": null,
            "grid_template_columns": null,
            "grid_template_rows": null,
            "height": null,
            "justify_content": null,
            "justify_items": null,
            "left": null,
            "margin": null,
            "max_height": null,
            "max_width": null,
            "min_height": null,
            "min_width": null,
            "object_fit": null,
            "object_position": null,
            "order": null,
            "overflow": null,
            "overflow_x": null,
            "overflow_y": null,
            "padding": null,
            "right": null,
            "top": null,
            "visibility": null,
            "width": null
          }
        },
        "28f93edb755b41b3a6d2c93a0ec04ec4": {
          "model_module": "@jupyter-widgets/controls",
          "model_name": "ProgressStyleModel",
          "model_module_version": "1.5.0",
          "state": {
            "_model_module": "@jupyter-widgets/controls",
            "_model_module_version": "1.5.0",
            "_model_name": "ProgressStyleModel",
            "_view_count": null,
            "_view_module": "@jupyter-widgets/base",
            "_view_module_version": "1.2.0",
            "_view_name": "StyleView",
            "bar_color": null,
            "description_width": ""
          }
        },
        "f838dd1c030d4b0b98490d0ae233a9d8": {
          "model_module": "@jupyter-widgets/controls",
          "model_name": "TextModel",
          "model_module_version": "1.5.0",
          "state": {
            "_dom_classes": [],
            "_model_module": "@jupyter-widgets/controls",
            "_model_module_version": "1.5.0",
            "_model_name": "TextModel",
            "_view_count": null,
            "_view_module": "@jupyter-widgets/controls",
            "_view_module_version": "1.5.0",
            "_view_name": "TextView",
            "continuous_update": true,
            "description": "",
            "description_tooltip": null,
            "disabled": false,
            "layout": "IPY_MODEL_61432bbddedc4d7b8c17f0eccd4038dd",
            "placeholder": "​",
            "style": "IPY_MODEL_cbc725ab57084e57ab748c23129b1f01",
            "value": "Following data types have been inferred automatically, if they are correct press enter to continue or type 'quit' otherwise."
          }
        },
        "61432bbddedc4d7b8c17f0eccd4038dd": {
          "model_module": "@jupyter-widgets/base",
          "model_name": "LayoutModel",
          "model_module_version": "1.2.0",
          "state": {
            "_model_module": "@jupyter-widgets/base",
            "_model_module_version": "1.2.0",
            "_model_name": "LayoutModel",
            "_view_count": null,
            "_view_module": "@jupyter-widgets/base",
            "_view_module_version": "1.2.0",
            "_view_name": "LayoutView",
            "align_content": null,
            "align_items": null,
            "align_self": null,
            "border": null,
            "bottom": null,
            "display": null,
            "flex": null,
            "flex_flow": null,
            "grid_area": null,
            "grid_auto_columns": null,
            "grid_auto_flow": null,
            "grid_auto_rows": null,
            "grid_column": null,
            "grid_gap": null,
            "grid_row": null,
            "grid_template_areas": null,
            "grid_template_columns": null,
            "grid_template_rows": null,
            "height": null,
            "justify_content": null,
            "justify_items": null,
            "left": null,
            "margin": null,
            "max_height": null,
            "max_width": null,
            "min_height": null,
            "min_width": null,
            "object_fit": null,
            "object_position": null,
            "order": null,
            "overflow": null,
            "overflow_x": null,
            "overflow_y": null,
            "padding": null,
            "right": null,
            "top": null,
            "visibility": null,
            "width": "100%"
          }
        },
        "cbc725ab57084e57ab748c23129b1f01": {
          "model_module": "@jupyter-widgets/controls",
          "model_name": "DescriptionStyleModel",
          "model_module_version": "1.5.0",
          "state": {
            "_model_module": "@jupyter-widgets/controls",
            "_model_module_version": "1.5.0",
            "_model_name": "DescriptionStyleModel",
            "_view_count": null,
            "_view_module": "@jupyter-widgets/base",
            "_view_module_version": "1.2.0",
            "_view_name": "StyleView",
            "description_width": ""
          }
        },
        "2ca753751316499eb3e0a64492532f89": {
          "model_module": "@jupyter-widgets/controls",
          "model_name": "IntProgressModel",
          "model_module_version": "1.5.0",
          "state": {
            "_dom_classes": [],
            "_model_module": "@jupyter-widgets/controls",
            "_model_module_version": "1.5.0",
            "_model_name": "IntProgressModel",
            "_view_count": null,
            "_view_module": "@jupyter-widgets/controls",
            "_view_module_version": "1.5.0",
            "_view_name": "ProgressView",
            "bar_style": "",
            "description": "Processing: ",
            "description_tooltip": null,
            "layout": "IPY_MODEL_cb42d988ece34335b63c9612f0fbd7bd",
            "max": 3,
            "min": 0,
            "orientation": "horizontal",
            "style": "IPY_MODEL_06f16be015874ce8afc0d009e0c5a454",
            "value": 3
          }
        },
        "cb42d988ece34335b63c9612f0fbd7bd": {
          "model_module": "@jupyter-widgets/base",
          "model_name": "LayoutModel",
          "model_module_version": "1.2.0",
          "state": {
            "_model_module": "@jupyter-widgets/base",
            "_model_module_version": "1.2.0",
            "_model_name": "LayoutModel",
            "_view_count": null,
            "_view_module": "@jupyter-widgets/base",
            "_view_module_version": "1.2.0",
            "_view_name": "LayoutView",
            "align_content": null,
            "align_items": null,
            "align_self": null,
            "border": null,
            "bottom": null,
            "display": null,
            "flex": null,
            "flex_flow": null,
            "grid_area": null,
            "grid_auto_columns": null,
            "grid_auto_flow": null,
            "grid_auto_rows": null,
            "grid_column": null,
            "grid_gap": null,
            "grid_row": null,
            "grid_template_areas": null,
            "grid_template_columns": null,
            "grid_template_rows": null,
            "height": null,
            "justify_content": null,
            "justify_items": null,
            "left": null,
            "margin": null,
            "max_height": null,
            "max_width": null,
            "min_height": null,
            "min_width": null,
            "object_fit": null,
            "object_position": null,
            "order": null,
            "overflow": null,
            "overflow_x": null,
            "overflow_y": null,
            "padding": null,
            "right": null,
            "top": null,
            "visibility": null,
            "width": null
          }
        },
        "06f16be015874ce8afc0d009e0c5a454": {
          "model_module": "@jupyter-widgets/controls",
          "model_name": "ProgressStyleModel",
          "model_module_version": "1.5.0",
          "state": {
            "_model_module": "@jupyter-widgets/controls",
            "_model_module_version": "1.5.0",
            "_model_name": "ProgressStyleModel",
            "_view_count": null,
            "_view_module": "@jupyter-widgets/base",
            "_view_module_version": "1.2.0",
            "_view_name": "StyleView",
            "bar_color": null,
            "description_width": ""
          }
        },
        "af6b4ca17a0b42cb8082f821e25662e0": {
          "model_module": "@jupyter-widgets/controls",
          "model_name": "IntProgressModel",
          "model_module_version": "1.5.0",
          "state": {
            "_dom_classes": [],
            "_model_module": "@jupyter-widgets/controls",
            "_model_module_version": "1.5.0",
            "_model_name": "IntProgressModel",
            "_view_count": null,
            "_view_module": "@jupyter-widgets/controls",
            "_view_module_version": "1.5.0",
            "_view_name": "ProgressView",
            "bar_style": "",
            "description": "Processing: ",
            "description_tooltip": null,
            "layout": "IPY_MODEL_aa2ec815077643c5a5ef0c08ff891fe8",
            "max": 5,
            "min": 0,
            "orientation": "horizontal",
            "style": "IPY_MODEL_f04218867cc24dc4b764735b44b19daa",
            "value": 5
          }
        },
        "aa2ec815077643c5a5ef0c08ff891fe8": {
          "model_module": "@jupyter-widgets/base",
          "model_name": "LayoutModel",
          "model_module_version": "1.2.0",
          "state": {
            "_model_module": "@jupyter-widgets/base",
            "_model_module_version": "1.2.0",
            "_model_name": "LayoutModel",
            "_view_count": null,
            "_view_module": "@jupyter-widgets/base",
            "_view_module_version": "1.2.0",
            "_view_name": "LayoutView",
            "align_content": null,
            "align_items": null,
            "align_self": null,
            "border": null,
            "bottom": null,
            "display": null,
            "flex": null,
            "flex_flow": null,
            "grid_area": null,
            "grid_auto_columns": null,
            "grid_auto_flow": null,
            "grid_auto_rows": null,
            "grid_column": null,
            "grid_gap": null,
            "grid_row": null,
            "grid_template_areas": null,
            "grid_template_columns": null,
            "grid_template_rows": null,
            "height": null,
            "justify_content": null,
            "justify_items": null,
            "left": null,
            "margin": null,
            "max_height": null,
            "max_width": null,
            "min_height": null,
            "min_width": null,
            "object_fit": null,
            "object_position": null,
            "order": null,
            "overflow": null,
            "overflow_x": null,
            "overflow_y": null,
            "padding": null,
            "right": null,
            "top": null,
            "visibility": null,
            "width": null
          }
        },
        "f04218867cc24dc4b764735b44b19daa": {
          "model_module": "@jupyter-widgets/controls",
          "model_name": "ProgressStyleModel",
          "model_module_version": "1.5.0",
          "state": {
            "_model_module": "@jupyter-widgets/controls",
            "_model_module_version": "1.5.0",
            "_model_name": "ProgressStyleModel",
            "_view_count": null,
            "_view_module": "@jupyter-widgets/base",
            "_view_module_version": "1.2.0",
            "_view_name": "StyleView",
            "bar_color": null,
            "description_width": ""
          }
        },
        "765579deec4b43509d93a7d91f11c9a4": {
          "model_module": "@jupyter-widgets/controls",
          "model_name": "IntProgressModel",
          "model_module_version": "1.5.0",
          "state": {
            "_dom_classes": [],
            "_model_module": "@jupyter-widgets/controls",
            "_model_module_version": "1.5.0",
            "_model_name": "IntProgressModel",
            "_view_count": null,
            "_view_module": "@jupyter-widgets/controls",
            "_view_module_version": "1.5.0",
            "_view_name": "ProgressView",
            "bar_style": "",
            "description": "Processing: ",
            "description_tooltip": null,
            "layout": "IPY_MODEL_0ab239da96bb4d7bb12a32dfec8e512f",
            "max": 5,
            "min": 0,
            "orientation": "horizontal",
            "style": "IPY_MODEL_dce1d5c79ff04c56a0cb2017e33c5e36",
            "value": 3
          }
        },
        "0ab239da96bb4d7bb12a32dfec8e512f": {
          "model_module": "@jupyter-widgets/base",
          "model_name": "LayoutModel",
          "model_module_version": "1.2.0",
          "state": {
            "_model_module": "@jupyter-widgets/base",
            "_model_module_version": "1.2.0",
            "_model_name": "LayoutModel",
            "_view_count": null,
            "_view_module": "@jupyter-widgets/base",
            "_view_module_version": "1.2.0",
            "_view_name": "LayoutView",
            "align_content": null,
            "align_items": null,
            "align_self": null,
            "border": null,
            "bottom": null,
            "display": null,
            "flex": null,
            "flex_flow": null,
            "grid_area": null,
            "grid_auto_columns": null,
            "grid_auto_flow": null,
            "grid_auto_rows": null,
            "grid_column": null,
            "grid_gap": null,
            "grid_row": null,
            "grid_template_areas": null,
            "grid_template_columns": null,
            "grid_template_rows": null,
            "height": null,
            "justify_content": null,
            "justify_items": null,
            "left": null,
            "margin": null,
            "max_height": null,
            "max_width": null,
            "min_height": null,
            "min_width": null,
            "object_fit": null,
            "object_position": null,
            "order": null,
            "overflow": null,
            "overflow_x": null,
            "overflow_y": null,
            "padding": null,
            "right": null,
            "top": null,
            "visibility": null,
            "width": null
          }
        },
        "dce1d5c79ff04c56a0cb2017e33c5e36": {
          "model_module": "@jupyter-widgets/controls",
          "model_name": "ProgressStyleModel",
          "model_module_version": "1.5.0",
          "state": {
            "_model_module": "@jupyter-widgets/controls",
            "_model_module_version": "1.5.0",
            "_model_name": "ProgressStyleModel",
            "_view_count": null,
            "_view_module": "@jupyter-widgets/base",
            "_view_module_version": "1.2.0",
            "_view_name": "StyleView",
            "bar_color": null,
            "description_width": ""
          }
        }
      }
    }
  },
  "cells": [
    {
      "cell_type": "markdown",
      "metadata": {
        "id": "view-in-github",
        "colab_type": "text"
      },
      "source": [
        "<a href=\"https://colab.research.google.com/github/afifrizkyandika11551100310/APRIL_DATA_SCIENTIST_ASSIGNMENT_M-Afif-Rizky-A/blob/main/Ingredients.ipynb\" target=\"_parent\"><img src=\"https://colab.research.google.com/assets/colab-badge.svg\" alt=\"Open In Colab\"/></a>"
      ]
    },
    {
      "cell_type": "markdown",
      "source": [
        "# **Data Scientist_APRIL_Assignment**\n",
        "**Name** : M Afif Rizky A <br>\n",
        "**Email** : afifrizky933@gmail.com / 23521034@std.stei.itb.ac.id "
      ],
      "metadata": {
        "id": "v2oN-dejqWHU"
      }
    },
    {
      "cell_type": "markdown",
      "source": [
        "Analytics Skills **Evaluation Requirement**:\n",
        "*\tQ1 & Q2 are mandatory, Q3 is bonus if attempted.\n",
        "*\tDo the analytics in cloud where possible (free trial versions).\n",
        "*\tOther methods are also acceptable.\n",
        "*\tDo include documentations"
      ],
      "metadata": {
        "id": "u3o1_WKsKP6k"
      }
    },
    {
      "cell_type": "markdown",
      "source": [
        "**A customer** informed their consultant that they have **developed several formulations of petrol that gives different characteristics of burning pattern**. The formulations are **obtaining by adding varying levels of additives** that, for example, **prevent engine knocking**, **gum prevention**, **stability** in storage, and etc. However, a third party certification organisation **would like to verify if the formulations are significantly different**, and request for both physical and **statistical proof**. Since the formulations are confidential information, they are not named in the dataset"
      ],
      "metadata": {
        "id": "ZDinIbO1LBvA"
      }
    },
    {
      "cell_type": "markdown",
      "source": [
        "## **Q1**\n",
        "**A descriptive analysis of the additives** (columns named as “a” to “i”), which **must include summaries of findings** (**parametric/non-parametric**). **Correlation and ANOVA**, if applicable, is a must"
      ],
      "metadata": {
        "id": "WtpWPYIPOLeh"
      }
    },
    {
      "cell_type": "markdown",
      "source": [
        "### **Library and Data Dependency**"
      ],
      "metadata": {
        "id": "0V4W0R0JOV0L"
      }
    },
    {
      "cell_type": "code",
      "source": [
        "pip install pycaret"
      ],
      "metadata": {
        "id": "u3FtM8G31USS"
      },
      "execution_count": null,
      "outputs": []
    },
    {
      "cell_type": "code",
      "source": [
        "pip install Jinja2"
      ],
      "metadata": {
        "id": "CenzK3g61wAe"
      },
      "execution_count": null,
      "outputs": []
    },
    {
      "cell_type": "code",
      "source": [
        "pip install markupsafe==2.0.1"
      ],
      "metadata": {
        "id": "5RTKGotr1-mE"
      },
      "execution_count": null,
      "outputs": []
    },
    {
      "cell_type": "code",
      "execution_count": 3,
      "metadata": {
        "id": "L8CUN2Gsp_tW"
      },
      "outputs": [],
      "source": [
        "# library\n",
        "import pandas as pd\n",
        "import numpy as np\n",
        "import seaborn as sns\n",
        "from seaborn import heatmap\n",
        "import missingno as msno\n",
        "import scipy\n",
        "import matplotlib.pyplot as plt\n",
        "from scipy import stats\n",
        "from scipy.stats import f_oneway\n",
        "from statsmodels.tsa.stattools import grangercausalitytests\n",
        "from scipy.stats import mannwhitneyu\n",
        "from scipy.stats import normaltest\n",
        "from pycaret.classification import *\n",
        "from pycaret.clustering import *"
      ]
    },
    {
      "cell_type": "code",
      "source": [
        "# read dataset\n",
        "data = pd.read_csv('ingredient.csv')\n",
        "data.head(3)"
      ],
      "metadata": {
        "colab": {
          "base_uri": "https://localhost:8080/",
          "height": 143
        },
        "id": "tEE0d1ZoO0TF",
        "outputId": "7b467c81-6c5e-4205-b234-8ec30c0c486a"
      },
      "execution_count": 4,
      "outputs": [
        {
          "output_type": "execute_result",
          "data": {
            "text/plain": [
              "         a      b     c     d      e     f      g     h     i\n",
              "0  1.51735  13.02  3.54  1.69  72.73  0.54   8.44  0.00  0.07\n",
              "1  1.53125  10.73  0.00  2.10  69.81  0.58  13.30  3.15  0.28\n",
              "2  1.52300  13.31  3.58  0.82  71.99  0.12  10.17  0.00  0.03"
            ],
            "text/html": [
              "\n",
              "  <div id=\"df-aa7fac6f-1452-4896-b46a-239854f5a7eb\">\n",
              "    <div class=\"colab-df-container\">\n",
              "      <div>\n",
              "<style scoped>\n",
              "    .dataframe tbody tr th:only-of-type {\n",
              "        vertical-align: middle;\n",
              "    }\n",
              "\n",
              "    .dataframe tbody tr th {\n",
              "        vertical-align: top;\n",
              "    }\n",
              "\n",
              "    .dataframe thead th {\n",
              "        text-align: right;\n",
              "    }\n",
              "</style>\n",
              "<table border=\"1\" class=\"dataframe\">\n",
              "  <thead>\n",
              "    <tr style=\"text-align: right;\">\n",
              "      <th></th>\n",
              "      <th>a</th>\n",
              "      <th>b</th>\n",
              "      <th>c</th>\n",
              "      <th>d</th>\n",
              "      <th>e</th>\n",
              "      <th>f</th>\n",
              "      <th>g</th>\n",
              "      <th>h</th>\n",
              "      <th>i</th>\n",
              "    </tr>\n",
              "  </thead>\n",
              "  <tbody>\n",
              "    <tr>\n",
              "      <th>0</th>\n",
              "      <td>1.51735</td>\n",
              "      <td>13.02</td>\n",
              "      <td>3.54</td>\n",
              "      <td>1.69</td>\n",
              "      <td>72.73</td>\n",
              "      <td>0.54</td>\n",
              "      <td>8.44</td>\n",
              "      <td>0.00</td>\n",
              "      <td>0.07</td>\n",
              "    </tr>\n",
              "    <tr>\n",
              "      <th>1</th>\n",
              "      <td>1.53125</td>\n",
              "      <td>10.73</td>\n",
              "      <td>0.00</td>\n",
              "      <td>2.10</td>\n",
              "      <td>69.81</td>\n",
              "      <td>0.58</td>\n",
              "      <td>13.30</td>\n",
              "      <td>3.15</td>\n",
              "      <td>0.28</td>\n",
              "    </tr>\n",
              "    <tr>\n",
              "      <th>2</th>\n",
              "      <td>1.52300</td>\n",
              "      <td>13.31</td>\n",
              "      <td>3.58</td>\n",
              "      <td>0.82</td>\n",
              "      <td>71.99</td>\n",
              "      <td>0.12</td>\n",
              "      <td>10.17</td>\n",
              "      <td>0.00</td>\n",
              "      <td>0.03</td>\n",
              "    </tr>\n",
              "  </tbody>\n",
              "</table>\n",
              "</div>\n",
              "      <button class=\"colab-df-convert\" onclick=\"convertToInteractive('df-aa7fac6f-1452-4896-b46a-239854f5a7eb')\"\n",
              "              title=\"Convert this dataframe to an interactive table.\"\n",
              "              style=\"display:none;\">\n",
              "        \n",
              "  <svg xmlns=\"http://www.w3.org/2000/svg\" height=\"24px\"viewBox=\"0 0 24 24\"\n",
              "       width=\"24px\">\n",
              "    <path d=\"M0 0h24v24H0V0z\" fill=\"none\"/>\n",
              "    <path d=\"M18.56 5.44l.94 2.06.94-2.06 2.06-.94-2.06-.94-.94-2.06-.94 2.06-2.06.94zm-11 1L8.5 8.5l.94-2.06 2.06-.94-2.06-.94L8.5 2.5l-.94 2.06-2.06.94zm10 10l.94 2.06.94-2.06 2.06-.94-2.06-.94-.94-2.06-.94 2.06-2.06.94z\"/><path d=\"M17.41 7.96l-1.37-1.37c-.4-.4-.92-.59-1.43-.59-.52 0-1.04.2-1.43.59L10.3 9.45l-7.72 7.72c-.78.78-.78 2.05 0 2.83L4 21.41c.39.39.9.59 1.41.59.51 0 1.02-.2 1.41-.59l7.78-7.78 2.81-2.81c.8-.78.8-2.07 0-2.86zM5.41 20L4 18.59l7.72-7.72 1.47 1.35L5.41 20z\"/>\n",
              "  </svg>\n",
              "      </button>\n",
              "      \n",
              "  <style>\n",
              "    .colab-df-container {\n",
              "      display:flex;\n",
              "      flex-wrap:wrap;\n",
              "      gap: 12px;\n",
              "    }\n",
              "\n",
              "    .colab-df-convert {\n",
              "      background-color: #E8F0FE;\n",
              "      border: none;\n",
              "      border-radius: 50%;\n",
              "      cursor: pointer;\n",
              "      display: none;\n",
              "      fill: #1967D2;\n",
              "      height: 32px;\n",
              "      padding: 0 0 0 0;\n",
              "      width: 32px;\n",
              "    }\n",
              "\n",
              "    .colab-df-convert:hover {\n",
              "      background-color: #E2EBFA;\n",
              "      box-shadow: 0px 1px 2px rgba(60, 64, 67, 0.3), 0px 1px 3px 1px rgba(60, 64, 67, 0.15);\n",
              "      fill: #174EA6;\n",
              "    }\n",
              "\n",
              "    [theme=dark] .colab-df-convert {\n",
              "      background-color: #3B4455;\n",
              "      fill: #D2E3FC;\n",
              "    }\n",
              "\n",
              "    [theme=dark] .colab-df-convert:hover {\n",
              "      background-color: #434B5C;\n",
              "      box-shadow: 0px 1px 3px 1px rgba(0, 0, 0, 0.15);\n",
              "      filter: drop-shadow(0px 1px 2px rgba(0, 0, 0, 0.3));\n",
              "      fill: #FFFFFF;\n",
              "    }\n",
              "  </style>\n",
              "\n",
              "      <script>\n",
              "        const buttonEl =\n",
              "          document.querySelector('#df-aa7fac6f-1452-4896-b46a-239854f5a7eb button.colab-df-convert');\n",
              "        buttonEl.style.display =\n",
              "          google.colab.kernel.accessAllowed ? 'block' : 'none';\n",
              "\n",
              "        async function convertToInteractive(key) {\n",
              "          const element = document.querySelector('#df-aa7fac6f-1452-4896-b46a-239854f5a7eb');\n",
              "          const dataTable =\n",
              "            await google.colab.kernel.invokeFunction('convertToInteractive',\n",
              "                                                     [key], {});\n",
              "          if (!dataTable) return;\n",
              "\n",
              "          const docLinkHtml = 'Like what you see? Visit the ' +\n",
              "            '<a target=\"_blank\" href=https://colab.research.google.com/notebooks/data_table.ipynb>data table notebook</a>'\n",
              "            + ' to learn more about interactive tables.';\n",
              "          element.innerHTML = '';\n",
              "          dataTable['output_type'] = 'display_data';\n",
              "          await google.colab.output.renderOutput(dataTable, element);\n",
              "          const docLink = document.createElement('div');\n",
              "          docLink.innerHTML = docLinkHtml;\n",
              "          element.appendChild(docLink);\n",
              "        }\n",
              "      </script>\n",
              "    </div>\n",
              "  </div>\n",
              "  "
            ]
          },
          "metadata": {},
          "execution_count": 4
        }
      ]
    },
    {
      "cell_type": "markdown",
      "source": [
        "This dataset contains formulation with variying levels of additive that have different characteristics burning pattern. to prevent any bias that can lead to misleading descriptive statistical proof, there are steps that must be done."
      ],
      "metadata": {
        "id": "n93ueEjxPdzv"
      }
    },
    {
      "cell_type": "markdown",
      "source": [
        "### **Dataset Composition Analysis**"
      ],
      "metadata": {
        "id": "zYu9D_5zPKRd"
      }
    },
    {
      "cell_type": "markdown",
      "source": [
        "Once we have the data, we need to ensure that it is in a format that we can use to analize any useful information from the data "
      ],
      "metadata": {
        "id": "m_lZkPNFR_71"
      }
    },
    {
      "cell_type": "code",
      "source": [
        "# Dimension Anlaysis\n",
        "print('Dataset Dimension =', data.shape)"
      ],
      "metadata": {
        "colab": {
          "base_uri": "https://localhost:8080/"
        },
        "id": "IPgGkrx_PCAK",
        "outputId": "264210c0-341f-4357-a046-c05bdd853616"
      },
      "execution_count": 5,
      "outputs": [
        {
          "output_type": "stream",
          "name": "stdout",
          "text": [
            "Dataset Dimension = (214, 9)\n"
          ]
        }
      ]
    },
    {
      "cell_type": "code",
      "source": [
        "# Checking Data Types\n",
        "data.dtypes"
      ],
      "metadata": {
        "colab": {
          "base_uri": "https://localhost:8080/"
        },
        "id": "gab5UAm_QrDn",
        "outputId": "b986f072-93c8-44f2-b32f-bc959dbf0b09"
      },
      "execution_count": 6,
      "outputs": [
        {
          "output_type": "execute_result",
          "data": {
            "text/plain": [
              "a    float64\n",
              "b    float64\n",
              "c    float64\n",
              "d    float64\n",
              "e    float64\n",
              "f    float64\n",
              "g    float64\n",
              "h    float64\n",
              "i    float64\n",
              "dtype: object"
            ]
          },
          "metadata": {},
          "execution_count": 6
        }
      ]
    },
    {
      "cell_type": "code",
      "source": [
        "# Checking Missing Values\n",
        "ax = msno.bar(data, figsize=(12,4))"
      ],
      "metadata": {
        "colab": {
          "base_uri": "https://localhost:8080/",
          "height": 309
        },
        "id": "pKiaWecNTEJk",
        "outputId": "b8fc5d28-5c66-46ac-eee0-27fe81d2a30a"
      },
      "execution_count": 7,
      "outputs": [
        {
          "output_type": "display_data",
          "data": {
            "text/plain": [
              "<Figure size 864x288 with 3 Axes>"
            ],
            "image/png": "[encoded data removed]"
          },
          "metadata": {}
        }
      ]
    },
    {
      "cell_type": "markdown",
      "source": [
        "Judging from the dimensions of the dataset used, it can be assumed that this is just a sample of several formulas developed by the customer. As we can see **all of data type are equal**, and **there are no missing value** from any columns from the data. from this quick analysis, **the data** that we use for analysis **is clean** "
      ],
      "metadata": {
        "id": "i4qdublsSb-B"
      }
    },
    {
      "cell_type": "markdown",
      "source": [
        "### **Desriptive Analysis**"
      ],
      "metadata": {
        "id": "q_wfuhTFXWtY"
      }
    },
    {
      "cell_type": "markdown",
      "source": [
        "Descriptive Analysis is the type of analysis of data that helps describe, show or summarize data points in a constructive way such that patterns might emerge that fulfill every condition of the data. two **main approach** we will use for this data:\n",
        "1.   The **quantitative approach** describes and summarizes data numerically\n",
        "2.   The **visual approach** illustrates data with charts, plots, histograms, and other graphs.<br>\n",
        "for descriptive analysis the **main method** we will use:\n",
        "*   **univariate** analysis, about how to describe and summarize a single variable\n",
        "*   **bivariate** analysis, about how to see statistical relationship among pair of variable\n",
        "*   **multivariate** analysis, about how to see relationship with multiple variable\n",
        "\n"
      ],
      "metadata": {
        "id": "_M67GkdQYJ4M"
      }
    },
    {
      "cell_type": "markdown",
      "source": [
        "**type of measure** we will use for this kind of data:\n",
        "1. **Central tendency** tells you about the centers of the data. Useful measures \n",
        "include the mean, median, and mode.\n",
        "2. **Variability** tells you about the spread of the data. Useful measures include variance and standard deviation.\n",
        "3. **Correlation** or joint variability tells you about the relation between a pair of variables in a dataset. Useful measures include covariance and the correlation coefficient."
      ],
      "metadata": {
        "id": "X-YPka1aaW_n"
      }
    },
    {
      "cell_type": "code",
      "source": [
        "# Summarize Descriptive Analysis\n",
        "data.describe().round(3)"
      ],
      "metadata": {
        "colab": {
          "base_uri": "https://localhost:8080/",
          "height": 300
        },
        "id": "klQBKw5ATvxe",
        "outputId": "1cfd918f-9842-446d-9ef7-2528db843ac2"
      },
      "execution_count": 8,
      "outputs": [
        {
          "output_type": "execute_result",
          "data": {
            "text/plain": [
              "             a        b        c        d        e        f        g        h  \\\n",
              "count  214.000  214.000  214.000  214.000  214.000  214.000  214.000  214.000   \n",
              "mean     1.518   13.408    2.685    1.445   72.651    0.497    8.957    0.175   \n",
              "std      0.003    0.817    1.442    0.499    0.775    0.652    1.423    0.497   \n",
              "min      1.511   10.730    0.000    0.290   69.810    0.000    5.430    0.000   \n",
              "25%      1.517   12.908    2.115    1.190   72.280    0.122    8.240    0.000   \n",
              "50%      1.518   13.300    3.480    1.360   72.790    0.555    8.600    0.000   \n",
              "75%      1.519   13.825    3.600    1.630   73.088    0.610    9.172    0.000   \n",
              "max      1.534   17.380    4.490    3.500   75.410    6.210   16.190    3.150   \n",
              "\n",
              "             i  \n",
              "count  214.000  \n",
              "mean     0.057  \n",
              "std      0.097  \n",
              "min      0.000  \n",
              "25%      0.000  \n",
              "50%      0.000  \n",
              "75%      0.100  \n",
              "max      0.510  "
            ],
            "text/html": [
              "\n",
              "  <div id=\"df-f35af29a-5199-4933-ab88-95a07aa85424\">\n",
              "    <div class=\"colab-df-container\">\n",
              "      <div>\n",
              "<style scoped>\n",
              "    .dataframe tbody tr th:only-of-type {\n",
              "        vertical-align: middle;\n",
              "    }\n",
              "\n",
              "    .dataframe tbody tr th {\n",
              "        vertical-align: top;\n",
              "    }\n",
              "\n",
              "    .dataframe thead th {\n",
              "        text-align: right;\n",
              "    }\n",
              "</style>\n",
              "<table border=\"1\" class=\"dataframe\">\n",
              "  <thead>\n",
              "    <tr style=\"text-align: right;\">\n",
              "      <th></th>\n",
              "      <th>a</th>\n",
              "      <th>b</th>\n",
              "      <th>c</th>\n",
              "      <th>d</th>\n",
              "      <th>e</th>\n",
              "      <th>f</th>\n",
              "      <th>g</th>\n",
              "      <th>h</th>\n",
              "      <th>i</th>\n",
              "    </tr>\n",
              "  </thead>\n",
              "  <tbody>\n",
              "    <tr>\n",
              "      <th>count</th>\n",
              "      <td>214.000</td>\n",
              "      <td>214.000</td>\n",
              "      <td>214.000</td>\n",
              "      <td>214.000</td>\n",
              "      <td>214.000</td>\n",
              "      <td>214.000</td>\n",
              "      <td>214.000</td>\n",
              "      <td>214.000</td>\n",
              "      <td>214.000</td>\n",
              "    </tr>\n",
              "    <tr>\n",
              "      <th>mean</th>\n",
              "      <td>1.518</td>\n",
              "      <td>13.408</td>\n",
              "      <td>2.685</td>\n",
              "      <td>1.445</td>\n",
              "      <td>72.651</td>\n",
              "      <td>0.497</td>\n",
              "      <td>8.957</td>\n",
              "      <td>0.175</td>\n",
              "      <td>0.057</td>\n",
              "    </tr>\n",
              "    <tr>\n",
              "      <th>std</th>\n",
              "      <td>0.003</td>\n",
              "      <td>0.817</td>\n",
              "      <td>1.442</td>\n",
              "      <td>0.499</td>\n",
              "      <td>0.775</td>\n",
              "      <td>0.652</td>\n",
              "      <td>1.423</td>\n",
              "      <td>0.497</td>\n",
              "      <td>0.097</td>\n",
              "    </tr>\n",
              "    <tr>\n",
              "      <th>min</th>\n",
              "      <td>1.511</td>\n",
              "      <td>10.730</td>\n",
              "      <td>0.000</td>\n",
              "      <td>0.290</td>\n",
              "      <td>69.810</td>\n",
              "      <td>0.000</td>\n",
              "      <td>5.430</td>\n",
              "      <td>0.000</td>\n",
              "      <td>0.000</td>\n",
              "    </tr>\n",
              "    <tr>\n",
              "      <th>25%</th>\n",
              "      <td>1.517</td>\n",
              "      <td>12.908</td>\n",
              "      <td>2.115</td>\n",
              "      <td>1.190</td>\n",
              "      <td>72.280</td>\n",
              "      <td>0.122</td>\n",
              "      <td>8.240</td>\n",
              "      <td>0.000</td>\n",
              "      <td>0.000</td>\n",
              "    </tr>\n",
              "    <tr>\n",
              "      <th>50%</th>\n",
              "      <td>1.518</td>\n",
              "      <td>13.300</td>\n",
              "      <td>3.480</td>\n",
              "      <td>1.360</td>\n",
              "      <td>72.790</td>\n",
              "      <td>0.555</td>\n",
              "      <td>8.600</td>\n",
              "      <td>0.000</td>\n",
              "      <td>0.000</td>\n",
              "    </tr>\n",
              "    <tr>\n",
              "      <th>75%</th>\n",
              "      <td>1.519</td>\n",
              "      <td>13.825</td>\n",
              "      <td>3.600</td>\n",
              "      <td>1.630</td>\n",
              "      <td>73.088</td>\n",
              "      <td>0.610</td>\n",
              "      <td>9.172</td>\n",
              "      <td>0.000</td>\n",
              "      <td>0.100</td>\n",
              "    </tr>\n",
              "    <tr>\n",
              "      <th>max</th>\n",
              "      <td>1.534</td>\n",
              "      <td>17.380</td>\n",
              "      <td>4.490</td>\n",
              "      <td>3.500</td>\n",
              "      <td>75.410</td>\n",
              "      <td>6.210</td>\n",
              "      <td>16.190</td>\n",
              "      <td>3.150</td>\n",
              "      <td>0.510</td>\n",
              "    </tr>\n",
              "  </tbody>\n",
              "</table>\n",
              "</div>\n",
              "      <button class=\"colab-df-convert\" onclick=\"convertToInteractive('df-f35af29a-5199-4933-ab88-95a07aa85424')\"\n",
              "              title=\"Convert this dataframe to an interactive table.\"\n",
              "              style=\"display:none;\">\n",
              "        \n",
              "  <svg xmlns=\"http://www.w3.org/2000/svg\" height=\"24px\"viewBox=\"0 0 24 24\"\n",
              "       width=\"24px\">\n",
              "    <path d=\"M0 0h24v24H0V0z\" fill=\"none\"/>\n",
              "    <path d=\"M18.56 5.44l.94 2.06.94-2.06 2.06-.94-2.06-.94-.94-2.06-.94 2.06-2.06.94zm-11 1L8.5 8.5l.94-2.06 2.06-.94-2.06-.94L8.5 2.5l-.94 2.06-2.06.94zm10 10l.94 2.06.94-2.06 2.06-.94-2.06-.94-.94-2.06-.94 2.06-2.06.94z\"/><path d=\"M17.41 7.96l-1.37-1.37c-.4-.4-.92-.59-1.43-.59-.52 0-1.04.2-1.43.59L10.3 9.45l-7.72 7.72c-.78.78-.78 2.05 0 2.83L4 21.41c.39.39.9.59 1.41.59.51 0 1.02-.2 1.41-.59l7.78-7.78 2.81-2.81c.8-.78.8-2.07 0-2.86zM5.41 20L4 18.59l7.72-7.72 1.47 1.35L5.41 20z\"/>\n",
              "  </svg>\n",
              "      </button>\n",
              "      \n",
              "  <style>\n",
              "    .colab-df-container {\n",
              "      display:flex;\n",
              "      flex-wrap:wrap;\n",
              "      gap: 12px;\n",
              "    }\n",
              "\n",
              "    .colab-df-convert {\n",
              "      background-color: #E8F0FE;\n",
              "      border: none;\n",
              "      border-radius: 50%;\n",
              "      cursor: pointer;\n",
              "      display: none;\n",
              "      fill: #1967D2;\n",
              "      height: 32px;\n",
              "      padding: 0 0 0 0;\n",
              "      width: 32px;\n",
              "    }\n",
              "\n",
              "    .colab-df-convert:hover {\n",
              "      background-color: #E2EBFA;\n",
              "      box-shadow: 0px 1px 2px rgba(60, 64, 67, 0.3), 0px 1px 3px 1px rgba(60, 64, 67, 0.15);\n",
              "      fill: #174EA6;\n",
              "    }\n",
              "\n",
              "    [theme=dark] .colab-df-convert {\n",
              "      background-color: #3B4455;\n",
              "      fill: #D2E3FC;\n",
              "    }\n",
              "\n",
              "    [theme=dark] .colab-df-convert:hover {\n",
              "      background-color: #434B5C;\n",
              "      box-shadow: 0px 1px 3px 1px rgba(0, 0, 0, 0.15);\n",
              "      filter: drop-shadow(0px 1px 2px rgba(0, 0, 0, 0.3));\n",
              "      fill: #FFFFFF;\n",
              "    }\n",
              "  </style>\n",
              "\n",
              "      <script>\n",
              "        const buttonEl =\n",
              "          document.querySelector('#df-f35af29a-5199-4933-ab88-95a07aa85424 button.colab-df-convert');\n",
              "        buttonEl.style.display =\n",
              "          google.colab.kernel.accessAllowed ? 'block' : 'none';\n",
              "\n",
              "        async function convertToInteractive(key) {\n",
              "          const element = document.querySelector('#df-f35af29a-5199-4933-ab88-95a07aa85424');\n",
              "          const dataTable =\n",
              "            await google.colab.kernel.invokeFunction('convertToInteractive',\n",
              "                                                     [key], {});\n",
              "          if (!dataTable) return;\n",
              "\n",
              "          const docLinkHtml = 'Like what you see? Visit the ' +\n",
              "            '<a target=\"_blank\" href=https://colab.research.google.com/notebooks/data_table.ipynb>data table notebook</a>'\n",
              "            + ' to learn more about interactive tables.';\n",
              "          element.innerHTML = '';\n",
              "          dataTable['output_type'] = 'display_data';\n",
              "          await google.colab.output.renderOutput(dataTable, element);\n",
              "          const docLink = document.createElement('div');\n",
              "          docLink.innerHTML = docLinkHtml;\n",
              "          element.appendChild(docLink);\n",
              "        }\n",
              "      </script>\n",
              "    </div>\n",
              "  </div>\n",
              "  "
            ]
          },
          "metadata": {},
          "execution_count": 8
        }
      ]
    },
    {
      "cell_type": "code",
      "source": [
        "# Variance\n",
        "print('Data Variance') \n",
        "print(data.var().round(4))"
      ],
      "metadata": {
        "colab": {
          "base_uri": "https://localhost:8080/"
        },
        "id": "EFGV-IrEYSyv",
        "outputId": "1af18d3a-a617-466d-ff3d-10e8c285c4a0"
      },
      "execution_count": 9,
      "outputs": [
        {
          "output_type": "stream",
          "name": "stdout",
          "text": [
            "Data Variance\n",
            "a    0.0000\n",
            "b    0.6668\n",
            "c    2.0805\n",
            "d    0.2493\n",
            "e    0.5999\n",
            "f    0.4254\n",
            "g    2.0254\n",
            "h    0.2472\n",
            "i    0.0095\n",
            "dtype: float64\n"
          ]
        }
      ]
    },
    {
      "cell_type": "markdown",
      "source": [
        "**Central Tendency** (Center of Data) \n",
        "*   **Mean** : arithmetic average of all the items / variables in a dataset<br>\n",
        "as we can see with describe function we get all of center point of every variables in the dataset \n",
        "*   **Min** : minimum value of all the items / variable\n",
        "* **Median** : middle element of a sorted dataset. The dataset can be sorted in increasing or decreasing order\n",
        "* **Max** : Maximum Value of all the items / variable\n",
        "\n"
      ],
      "metadata": {
        "id": "huCVIHGSbqnV"
      }
    },
    {
      "cell_type": "markdown",
      "source": [
        "**Variability** (Sread of Data)\n",
        "* **Varience** : numerically how far the data points are from the mean. if variance is greater than mean, its mean the data point have more outlier and mean of the data is not trustable\n",
        "* **Standard Deviation** : numerically aims to find out how many values or the amount of data differ from the average or a measure of how far numbers lie from the average"
      ],
      "metadata": {
        "id": "-ETarfqzeMfr"
      }
    },
    {
      "cell_type": "markdown",
      "source": [
        "### **Parametric and Non - Parametrics Testing**"
      ],
      "metadata": {
        "id": "U-qa9kFhwKS4"
      }
    },
    {
      "cell_type": "markdown",
      "source": [
        "Parametric statistics are **statistical tests** in which specific **assumptions are made about population parameters**<br>\n",
        "Non Parametric is a hypothesis testing **that is not based on underlying assumptions** or **does not require that the population distribution** be denoted by certain parameters. <br>"
      ],
      "metadata": {
        "id": "UIXCsd81wivC"
      }
    },
    {
      "cell_type": "markdown",
      "source": [
        "#### **Normality Testing**"
      ],
      "metadata": {
        "id": "Jp90E3TXlZSq"
      }
    },
    {
      "cell_type": "markdown",
      "source": [
        "we must check the normality distribution of each variable in out dataset using **normality testing** and we can prove more deeper with histogram plot"
      ],
      "metadata": {
        "id": "AxFDHePvjbCH"
      }
    },
    {
      "cell_type": "markdown",
      "source": [
        "P-Value Used to interpret the test, in this case whether the sample was drawn from a Gaussian distribution"
      ],
      "metadata": {
        "id": "DvKfwvYWj3Dc"
      }
    },
    {
      "cell_type": "markdown",
      "source": [
        "* **H0** : Normal Distribution.\n",
        "* **H1** : Not Normal Distirbution."
      ],
      "metadata": {
        "id": "2ircqW48kcgk"
      }
    },
    {
      "cell_type": "markdown",
      "source": [
        "I will use **D’Agostino’s K^2 Test** to calculates summary statistics from the data, namely kurtosis and skewness, to determine if the data distribution departs from the normal distribution"
      ],
      "metadata": {
        "id": "uf4xMzmlk95Z"
      }
    },
    {
      "cell_type": "code",
      "source": [
        "# Additive A\n",
        "stat, p = normaltest(data['a'])\n",
        "print('Statistics=%.3f, p=%.3f' % (stat, p))\n",
        "# interpret\n",
        "alpha = 0.05\n",
        "if p > alpha:\n",
        "\tprint('Sample looks Gaussian (fail to reject H0)')\n",
        "else:\n",
        "\tprint('Sample does not look Gaussian (reject H0)')"
      ],
      "metadata": {
        "colab": {
          "base_uri": "https://localhost:8080/"
        },
        "id": "OMTGVg7ck0n5",
        "outputId": "f6023228-2eff-4441-93b5-aa3143d1f792"
      },
      "execution_count": 10,
      "outputs": [
        {
          "output_type": "stream",
          "name": "stdout",
          "text": [
            "Statistics=84.358, p=0.000\n",
            "Sample does not look Gaussian (reject H0)\n"
          ]
        }
      ]
    },
    {
      "cell_type": "code",
      "source": [
        "# Additive B\n",
        "stat, p = normaltest(data['b'])\n",
        "print('Statistics=%.3f, p=%.3f' % (stat, p))\n",
        "# interpret\n",
        "alpha = 0.05\n",
        "if p > alpha:\n",
        "\tprint('Sample looks Gaussian (fail to reject H0)')\n",
        "else:\n",
        "\tprint('Sample does not look Gaussian (reject H0)')"
      ],
      "metadata": {
        "colab": {
          "base_uri": "https://localhost:8080/"
        },
        "id": "jPC0tNKqlR1D",
        "outputId": "1a9fd4e5-ef59-474b-c658-0628721f29f2"
      },
      "execution_count": 11,
      "outputs": [
        {
          "output_type": "stream",
          "name": "stdout",
          "text": [
            "Statistics=27.015, p=0.000\n",
            "Sample does not look Gaussian (reject H0)\n"
          ]
        }
      ]
    },
    {
      "cell_type": "code",
      "source": [
        "# Additive C\n",
        "stat, p = normaltest(data['c'])\n",
        "print('Statistics=%.3f, p=%.3f' % (stat, p))\n",
        "# interpret\n",
        "alpha = 0.05\n",
        "if p > alpha:\n",
        "\tprint('Sample looks Gaussian (fail to reject H0)')\n",
        "else:\n",
        "\tprint('Sample does not look Gaussian (reject H0)')"
      ],
      "metadata": {
        "colab": {
          "base_uri": "https://localhost:8080/"
        },
        "id": "QXTDJD77lVNe",
        "outputId": "d519512b-9c68-46e9-8ffe-657298f1ab08"
      },
      "execution_count": 12,
      "outputs": [
        {
          "output_type": "stream",
          "name": "stdout",
          "text": [
            "Statistics=35.885, p=0.000\n",
            "Sample does not look Gaussian (reject H0)\n"
          ]
        }
      ]
    },
    {
      "cell_type": "code",
      "source": [
        "# Additive D\n",
        "stat, p = normaltest(data['d'])\n",
        "print('Statistics=%.3f, p=%.3f' % (stat, p))\n",
        "# interpret\n",
        "alpha = 0.05\n",
        "if p > alpha:\n",
        "\tprint('Sample looks Gaussian (fail to reject H0)')\n",
        "else:\n",
        "\tprint('Sample does not look Gaussian (reject H0)')"
      ],
      "metadata": {
        "colab": {
          "base_uri": "https://localhost:8080/"
        },
        "id": "B0HcT1_dlUsd",
        "outputId": "14114f19-a42c-4ddb-b3f3-240644652bb4"
      },
      "execution_count": 13,
      "outputs": [
        {
          "output_type": "stream",
          "name": "stdout",
          "text": [
            "Statistics=36.773, p=0.000\n",
            "Sample does not look Gaussian (reject H0)\n"
          ]
        }
      ]
    },
    {
      "cell_type": "code",
      "source": [
        "# Additive E\n",
        "stat, p = normaltest(data['e'])\n",
        "print('Statistics=%.3f, p=%.3f' % (stat, p))\n",
        "# interpret\n",
        "alpha = 0.05\n",
        "if p > alpha:\n",
        "\tprint('Sample looks Gaussian (fail to reject H0)')\n",
        "else:\n",
        "\tprint('Sample does not look Gaussian (reject H0)')"
      ],
      "metadata": {
        "colab": {
          "base_uri": "https://localhost:8080/"
        },
        "id": "LFYQ3PeqlUg3",
        "outputId": "6fe4726c-98db-4bd3-ce8f-bfed1b4b0c0a"
      },
      "execution_count": 14,
      "outputs": [
        {
          "output_type": "stream",
          "name": "stdout",
          "text": [
            "Statistics=35.873, p=0.000\n",
            "Sample does not look Gaussian (reject H0)\n"
          ]
        }
      ]
    },
    {
      "cell_type": "code",
      "source": [
        "# Additive F\n",
        "stat, p = normaltest(data['f'])\n",
        "print('Statistics=%.3f, p=%.3f' % (stat, p))\n",
        "# interpret\n",
        "alpha = 0.05\n",
        "if p > alpha:\n",
        "\tprint('Sample looks Gaussian (fail to reject H0)')\n",
        "else:\n",
        "\tprint('Sample does not look Gaussian (reject H0)')"
      ],
      "metadata": {
        "colab": {
          "base_uri": "https://localhost:8080/"
        },
        "id": "JjzNVe6XlUUk",
        "outputId": "7ce2a146-6a12-4054-8ac9-169d11780b53"
      },
      "execution_count": 15,
      "outputs": [
        {
          "output_type": "stream",
          "name": "stdout",
          "text": [
            "Statistics=305.666, p=0.000\n",
            "Sample does not look Gaussian (reject H0)\n"
          ]
        }
      ]
    },
    {
      "cell_type": "code",
      "source": [
        "# Additive G\n",
        "stat, p = normaltest(data['g'])\n",
        "print('Statistics=%.3f, p=%.3f' % (stat, p))\n",
        "# interpret\n",
        "alpha = 0.05\n",
        "if p > alpha:\n",
        "\tprint('Sample looks Gaussian (fail to reject H0)')\n",
        "else:\n",
        "\tprint('Sample does not look Gaussian (reject H0)')"
      ],
      "metadata": {
        "colab": {
          "base_uri": "https://localhost:8080/"
        },
        "id": "4pihtruxlUC_",
        "outputId": "5f212599-f4d6-4cc5-eefc-0c2842ec67ba"
      },
      "execution_count": 16,
      "outputs": [
        {
          "output_type": "stream",
          "name": "stdout",
          "text": [
            "Statistics=109.473, p=0.000\n",
            "Sample does not look Gaussian (reject H0)\n"
          ]
        }
      ]
    },
    {
      "cell_type": "code",
      "source": [
        "stat, p = normaltest(data['h'])\n",
        "print('Statistics=%.3f, p=%.3f' % (stat, p))\n",
        "# interpret\n",
        "alpha = 0.05\n",
        "if p > alpha:\n",
        "\tprint('Sample looks Gaussian (fail to reject H0)')\n",
        "else:\n",
        "\tprint('Sample does not look Gaussian (reject H0)')"
      ],
      "metadata": {
        "colab": {
          "base_uri": "https://localhost:8080/"
        },
        "id": "Zc3EzqDllTps",
        "outputId": "cf89019a-33c6-4637-f56d-b4712786141e"
      },
      "execution_count": 17,
      "outputs": [
        {
          "output_type": "stream",
          "name": "stdout",
          "text": [
            "Statistics=177.280, p=0.000\n",
            "Sample does not look Gaussian (reject H0)\n"
          ]
        }
      ]
    },
    {
      "cell_type": "code",
      "source": [
        "stat, p = normaltest(data['i'])\n",
        "print('Statistics=%.3f, p=%.3f' % (stat, p))\n",
        "# interpret\n",
        "alpha = 0.05\n",
        "if p > alpha:\n",
        "\tprint('Sample looks Gaussian (fail to reject H0)')\n",
        "else:\n",
        "\tprint('Sample does not look Gaussian (reject H0)')"
      ],
      "metadata": {
        "colab": {
          "base_uri": "https://localhost:8080/"
        },
        "id": "dp7GjpNAlTXN",
        "outputId": "fd8b7b66-5596-4c00-8e80-26ee8eb4e634"
      },
      "execution_count": 18,
      "outputs": [
        {
          "output_type": "stream",
          "name": "stdout",
          "text": [
            "Statistics=76.867, p=0.000\n",
            "Sample does not look Gaussian (reject H0)\n"
          ]
        }
      ]
    },
    {
      "cell_type": "markdown",
      "source": [
        "**From this normality testing, the data we use for analysis comes from non - normal distribution**"
      ],
      "metadata": {
        "id": "EbEr5jHKmv9u"
      }
    },
    {
      "cell_type": "markdown",
      "source": [
        "#### **1. Parametric Testing (Pearson Correlation and ANOVA TEST)**"
      ],
      "metadata": {
        "id": "Q-VcX3fdyLIC"
      }
    },
    {
      "cell_type": "code",
      "source": [
        "# Pearson Table\n",
        "fig, ax = plt.subplots(figsize=(15, 10))\n",
        "ax = heatmap(data.corr(),fmt=\".2f\",annot=True,ax=ax,cmap=\"RdBu_r\",vmin=-1,vmax=1,)"
      ],
      "metadata": {
        "colab": {
          "base_uri": "https://localhost:8080/",
          "height": 596
        },
        "id": "PycUy_RUqKaz",
        "outputId": "a0f2a265-e738-46b5-ebdd-4271b65e64e2"
      },
      "execution_count": 19,
      "outputs": [
        {
          "output_type": "display_data",
          "data": {
            "text/plain": [
              "<Figure size 1080x720 with 2 Axes>"
            ],
            "image/png": "[encoded data removed]"
          },
          "metadata": {}
        }
      ]
    },
    {
      "cell_type": "markdown",
      "source": [
        "based on pearson table, some additive have positive correlation and some additive have slightly zero correlation. **that's mean there is some kind of difference by adding varying level of additive in formulation** for example : **additive A have strong positive correlation with additive G**"
      ],
      "metadata": {
        "id": "FQNmPRHD1oXY"
      }
    },
    {
      "cell_type": "markdown",
      "source": [
        "**ANOVA TESTING**"
      ],
      "metadata": {
        "id": "xrhS0q2vFwBM"
      }
    },
    {
      "cell_type": "markdown",
      "source": [
        "**The Anova test** works to **compare population averages to find out the significant differences between two or more data groups**"
      ],
      "metadata": {
        "id": "JwYWrnnpLrxx"
      }
    },
    {
      "cell_type": "markdown",
      "source": [
        "**Assumtion**<br>\n",
        "* **Fail to Reject H0**: All sample distributions are equal.\n",
        "* **Reject H0**: One or more sample distributions are not equal."
      ],
      "metadata": {
        "id": "T8szUgwya7sx"
      }
    },
    {
      "cell_type": "code",
      "source": [
        "# ANOVA TEST\n",
        "stat, p = f_oneway(data['a'], data['b'], data['c'], data['d'] , data['e'] , data['f'], data['g'], data['h'], data['i'])\n",
        "print('Statistics = %.3f, p = %.3f' % (stat, p))\n",
        "# interpret\n",
        "alpha = 0.05\n",
        "if p > alpha:\n",
        "\tprint('Same distributions (fail to reject H0) P values is greater than Alpha')\n",
        "else:\n",
        "\tprint('Different distributions (reject H0) P values is less than Alpha')"
      ],
      "metadata": {
        "colab": {
          "base_uri": "https://localhost:8080/"
        },
        "id": "tMNBre-nbVTy",
        "outputId": "7b5bcaa1-36d6-43aa-9f4a-fccdf79ea970"
      },
      "execution_count": 20,
      "outputs": [
        {
          "output_type": "stream",
          "name": "stdout",
          "text": [
            "Statistics = 168331.969, p = 0.000\n",
            "Different distributions (reject H0) P values is less than Alpha\n"
          ]
        }
      ]
    },
    {
      "cell_type": "markdown",
      "source": [
        "#### **1. Non - Parametric Testing (Mann-Whitney U Test)**"
      ],
      "metadata": {
        "id": "42boVfWtenBZ"
      }
    },
    {
      "cell_type": "markdown",
      "source": [
        "**The Mann-Whitney U test is a nonparametric statistical significance test** for determining whether two **independent samples were drawn from a population with the same distribution**."
      ],
      "metadata": {
        "id": "GhuUF4Qre74a"
      }
    },
    {
      "cell_type": "markdown",
      "source": [
        "**Assumtion**<br>\n",
        "* **Fail to Reject H0**: All sample distributions are equal.\n",
        "* **Reject H0**: One or more sample distributions are not equal."
      ],
      "metadata": {
        "id": "VF2sxlZpfHWy"
      }
    },
    {
      "cell_type": "code",
      "source": [
        "# Mann-Whitney U Test\n",
        "stat, p = mannwhitneyu(data['a'], data['g'])\n",
        "print('Statistics = %.3f, p = %.3f' % (stat, p))\n",
        "# interpret\n",
        "alpha = 0.05\n",
        "if p > alpha:\n",
        "\tprint('Same distributions (fail to reject H0) P values is greater than Alpha')\n",
        "else:\n",
        "\tprint('Different distributions (reject H0) P values is less than Alpha')"
      ],
      "metadata": {
        "colab": {
          "base_uri": "https://localhost:8080/"
        },
        "id": "DtWeTcflFCZo",
        "outputId": "6f2a19e1-197a-4cee-faa2-7c49d2d37006"
      },
      "execution_count": 21,
      "outputs": [
        {
          "output_type": "stream",
          "name": "stdout",
          "text": [
            "Statistics = 0.000, p = 0.000\n",
            "Different distributions (reject H0) P values is less than Alpha\n"
          ]
        }
      ]
    },
    {
      "cell_type": "markdown",
      "source": [
        "### **Histogram Plot and Distribution Study**"
      ],
      "metadata": {
        "id": "Fl3S0rXzoiqi"
      }
    },
    {
      "cell_type": "markdown",
      "source": [
        "**A histogram is an approximate representation of the distribution of numerical data**"
      ],
      "metadata": {
        "id": "C02l5KWcpE-Y"
      }
    },
    {
      "cell_type": "code",
      "source": [
        "# Histogram Analysis\n",
        "fig, axs = plt.subplots(2, 2, figsize=(7, 7))\n",
        "sns.histplot(data=data, x=\"a\", kde=True, color=\"skyblue\", ax=axs[0, 0])\n",
        "sns.histplot(data=data, x=\"b\", kde=True, color=\"olive\", ax=axs[0, 1])\n",
        "sns.histplot(data=data, x=\"c\", kde=True, color=\"gold\", ax=axs[1, 0])\n",
        "sns.histplot(data=data, x=\"d\", kde=True, color=\"teal\", ax=axs[1, 1])\n",
        "plt.show()"
      ],
      "metadata": {
        "colab": {
          "base_uri": "https://localhost:8080/",
          "height": 442
        },
        "id": "_zzCBIbHq8dt",
        "outputId": "dc6ba46d-29de-4615-b969-6993802068e2"
      },
      "execution_count": 22,
      "outputs": [
        {
          "output_type": "display_data",
          "data": {
            "text/plain": [
              "<Figure size 504x504 with 4 Axes>"
            ],
            "image/png": "[encoded data removed]"
          },
          "metadata": {}
        }
      ]
    },
    {
      "cell_type": "code",
      "source": [
        "# Histogram analysis\n",
        "fig, axs = plt.subplots(2, 2, figsize=(7, 7))\n",
        "sns.histplot(data=data, x=\"e\", kde=True, color=\"red\", ax=axs[0, 0])\n",
        "sns.histplot(data=data, x=\"f\", kde=True, color=\"green\", ax=axs[0, 1])\n",
        "sns.histplot(data=data, x=\"g\", kde=True, color=\"blue\", ax=axs[1, 0])\n",
        "sns.histplot(data=data, x=\"h\", kde=True, color=\"pink\", ax=axs[1, 1])\n",
        "plt.show()"
      ],
      "metadata": {
        "colab": {
          "base_uri": "https://localhost:8080/",
          "height": 442
        },
        "id": "R4FyhQc5p0ur",
        "outputId": "1542878d-ce87-437c-822b-54550d71e13e"
      },
      "execution_count": 23,
      "outputs": [
        {
          "output_type": "display_data",
          "data": {
            "text/plain": [
              "<Figure size 504x504 with 4 Axes>"
            ],
            "image/png": "[encoded data removed]"
          },
          "metadata": {}
        }
      ]
    },
    {
      "cell_type": "code",
      "source": [
        "# Histogram Analysis\n",
        "sns.histplot(data=data, x=\"i\", kde=True, color=\"purple\")\n",
        "plt.show()"
      ],
      "metadata": {
        "colab": {
          "base_uri": "https://localhost:8080/",
          "height": 361
        },
        "id": "cifrkG9vswAM",
        "outputId": "608ef48e-d001-4090-a458-72c3fb43c85b"
      },
      "execution_count": 24,
      "outputs": [
        {
          "output_type": "display_data",
          "data": {
            "text/plain": [
              "<Figure size 576x396 with 1 Axes>"
            ],
            "image/png": "[encoded data removed]"
          },
          "metadata": {}
        }
      ]
    },
    {
      "cell_type": "markdown",
      "source": [
        "**Conclution : From Every waveform in histogram we have insight that data we use doesn't come from normal distribution but if we look back from costumer problem that we must prove that every additive in formulation is significantly different, the answer is yes. it's prove by correlation and ANOVA testing**"
      ],
      "metadata": {
        "id": "rdzzBjnFtiLt"
      }
    },
    {
      "cell_type": "markdown",
      "source": [
        "### **Clustering Approach**"
      ],
      "metadata": {
        "id": "SQ6d6YmVy9zu"
      }
    },
    {
      "cell_type": "code",
      "source": [
        "# Model Construction\n",
        "exp_clu101 = setup(data, normalize = True,\n",
        "                   session_id = 123)"
      ],
      "metadata": {
        "colab": {
          "base_uri": "https://localhost:8080/",
          "height": 1000,
          "referenced_widgets": [
            "08457e6d61c14f6098f26fa5502b2e0a",
            "1f7bf1586f35404c96547b07caeccc61",
            "28f93edb755b41b3a6d2c93a0ec04ec4",
            "f838dd1c030d4b0b98490d0ae233a9d8",
            "61432bbddedc4d7b8c17f0eccd4038dd",
            "cbc725ab57084e57ab748c23129b1f01"
          ]
        },
        "id": "4p8hEfM-2i2J",
        "outputId": "4ffb8595-dd1e-41fc-85cf-d4031a467e91"
      },
      "execution_count": 43,
      "outputs": [
        {
          "output_type": "display_data",
          "data": {
            "text/plain": [
              "                               Description                 Value\n",
              "0                               session_id                   123\n",
              "1                            Original Data              (135, 9)\n",
              "2                           Missing Values                 False\n",
              "3                         Numeric Features                     9\n",
              "4                     Categorical Features                     0\n",
              "5                         Ordinal Features                 False\n",
              "6                High Cardinality Features                 False\n",
              "7                  High Cardinality Method                  None\n",
              "8                         Transformed Data              (135, 9)\n",
              "9                                 CPU Jobs                    -1\n",
              "10                                 Use GPU                 False\n",
              "11                          Log Experiment                 False\n",
              "12                         Experiment Name  cluster-default-name\n",
              "13                                     USI                  c965\n",
              "14                         Imputation Type                simple\n",
              "15          Iterative Imputation Iteration                  None\n",
              "16                         Numeric Imputer                  mean\n",
              "17      Iterative Imputation Numeric Model                  None\n",
              "18                     Categorical Imputer                  mode\n",
              "19  Iterative Imputation Categorical Model                  None\n",
              "20           Unknown Categoricals Handling        least_frequent\n",
              "21                               Normalize                  True\n",
              "22                        Normalize Method                zscore\n",
              "23                          Transformation                 False\n",
              "24                   Transformation Method                  None\n",
              "25                                     PCA                 False\n",
              "26                              PCA Method                  None\n",
              "27                          PCA Components                  None\n",
              "28                     Ignore Low Variance                 False\n",
              "29                     Combine Rare Levels                 False\n",
              "30                    Rare Level Threshold                  None\n",
              "31                         Numeric Binning                 False\n",
              "32                         Remove Outliers                 False\n",
              "33                      Outliers Threshold                  None\n",
              "34                Remove Multicollinearity                 False\n",
              "35             Multicollinearity Threshold                  None\n",
              "36             Remove Perfect Collinearity                 False\n",
              "37                              Clustering                 False\n",
              "38                    Clustering Iteration                  None\n",
              "39                     Polynomial Features                 False\n",
              "40                       Polynomial Degree                  None\n",
              "41                    Trignometry Features                 False\n",
              "42                    Polynomial Threshold                  None\n",
              "43                          Group Features                 False\n",
              "44                       Feature Selection                 False\n",
              "45                Feature Selection Method               classic\n",
              "46            Features Selection Threshold                  None\n",
              "47                     Feature Interaction                 False\n",
              "48                           Feature Ratio                 False\n",
              "49                   Interaction Threshold                  None"
            ],
            "text/html": [
              "\n",
              "  <div id=\"df-b9800118-d77a-426c-aa85-5f1feb470a90\">\n",
              "    <div class=\"colab-df-container\">\n",
              "      <div>\n",
              "<style scoped>\n",
              "    .dataframe tbody tr th:only-of-type {\n",
              "        vertical-align: middle;\n",
              "    }\n",
              "\n",
              "    .dataframe tbody tr th {\n",
              "        vertical-align: top;\n",
              "    }\n",
              "\n",
              "    .dataframe thead th {\n",
              "        text-align: right;\n",
              "    }\n",
              "</style>\n",
              "<table border=\"1\" class=\"dataframe\">\n",
              "  <thead>\n",
              "    <tr style=\"text-align: right;\">\n",
              "      <th></th>\n",
              "      <th>Description</th>\n",
              "      <th>Value</th>\n",
              "    </tr>\n",
              "  </thead>\n",
              "  <tbody>\n",
              "    <tr>\n",
              "      <th>0</th>\n",
              "      <td>session_id</td>\n",
              "      <td>123</td>\n",
              "    </tr>\n",
              "    <tr>\n",
              "      <th>1</th>\n",
              "      <td>Original Data</td>\n",
              "      <td>(135, 9)</td>\n",
              "    </tr>\n",
              "    <tr>\n",
              "      <th>2</th>\n",
              "      <td>Missing Values</td>\n",
              "      <td>False</td>\n",
              "    </tr>\n",
              "    <tr>\n",
              "      <th>3</th>\n",
              "      <td>Numeric Features</td>\n",
              "      <td>9</td>\n",
              "    </tr>\n",
              "    <tr>\n",
              "      <th>4</th>\n",
              "      <td>Categorical Features</td>\n",
              "      <td>0</td>\n",
              "    </tr>\n",
              "    <tr>\n",
              "      <th>5</th>\n",
              "      <td>Ordinal Features</td>\n",
              "      <td>False</td>\n",
              "    </tr>\n",
              "    <tr>\n",
              "      <th>6</th>\n",
              "      <td>High Cardinality Features</td>\n",
              "      <td>False</td>\n",
              "    </tr>\n",
              "    <tr>\n",
              "      <th>7</th>\n",
              "      <td>High Cardinality Method</td>\n",
              "      <td>None</td>\n",
              "    </tr>\n",
              "    <tr>\n",
              "      <th>8</th>\n",
              "      <td>Transformed Data</td>\n",
              "      <td>(135, 9)</td>\n",
              "    </tr>\n",
              "    <tr>\n",
              "      <th>9</th>\n",
              "      <td>CPU Jobs</td>\n",
              "      <td>-1</td>\n",
              "    </tr>\n",
              "    <tr>\n",
              "      <th>10</th>\n",
              "      <td>Use GPU</td>\n",
              "      <td>False</td>\n",
              "    </tr>\n",
              "    <tr>\n",
              "      <th>11</th>\n",
              "      <td>Log Experiment</td>\n",
              "      <td>False</td>\n",
              "    </tr>\n",
              "    <tr>\n",
              "      <th>12</th>\n",
              "      <td>Experiment Name</td>\n",
              "      <td>cluster-default-name</td>\n",
              "    </tr>\n",
              "    <tr>\n",
              "      <th>13</th>\n",
              "      <td>USI</td>\n",
              "      <td>c965</td>\n",
              "    </tr>\n",
              "    <tr>\n",
              "      <th>14</th>\n",
              "      <td>Imputation Type</td>\n",
              "      <td>simple</td>\n",
              "    </tr>\n",
              "    <tr>\n",
              "      <th>15</th>\n",
              "      <td>Iterative Imputation Iteration</td>\n",
              "      <td>None</td>\n",
              "    </tr>\n",
              "    <tr>\n",
              "      <th>16</th>\n",
              "      <td>Numeric Imputer</td>\n",
              "      <td>mean</td>\n",
              "    </tr>\n",
              "    <tr>\n",
              "      <th>17</th>\n",
              "      <td>Iterative Imputation Numeric Model</td>\n",
              "      <td>None</td>\n",
              "    </tr>\n",
              "    <tr>\n",
              "      <th>18</th>\n",
              "      <td>Categorical Imputer</td>\n",
              "      <td>mode</td>\n",
              "    </tr>\n",
              "    <tr>\n",
              "      <th>19</th>\n",
              "      <td>Iterative Imputation Categorical Model</td>\n",
              "      <td>None</td>\n",
              "    </tr>\n",
              "    <tr>\n",
              "      <th>20</th>\n",
              "      <td>Unknown Categoricals Handling</td>\n",
              "      <td>least_frequent</td>\n",
              "    </tr>\n",
              "    <tr>\n",
              "      <th>21</th>\n",
              "      <td>Normalize</td>\n",
              "      <td>True</td>\n",
              "    </tr>\n",
              "    <tr>\n",
              "      <th>22</th>\n",
              "      <td>Normalize Method</td>\n",
              "      <td>zscore</td>\n",
              "    </tr>\n",
              "    <tr>\n",
              "      <th>23</th>\n",
              "      <td>Transformation</td>\n",
              "      <td>False</td>\n",
              "    </tr>\n",
              "    <tr>\n",
              "      <th>24</th>\n",
              "      <td>Transformation Method</td>\n",
              "      <td>None</td>\n",
              "    </tr>\n",
              "    <tr>\n",
              "      <th>25</th>\n",
              "      <td>PCA</td>\n",
              "      <td>False</td>\n",
              "    </tr>\n",
              "    <tr>\n",
              "      <th>26</th>\n",
              "      <td>PCA Method</td>\n",
              "      <td>None</td>\n",
              "    </tr>\n",
              "    <tr>\n",
              "      <th>27</th>\n",
              "      <td>PCA Components</td>\n",
              "      <td>None</td>\n",
              "    </tr>\n",
              "    <tr>\n",
              "      <th>28</th>\n",
              "      <td>Ignore Low Variance</td>\n",
              "      <td>False</td>\n",
              "    </tr>\n",
              "    <tr>\n",
              "      <th>29</th>\n",
              "      <td>Combine Rare Levels</td>\n",
              "      <td>False</td>\n",
              "    </tr>\n",
              "    <tr>\n",
              "      <th>30</th>\n",
              "      <td>Rare Level Threshold</td>\n",
              "      <td>None</td>\n",
              "    </tr>\n",
              "    <tr>\n",
              "      <th>31</th>\n",
              "      <td>Numeric Binning</td>\n",
              "      <td>False</td>\n",
              "    </tr>\n",
              "    <tr>\n",
              "      <th>32</th>\n",
              "      <td>Remove Outliers</td>\n",
              "      <td>False</td>\n",
              "    </tr>\n",
              "    <tr>\n",
              "      <th>33</th>\n",
              "      <td>Outliers Threshold</td>\n",
              "      <td>None</td>\n",
              "    </tr>\n",
              "    <tr>\n",
              "      <th>34</th>\n",
              "      <td>Remove Multicollinearity</td>\n",
              "      <td>False</td>\n",
              "    </tr>\n",
              "    <tr>\n",
              "      <th>35</th>\n",
              "      <td>Multicollinearity Threshold</td>\n",
              "      <td>None</td>\n",
              "    </tr>\n",
              "    <tr>\n",
              "      <th>36</th>\n",
              "      <td>Remove Perfect Collinearity</td>\n",
              "      <td>False</td>\n",
              "    </tr>\n",
              "    <tr>\n",
              "      <th>37</th>\n",
              "      <td>Clustering</td>\n",
              "      <td>False</td>\n",
              "    </tr>\n",
              "    <tr>\n",
              "      <th>38</th>\n",
              "      <td>Clustering Iteration</td>\n",
              "      <td>None</td>\n",
              "    </tr>\n",
              "    <tr>\n",
              "      <th>39</th>\n",
              "      <td>Polynomial Features</td>\n",
              "      <td>False</td>\n",
              "    </tr>\n",
              "    <tr>\n",
              "      <th>40</th>\n",
              "      <td>Polynomial Degree</td>\n",
              "      <td>None</td>\n",
              "    </tr>\n",
              "    <tr>\n",
              "      <th>41</th>\n",
              "      <td>Trignometry Features</td>\n",
              "      <td>False</td>\n",
              "    </tr>\n",
              "    <tr>\n",
              "      <th>42</th>\n",
              "      <td>Polynomial Threshold</td>\n",
              "      <td>None</td>\n",
              "    </tr>\n",
              "    <tr>\n",
              "      <th>43</th>\n",
              "      <td>Group Features</td>\n",
              "      <td>False</td>\n",
              "    </tr>\n",
              "    <tr>\n",
              "      <th>44</th>\n",
              "      <td>Feature Selection</td>\n",
              "      <td>False</td>\n",
              "    </tr>\n",
              "    <tr>\n",
              "      <th>45</th>\n",
              "      <td>Feature Selection Method</td>\n",
              "      <td>classic</td>\n",
              "    </tr>\n",
              "    <tr>\n",
              "      <th>46</th>\n",
              "      <td>Features Selection Threshold</td>\n",
              "      <td>None</td>\n",
              "    </tr>\n",
              "    <tr>\n",
              "      <th>47</th>\n",
              "      <td>Feature Interaction</td>\n",
              "      <td>False</td>\n",
              "    </tr>\n",
              "    <tr>\n",
              "      <th>48</th>\n",
              "      <td>Feature Ratio</td>\n",
              "      <td>False</td>\n",
              "    </tr>\n",
              "    <tr>\n",
              "      <th>49</th>\n",
              "      <td>Interaction Threshold</td>\n",
              "      <td>None</td>\n",
              "    </tr>\n",
              "  </tbody>\n",
              "</table>\n",
              "</div>\n",
              "      <button class=\"colab-df-convert\" onclick=\"convertToInteractive('df-b9800118-d77a-426c-aa85-5f1feb470a90')\"\n",
              "              title=\"Convert this dataframe to an interactive table.\"\n",
              "              style=\"display:none;\">\n",
              "        \n",
              "  <svg xmlns=\"http://www.w3.org/2000/svg\" height=\"24px\"viewBox=\"0 0 24 24\"\n",
              "       width=\"24px\">\n",
              "    <path d=\"M0 0h24v24H0V0z\" fill=\"none\"/>\n",
              "    <path d=\"M18.56 5.44l.94 2.06.94-2.06 2.06-.94-2.06-.94-.94-2.06-.94 2.06-2.06.94zm-11 1L8.5 8.5l.94-2.06 2.06-.94-2.06-.94L8.5 2.5l-.94 2.06-2.06.94zm10 10l.94 2.06.94-2.06 2.06-.94-2.06-.94-.94-2.06-.94 2.06-2.06.94z\"/><path d=\"M17.41 7.96l-1.37-1.37c-.4-.4-.92-.59-1.43-.59-.52 0-1.04.2-1.43.59L10.3 9.45l-7.72 7.72c-.78.78-.78 2.05 0 2.83L4 21.41c.39.39.9.59 1.41.59.51 0 1.02-.2 1.41-.59l7.78-7.78 2.81-2.81c.8-.78.8-2.07 0-2.86zM5.41 20L4 18.59l7.72-7.72 1.47 1.35L5.41 20z\"/>\n",
              "  </svg>\n",
              "      </button>\n",
              "      \n",
              "  <style>\n",
              "    .colab-df-container {\n",
              "      display:flex;\n",
              "      flex-wrap:wrap;\n",
              "      gap: 12px;\n",
              "    }\n",
              "\n",
              "    .colab-df-convert {\n",
              "      background-color: #E8F0FE;\n",
              "      border: none;\n",
              "      border-radius: 50%;\n",
              "      cursor: pointer;\n",
              "      display: none;\n",
              "      fill: #1967D2;\n",
              "      height: 32px;\n",
              "      padding: 0 0 0 0;\n",
              "      width: 32px;\n",
              "    }\n",
              "\n",
              "    .colab-df-convert:hover {\n",
              "      background-color: #E2EBFA;\n",
              "      box-shadow: 0px 1px 2px rgba(60, 64, 67, 0.3), 0px 1px 3px 1px rgba(60, 64, 67, 0.15);\n",
              "      fill: #174EA6;\n",
              "    }\n",
              "\n",
              "    [theme=dark] .colab-df-convert {\n",
              "      background-color: #3B4455;\n",
              "      fill: #D2E3FC;\n",
              "    }\n",
              "\n",
              "    [theme=dark] .colab-df-convert:hover {\n",
              "      background-color: #434B5C;\n",
              "      box-shadow: 0px 1px 3px 1px rgba(0, 0, 0, 0.15);\n",
              "      filter: drop-shadow(0px 1px 2px rgba(0, 0, 0, 0.3));\n",
              "      fill: #FFFFFF;\n",
              "    }\n",
              "  </style>\n",
              "\n",
              "      <script>\n",
              "        const buttonEl =\n",
              "          document.querySelector('#df-b9800118-d77a-426c-aa85-5f1feb470a90 button.colab-df-convert');\n",
              "        buttonEl.style.display =\n",
              "          google.colab.kernel.accessAllowed ? 'block' : 'none';\n",
              "\n",
              "        async function convertToInteractive(key) {\n",
              "          const element = document.querySelector('#df-b9800118-d77a-426c-aa85-5f1feb470a90');\n",
              "          const dataTable =\n",
              "            await google.colab.kernel.invokeFunction('convertToInteractive',\n",
              "                                                     [key], {});\n",
              "          if (!dataTable) return;\n",
              "\n",
              "          const docLinkHtml = 'Like what you see? Visit the ' +\n",
              "            '<a target=\"_blank\" href=https://colab.research.google.com/notebooks/data_table.ipynb>data table notebook</a>'\n",
              "            + ' to learn more about interactive tables.';\n",
              "          element.innerHTML = '';\n",
              "          dataTable['output_type'] = 'display_data';\n",
              "          await google.colab.output.renderOutput(dataTable, element);\n",
              "          const docLink = document.createElement('div');\n",
              "          docLink.innerHTML = docLinkHtml;\n",
              "          element.appendChild(docLink);\n",
              "        }\n",
              "      </script>\n",
              "    </div>\n",
              "  </div>\n",
              "  "
            ]
          },
          "metadata": {}
        },
        {
          "output_type": "stream",
          "name": "stderr",
          "text": [
            "INFO:logs:create_model_container: 0\n",
            "INFO:logs:master_model_container: 0\n",
            "INFO:logs:display_container: 1\n",
            "INFO:logs:Pipeline(memory=None,\n",
            "         steps=[('dtypes',\n",
            "                 DataTypes_Auto_infer(categorical_features=[],\n",
            "                                      display_types=True, features_todrop=[],\n",
            "                                      id_columns=[], ml_usecase='regression',\n",
            "                                      numerical_features=[],\n",
            "                                      target='UNSUPERVISED_DUMMY_TARGET',\n",
            "                                      time_features=[])),\n",
            "                ('imputer',\n",
            "                 Simple_Imputer(categorical_strategy='most frequent',\n",
            "                                fill_value_categorical=None,\n",
            "                                fill_value_numerical=None...\n",
            "                ('P_transform', 'passthrough'), ('binn', 'passthrough'),\n",
            "                ('rem_outliers', 'passthrough'), ('cluster_all', 'passthrough'),\n",
            "                ('dummy', Dummify(target='UNSUPERVISED_DUMMY_TARGET')),\n",
            "                ('fix_perfect', 'passthrough'),\n",
            "                ('clean_names', Clean_Colum_Names()),\n",
            "                ('feature_select', 'passthrough'), ('fix_multi', 'passthrough'),\n",
            "                ('dfs', 'passthrough'), ('pca', 'passthrough')],\n",
            "         verbose=False)\n",
            "INFO:logs:setup() succesfully completed......................................\n"
          ]
        }
      ]
    },
    {
      "cell_type": "code",
      "source": [
        "# Model Options\n",
        "models()"
      ],
      "metadata": {
        "colab": {
          "base_uri": "https://localhost:8080/",
          "height": 381
        },
        "id": "zQvgW4o24EBQ",
        "outputId": "f1ce46dd-334b-45ef-8ba4-ac76d3153616"
      },
      "execution_count": 44,
      "outputs": [
        {
          "output_type": "stream",
          "name": "stderr",
          "text": [
            "INFO:logs:gpu_param set to False\n"
          ]
        },
        {
          "output_type": "execute_result",
          "data": {
            "text/plain": [
              "                                       Name  \\\n",
              "ID                                            \n",
              "kmeans                   K-Means Clustering   \n",
              "ap                     Affinity Propagation   \n",
              "meanshift             Mean Shift Clustering   \n",
              "sc                      Spectral Clustering   \n",
              "hclust             Agglomerative Clustering   \n",
              "dbscan     Density-Based Spatial Clustering   \n",
              "optics                    OPTICS Clustering   \n",
              "birch                      Birch Clustering   \n",
              "kmodes                   K-Modes Clustering   \n",
              "\n",
              "                                                   Reference  \n",
              "ID                                                            \n",
              "kmeans                        sklearn.cluster._kmeans.KMeans  \n",
              "ap         sklearn.cluster._affinity_propagation.Affinity...  \n",
              "meanshift              sklearn.cluster._mean_shift.MeanShift  \n",
              "sc              sklearn.cluster._spectral.SpectralClustering  \n",
              "hclust     sklearn.cluster._agglomerative.AgglomerativeCl...  \n",
              "dbscan                        sklearn.cluster._dbscan.DBSCAN  \n",
              "optics                        sklearn.cluster._optics.OPTICS  \n",
              "birch                           sklearn.cluster._birch.Birch  \n",
              "kmodes                                  kmodes.kmodes.KModes  "
            ],
            "text/html": [
              "\n",
              "  <div id=\"df-75d5aa0b-fb9d-46ff-b341-0e8d451c0408\">\n",
              "    <div class=\"colab-df-container\">\n",
              "      <div>\n",
              "<style scoped>\n",
              "    .dataframe tbody tr th:only-of-type {\n",
              "        vertical-align: middle;\n",
              "    }\n",
              "\n",
              "    .dataframe tbody tr th {\n",
              "        vertical-align: top;\n",
              "    }\n",
              "\n",
              "    .dataframe thead th {\n",
              "        text-align: right;\n",
              "    }\n",
              "</style>\n",
              "<table border=\"1\" class=\"dataframe\">\n",
              "  <thead>\n",
              "    <tr style=\"text-align: right;\">\n",
              "      <th></th>\n",
              "      <th>Name</th>\n",
              "      <th>Reference</th>\n",
              "    </tr>\n",
              "    <tr>\n",
              "      <th>ID</th>\n",
              "      <th></th>\n",
              "      <th></th>\n",
              "    </tr>\n",
              "  </thead>\n",
              "  <tbody>\n",
              "    <tr>\n",
              "      <th>kmeans</th>\n",
              "      <td>K-Means Clustering</td>\n",
              "      <td>sklearn.cluster._kmeans.KMeans</td>\n",
              "    </tr>\n",
              "    <tr>\n",
              "      <th>ap</th>\n",
              "      <td>Affinity Propagation</td>\n",
              "      <td>sklearn.cluster._affinity_propagation.Affinity...</td>\n",
              "    </tr>\n",
              "    <tr>\n",
              "      <th>meanshift</th>\n",
              "      <td>Mean Shift Clustering</td>\n",
              "      <td>sklearn.cluster._mean_shift.MeanShift</td>\n",
              "    </tr>\n",
              "    <tr>\n",
              "      <th>sc</th>\n",
              "      <td>Spectral Clustering</td>\n",
              "      <td>sklearn.cluster._spectral.SpectralClustering</td>\n",
              "    </tr>\n",
              "    <tr>\n",
              "      <th>hclust</th>\n",
              "      <td>Agglomerative Clustering</td>\n",
              "      <td>sklearn.cluster._agglomerative.AgglomerativeCl...</td>\n",
              "    </tr>\n",
              "    <tr>\n",
              "      <th>dbscan</th>\n",
              "      <td>Density-Based Spatial Clustering</td>\n",
              "      <td>sklearn.cluster._dbscan.DBSCAN</td>\n",
              "    </tr>\n",
              "    <tr>\n",
              "      <th>optics</th>\n",
              "      <td>OPTICS Clustering</td>\n",
              "      <td>sklearn.cluster._optics.OPTICS</td>\n",
              "    </tr>\n",
              "    <tr>\n",
              "      <th>birch</th>\n",
              "      <td>Birch Clustering</td>\n",
              "      <td>sklearn.cluster._birch.Birch</td>\n",
              "    </tr>\n",
              "    <tr>\n",
              "      <th>kmodes</th>\n",
              "      <td>K-Modes Clustering</td>\n",
              "      <td>kmodes.kmodes.KModes</td>\n",
              "    </tr>\n",
              "  </tbody>\n",
              "</table>\n",
              "</div>\n",
              "      <button class=\"colab-df-convert\" onclick=\"convertToInteractive('df-75d5aa0b-fb9d-46ff-b341-0e8d451c0408')\"\n",
              "              title=\"Convert this dataframe to an interactive table.\"\n",
              "              style=\"display:none;\">\n",
              "        \n",
              "  <svg xmlns=\"http://www.w3.org/2000/svg\" height=\"24px\"viewBox=\"0 0 24 24\"\n",
              "       width=\"24px\">\n",
              "    <path d=\"M0 0h24v24H0V0z\" fill=\"none\"/>\n",
              "    <path d=\"M18.56 5.44l.94 2.06.94-2.06 2.06-.94-2.06-.94-.94-2.06-.94 2.06-2.06.94zm-11 1L8.5 8.5l.94-2.06 2.06-.94-2.06-.94L8.5 2.5l-.94 2.06-2.06.94zm10 10l.94 2.06.94-2.06 2.06-.94-2.06-.94-.94-2.06-.94 2.06-2.06.94z\"/><path d=\"M17.41 7.96l-1.37-1.37c-.4-.4-.92-.59-1.43-.59-.52 0-1.04.2-1.43.59L10.3 9.45l-7.72 7.72c-.78.78-.78 2.05 0 2.83L4 21.41c.39.39.9.59 1.41.59.51 0 1.02-.2 1.41-.59l7.78-7.78 2.81-2.81c.8-.78.8-2.07 0-2.86zM5.41 20L4 18.59l7.72-7.72 1.47 1.35L5.41 20z\"/>\n",
              "  </svg>\n",
              "      </button>\n",
              "      \n",
              "  <style>\n",
              "    .colab-df-container {\n",
              "      display:flex;\n",
              "      flex-wrap:wrap;\n",
              "      gap: 12px;\n",
              "    }\n",
              "\n",
              "    .colab-df-convert {\n",
              "      background-color: #E8F0FE;\n",
              "      border: none;\n",
              "      border-radius: 50%;\n",
              "      cursor: pointer;\n",
              "      display: none;\n",
              "      fill: #1967D2;\n",
              "      height: 32px;\n",
              "      padding: 0 0 0 0;\n",
              "      width: 32px;\n",
              "    }\n",
              "\n",
              "    .colab-df-convert:hover {\n",
              "      background-color: #E2EBFA;\n",
              "      box-shadow: 0px 1px 2px rgba(60, 64, 67, 0.3), 0px 1px 3px 1px rgba(60, 64, 67, 0.15);\n",
              "      fill: #174EA6;\n",
              "    }\n",
              "\n",
              "    [theme=dark] .colab-df-convert {\n",
              "      background-color: #3B4455;\n",
              "      fill: #D2E3FC;\n",
              "    }\n",
              "\n",
              "    [theme=dark] .colab-df-convert:hover {\n",
              "      background-color: #434B5C;\n",
              "      box-shadow: 0px 1px 3px 1px rgba(0, 0, 0, 0.15);\n",
              "      filter: drop-shadow(0px 1px 2px rgba(0, 0, 0, 0.3));\n",
              "      fill: #FFFFFF;\n",
              "    }\n",
              "  </style>\n",
              "\n",
              "      <script>\n",
              "        const buttonEl =\n",
              "          document.querySelector('#df-75d5aa0b-fb9d-46ff-b341-0e8d451c0408 button.colab-df-convert');\n",
              "        buttonEl.style.display =\n",
              "          google.colab.kernel.accessAllowed ? 'block' : 'none';\n",
              "\n",
              "        async function convertToInteractive(key) {\n",
              "          const element = document.querySelector('#df-75d5aa0b-fb9d-46ff-b341-0e8d451c0408');\n",
              "          const dataTable =\n",
              "            await google.colab.kernel.invokeFunction('convertToInteractive',\n",
              "                                                     [key], {});\n",
              "          if (!dataTable) return;\n",
              "\n",
              "          const docLinkHtml = 'Like what you see? Visit the ' +\n",
              "            '<a target=\"_blank\" href=https://colab.research.google.com/notebooks/data_table.ipynb>data table notebook</a>'\n",
              "            + ' to learn more about interactive tables.';\n",
              "          element.innerHTML = '';\n",
              "          dataTable['output_type'] = 'display_data';\n",
              "          await google.colab.output.renderOutput(dataTable, element);\n",
              "          const docLink = document.createElement('div');\n",
              "          docLink.innerHTML = docLinkHtml;\n",
              "          element.appendChild(docLink);\n",
              "        }\n",
              "      </script>\n",
              "    </div>\n",
              "  </div>\n",
              "  "
            ]
          },
          "metadata": {},
          "execution_count": 44
        }
      ]
    },
    {
      "cell_type": "code",
      "source": [
        "cls_models = create_model('kmeans', num_clusters=5)"
      ],
      "metadata": {
        "colab": {
          "base_uri": "https://localhost:8080/",
          "height": 208,
          "referenced_widgets": [
            "2ca753751316499eb3e0a64492532f89",
            "cb42d988ece34335b63c9612f0fbd7bd",
            "06f16be015874ce8afc0d009e0c5a454"
          ]
        },
        "id": "tcVkdNS64aLp",
        "outputId": "96a9b604-8534-4179-c2d1-ac6bdd4be71d"
      },
      "execution_count": 57,
      "outputs": [
        {
          "output_type": "display_data",
          "data": {
            "text/plain": [
              "   Silhouette  Calinski-Harabasz  Davies-Bouldin  Homogeneity  Rand Index  \\\n",
              "0      0.3158            42.9704          0.9738            0           0   \n",
              "\n",
              "   Completeness  \n",
              "0             0  "
            ],
            "text/html": [
              "\n",
              "  <div id=\"df-21570d6d-3447-4693-abba-d0cb8de340ad\">\n",
              "    <div class=\"colab-df-container\">\n",
              "      <div>\n",
              "<style scoped>\n",
              "    .dataframe tbody tr th:only-of-type {\n",
              "        vertical-align: middle;\n",
              "    }\n",
              "\n",
              "    .dataframe tbody tr th {\n",
              "        vertical-align: top;\n",
              "    }\n",
              "\n",
              "    .dataframe thead th {\n",
              "        text-align: right;\n",
              "    }\n",
              "</style>\n",
              "<table border=\"1\" class=\"dataframe\">\n",
              "  <thead>\n",
              "    <tr style=\"text-align: right;\">\n",
              "      <th></th>\n",
              "      <th>Silhouette</th>\n",
              "      <th>Calinski-Harabasz</th>\n",
              "      <th>Davies-Bouldin</th>\n",
              "      <th>Homogeneity</th>\n",
              "      <th>Rand Index</th>\n",
              "      <th>Completeness</th>\n",
              "    </tr>\n",
              "  </thead>\n",
              "  <tbody>\n",
              "    <tr>\n",
              "      <th>0</th>\n",
              "      <td>0.3158</td>\n",
              "      <td>42.9704</td>\n",
              "      <td>0.9738</td>\n",
              "      <td>0</td>\n",
              "      <td>0</td>\n",
              "      <td>0</td>\n",
              "    </tr>\n",
              "  </tbody>\n",
              "</table>\n",
              "</div>\n",
              "      <button class=\"colab-df-convert\" onclick=\"convertToInteractive('df-21570d6d-3447-4693-abba-d0cb8de340ad')\"\n",
              "              title=\"Convert this dataframe to an interactive table.\"\n",
              "              style=\"display:none;\">\n",
              "        \n",
              "  <svg xmlns=\"http://www.w3.org/2000/svg\" height=\"24px\"viewBox=\"0 0 24 24\"\n",
              "       width=\"24px\">\n",
              "    <path d=\"M0 0h24v24H0V0z\" fill=\"none\"/>\n",
              "    <path d=\"M18.56 5.44l.94 2.06.94-2.06 2.06-.94-2.06-.94-.94-2.06-.94 2.06-2.06.94zm-11 1L8.5 8.5l.94-2.06 2.06-.94-2.06-.94L8.5 2.5l-.94 2.06-2.06.94zm10 10l.94 2.06.94-2.06 2.06-.94-2.06-.94-.94-2.06-.94 2.06-2.06.94z\"/><path d=\"M17.41 7.96l-1.37-1.37c-.4-.4-.92-.59-1.43-.59-.52 0-1.04.2-1.43.59L10.3 9.45l-7.72 7.72c-.78.78-.78 2.05 0 2.83L4 21.41c.39.39.9.59 1.41.59.51 0 1.02-.2 1.41-.59l7.78-7.78 2.81-2.81c.8-.78.8-2.07 0-2.86zM5.41 20L4 18.59l7.72-7.72 1.47 1.35L5.41 20z\"/>\n",
              "  </svg>\n",
              "      </button>\n",
              "      \n",
              "  <style>\n",
              "    .colab-df-container {\n",
              "      display:flex;\n",
              "      flex-wrap:wrap;\n",
              "      gap: 12px;\n",
              "    }\n",
              "\n",
              "    .colab-df-convert {\n",
              "      background-color: #E8F0FE;\n",
              "      border: none;\n",
              "      border-radius: 50%;\n",
              "      cursor: pointer;\n",
              "      display: none;\n",
              "      fill: #1967D2;\n",
              "      height: 32px;\n",
              "      padding: 0 0 0 0;\n",
              "      width: 32px;\n",
              "    }\n",
              "\n",
              "    .colab-df-convert:hover {\n",
              "      background-color: #E2EBFA;\n",
              "      box-shadow: 0px 1px 2px rgba(60, 64, 67, 0.3), 0px 1px 3px 1px rgba(60, 64, 67, 0.15);\n",
              "      fill: #174EA6;\n",
              "    }\n",
              "\n",
              "    [theme=dark] .colab-df-convert {\n",
              "      background-color: #3B4455;\n",
              "      fill: #D2E3FC;\n",
              "    }\n",
              "\n",
              "    [theme=dark] .colab-df-convert:hover {\n",
              "      background-color: #434B5C;\n",
              "      box-shadow: 0px 1px 3px 1px rgba(0, 0, 0, 0.15);\n",
              "      filter: drop-shadow(0px 1px 2px rgba(0, 0, 0, 0.3));\n",
              "      fill: #FFFFFF;\n",
              "    }\n",
              "  </style>\n",
              "\n",
              "      <script>\n",
              "        const buttonEl =\n",
              "          document.querySelector('#df-21570d6d-3447-4693-abba-d0cb8de340ad button.colab-df-convert');\n",
              "        buttonEl.style.display =\n",
              "          google.colab.kernel.accessAllowed ? 'block' : 'none';\n",
              "\n",
              "        async function convertToInteractive(key) {\n",
              "          const element = document.querySelector('#df-21570d6d-3447-4693-abba-d0cb8de340ad');\n",
              "          const dataTable =\n",
              "            await google.colab.kernel.invokeFunction('convertToInteractive',\n",
              "                                                     [key], {});\n",
              "          if (!dataTable) return;\n",
              "\n",
              "          const docLinkHtml = 'Like what you see? Visit the ' +\n",
              "            '<a target=\"_blank\" href=https://colab.research.google.com/notebooks/data_table.ipynb>data table notebook</a>'\n",
              "            + ' to learn more about interactive tables.';\n",
              "          element.innerHTML = '';\n",
              "          dataTable['output_type'] = 'display_data';\n",
              "          await google.colab.output.renderOutput(dataTable, element);\n",
              "          const docLink = document.createElement('div');\n",
              "          docLink.innerHTML = docLinkHtml;\n",
              "          element.appendChild(docLink);\n",
              "        }\n",
              "      </script>\n",
              "    </div>\n",
              "  </div>\n",
              "  "
            ]
          },
          "metadata": {}
        },
        {
          "output_type": "stream",
          "name": "stderr",
          "text": [
            "INFO:logs:create_model_container: 5\n",
            "INFO:logs:master_model_container: 5\n",
            "INFO:logs:display_container: 6\n",
            "INFO:logs:KMeans(algorithm='auto', copy_x=True, init='k-means++', max_iter=300,\n",
            "       n_clusters=5, n_init=10, n_jobs=-1, precompute_distances='deprecated',\n",
            "       random_state=123, tol=0.0001, verbose=0)\n",
            "INFO:logs:create_model() succesfully completed......................................\n"
          ]
        }
      ]
    },
    {
      "cell_type": "code",
      "source": [
        "print(cls_models)"
      ],
      "metadata": {
        "colab": {
          "base_uri": "https://localhost:8080/"
        },
        "id": "mYz6Zb9b4g8Y",
        "outputId": "587f0a63-e3d1-4407-b59c-74e57a54400d"
      },
      "execution_count": 58,
      "outputs": [
        {
          "output_type": "stream",
          "name": "stdout",
          "text": [
            "KMeans(algorithm='auto', copy_x=True, init='k-means++', max_iter=300,\n",
            "       n_clusters=5, n_init=10, n_jobs=-1, precompute_distances='deprecated',\n",
            "       random_state=123, tol=0.0001, verbose=0)\n"
          ]
        }
      ]
    },
    {
      "cell_type": "code",
      "source": [
        "kmean_results = assign_model(cls_models)\n",
        "kmean_results.head()"
      ],
      "metadata": {
        "colab": {
          "base_uri": "https://localhost:8080/",
          "height": 388
        },
        "id": "FC5a9CKh54ep",
        "outputId": "b5421dce-9347-4efa-fe5e-7cc70b3d65ab"
      },
      "execution_count": 59,
      "outputs": [
        {
          "output_type": "stream",
          "name": "stderr",
          "text": [
            "INFO:logs:Initializing assign_model()\n",
            "INFO:logs:assign_model(model=KMeans(algorithm='auto', copy_x=True, init='k-means++', max_iter=300,\n",
            "       n_clusters=5, n_init=10, n_jobs=-1, precompute_distances='deprecated',\n",
            "       random_state=123, tol=0.0001, verbose=0), transformation=False, score=True, verbose=True)\n",
            "INFO:logs:Checking exceptions\n",
            "INFO:logs:Determining Trained Model\n",
            "INFO:logs:Trained Model : K-Means Clustering\n",
            "INFO:logs:Copying data\n",
            "INFO:logs:(135, 10)\n",
            "INFO:logs:assign_model() succesfully completed......................................\n"
          ]
        },
        {
          "output_type": "execute_result",
          "data": {
            "text/plain": [
              "         a      b     c     d      e     f      g     h     i    Cluster\n",
              "0  1.51934  13.64  3.54  0.75  72.65  0.16   8.89  0.15  0.24  Cluster 1\n",
              "1  1.52043  13.38  0.00  1.40  72.25  0.33  12.50  0.00  0.00  Cluster 2\n",
              "2  1.51763  12.80  3.66  1.27  73.01  0.60   8.56  0.00  0.00  Cluster 0\n",
              "3  1.51747  12.84  3.50  1.14  73.27  0.56   8.55  0.00  0.00  Cluster 0\n",
              "4  1.52247  14.86  2.20  2.06  70.26  0.76   9.76  0.00  0.00  Cluster 1"
            ],
            "text/html": [
              "\n",
              "  <div id=\"df-8915517d-a1b9-4087-8e7e-a032b21bc411\">\n",
              "    <div class=\"colab-df-container\">\n",
              "      <div>\n",
              "<style scoped>\n",
              "    .dataframe tbody tr th:only-of-type {\n",
              "        vertical-align: middle;\n",
              "    }\n",
              "\n",
              "    .dataframe tbody tr th {\n",
              "        vertical-align: top;\n",
              "    }\n",
              "\n",
              "    .dataframe thead th {\n",
              "        text-align: right;\n",
              "    }\n",
              "</style>\n",
              "<table border=\"1\" class=\"dataframe\">\n",
              "  <thead>\n",
              "    <tr style=\"text-align: right;\">\n",
              "      <th></th>\n",
              "      <th>a</th>\n",
              "      <th>b</th>\n",
              "      <th>c</th>\n",
              "      <th>d</th>\n",
              "      <th>e</th>\n",
              "      <th>f</th>\n",
              "      <th>g</th>\n",
              "      <th>h</th>\n",
              "      <th>i</th>\n",
              "      <th>Cluster</th>\n",
              "    </tr>\n",
              "  </thead>\n",
              "  <tbody>\n",
              "    <tr>\n",
              "      <th>0</th>\n",
              "      <td>1.51934</td>\n",
              "      <td>13.64</td>\n",
              "      <td>3.54</td>\n",
              "      <td>0.75</td>\n",
              "      <td>72.65</td>\n",
              "      <td>0.16</td>\n",
              "      <td>8.89</td>\n",
              "      <td>0.15</td>\n",
              "      <td>0.24</td>\n",
              "      <td>Cluster 1</td>\n",
              "    </tr>\n",
              "    <tr>\n",
              "      <th>1</th>\n",
              "      <td>1.52043</td>\n",
              "      <td>13.38</td>\n",
              "      <td>0.00</td>\n",
              "      <td>1.40</td>\n",
              "      <td>72.25</td>\n",
              "      <td>0.33</td>\n",
              "      <td>12.50</td>\n",
              "      <td>0.00</td>\n",
              "      <td>0.00</td>\n",
              "      <td>Cluster 2</td>\n",
              "    </tr>\n",
              "    <tr>\n",
              "      <th>2</th>\n",
              "      <td>1.51763</td>\n",
              "      <td>12.80</td>\n",
              "      <td>3.66</td>\n",
              "      <td>1.27</td>\n",
              "      <td>73.01</td>\n",
              "      <td>0.60</td>\n",
              "      <td>8.56</td>\n",
              "      <td>0.00</td>\n",
              "      <td>0.00</td>\n",
              "      <td>Cluster 0</td>\n",
              "    </tr>\n",
              "    <tr>\n",
              "      <th>3</th>\n",
              "      <td>1.51747</td>\n",
              "      <td>12.84</td>\n",
              "      <td>3.50</td>\n",
              "      <td>1.14</td>\n",
              "      <td>73.27</td>\n",
              "      <td>0.56</td>\n",
              "      <td>8.55</td>\n",
              "      <td>0.00</td>\n",
              "      <td>0.00</td>\n",
              "      <td>Cluster 0</td>\n",
              "    </tr>\n",
              "    <tr>\n",
              "      <th>4</th>\n",
              "      <td>1.52247</td>\n",
              "      <td>14.86</td>\n",
              "      <td>2.20</td>\n",
              "      <td>2.06</td>\n",
              "      <td>70.26</td>\n",
              "      <td>0.76</td>\n",
              "      <td>9.76</td>\n",
              "      <td>0.00</td>\n",
              "      <td>0.00</td>\n",
              "      <td>Cluster 1</td>\n",
              "    </tr>\n",
              "  </tbody>\n",
              "</table>\n",
              "</div>\n",
              "      <button class=\"colab-df-convert\" onclick=\"convertToInteractive('df-8915517d-a1b9-4087-8e7e-a032b21bc411')\"\n",
              "              title=\"Convert this dataframe to an interactive table.\"\n",
              "              style=\"display:none;\">\n",
              "        \n",
              "  <svg xmlns=\"http://www.w3.org/2000/svg\" height=\"24px\"viewBox=\"0 0 24 24\"\n",
              "       width=\"24px\">\n",
              "    <path d=\"M0 0h24v24H0V0z\" fill=\"none\"/>\n",
              "    <path d=\"M18.56 5.44l.94 2.06.94-2.06 2.06-.94-2.06-.94-.94-2.06-.94 2.06-2.06.94zm-11 1L8.5 8.5l.94-2.06 2.06-.94-2.06-.94L8.5 2.5l-.94 2.06-2.06.94zm10 10l.94 2.06.94-2.06 2.06-.94-2.06-.94-.94-2.06-.94 2.06-2.06.94z\"/><path d=\"M17.41 7.96l-1.37-1.37c-.4-.4-.92-.59-1.43-.59-.52 0-1.04.2-1.43.59L10.3 9.45l-7.72 7.72c-.78.78-.78 2.05 0 2.83L4 21.41c.39.39.9.59 1.41.59.51 0 1.02-.2 1.41-.59l7.78-7.78 2.81-2.81c.8-.78.8-2.07 0-2.86zM5.41 20L4 18.59l7.72-7.72 1.47 1.35L5.41 20z\"/>\n",
              "  </svg>\n",
              "      </button>\n",
              "      \n",
              "  <style>\n",
              "    .colab-df-container {\n",
              "      display:flex;\n",
              "      flex-wrap:wrap;\n",
              "      gap: 12px;\n",
              "    }\n",
              "\n",
              "    .colab-df-convert {\n",
              "      background-color: #E8F0FE;\n",
              "      border: none;\n",
              "      border-radius: 50%;\n",
              "      cursor: pointer;\n",
              "      display: none;\n",
              "      fill: #1967D2;\n",
              "      height: 32px;\n",
              "      padding: 0 0 0 0;\n",
              "      width: 32px;\n",
              "    }\n",
              "\n",
              "    .colab-df-convert:hover {\n",
              "      background-color: #E2EBFA;\n",
              "      box-shadow: 0px 1px 2px rgba(60, 64, 67, 0.3), 0px 1px 3px 1px rgba(60, 64, 67, 0.15);\n",
              "      fill: #174EA6;\n",
              "    }\n",
              "\n",
              "    [theme=dark] .colab-df-convert {\n",
              "      background-color: #3B4455;\n",
              "      fill: #D2E3FC;\n",
              "    }\n",
              "\n",
              "    [theme=dark] .colab-df-convert:hover {\n",
              "      background-color: #434B5C;\n",
              "      box-shadow: 0px 1px 3px 1px rgba(0, 0, 0, 0.15);\n",
              "      filter: drop-shadow(0px 1px 2px rgba(0, 0, 0, 0.3));\n",
              "      fill: #FFFFFF;\n",
              "    }\n",
              "  </style>\n",
              "\n",
              "      <script>\n",
              "        const buttonEl =\n",
              "          document.querySelector('#df-8915517d-a1b9-4087-8e7e-a032b21bc411 button.colab-df-convert');\n",
              "        buttonEl.style.display =\n",
              "          google.colab.kernel.accessAllowed ? 'block' : 'none';\n",
              "\n",
              "        async function convertToInteractive(key) {\n",
              "          const element = document.querySelector('#df-8915517d-a1b9-4087-8e7e-a032b21bc411');\n",
              "          const dataTable =\n",
              "            await google.colab.kernel.invokeFunction('convertToInteractive',\n",
              "                                                     [key], {});\n",
              "          if (!dataTable) return;\n",
              "\n",
              "          const docLinkHtml = 'Like what you see? Visit the ' +\n",
              "            '<a target=\"_blank\" href=https://colab.research.google.com/notebooks/data_table.ipynb>data table notebook</a>'\n",
              "            + ' to learn more about interactive tables.';\n",
              "          element.innerHTML = '';\n",
              "          dataTable['output_type'] = 'display_data';\n",
              "          await google.colab.output.renderOutput(dataTable, element);\n",
              "          const docLink = document.createElement('div');\n",
              "          docLink.innerHTML = docLinkHtml;\n",
              "          element.appendChild(docLink);\n",
              "        }\n",
              "      </script>\n",
              "    </div>\n",
              "  </div>\n",
              "  "
            ]
          },
          "metadata": {},
          "execution_count": 59
        }
      ]
    },
    {
      "cell_type": "code",
      "source": [
        "# plot model\n",
        "plot_model(cls_models)"
      ],
      "metadata": {
        "colab": {
          "base_uri": "https://localhost:8080/",
          "height": 672
        },
        "id": "PVP42mTr6Plt",
        "outputId": "3a5c8430-5fe8-4187-9368-7659ad611b44"
      },
      "execution_count": 60,
      "outputs": [
        {
          "output_type": "stream",
          "name": "stderr",
          "text": [
            "INFO:logs:Rendering Visual\n"
          ]
        },
        {
          "output_type": "display_data",
          "data": {
            "text/html": [
              "<html>\n",
              "<head><meta charset=\"utf-8\" /></head>\n",
              "<body>\n",
              "    <div>            <script src=\"https://cdnjs.cloudflare.com/ajax/libs/mathjax/2.7.5/MathJax.js?config=TeX-AMS-MML_SVG\"></script><script type=\"text/javascript\">if (window.MathJax) {MathJax.Hub.Config({SVG: {font: \"STIX-Web\"}});}</script>                <script type=\"text/javascript\">window.PlotlyConfig = {MathJaxConfig: 'local'};</script>\n",
              "        <script src=\"https://cdn.plot.ly/plotly-2.8.3.min.js\"></script>                <div id=\"902d9b4c-9cc8-4a8a-9211-ca473688f8de\" class=\"plotly-graph-div\" style=\"height:600px; width:100%;\"></div>            <script type=\"text/javascript\">                                    window.PLOTLYENV=window.PLOTLYENV || {};                                    if (document.getElementById(\"902d9b4c-9cc8-4a8a-9211-ca473688f8de\")) {                    Plotly.newPlot(                        \"902d9b4c-9cc8-4a8a-9211-ca473688f8de\",                        [{\"customdata\":[[1.51652],[1.51708],[1.51808],[1.51646],[1.51793],[1.51596],[1.51735],[1.51687],[1.51655],[1.51811],[1.51592],[1.51756],[1.5161],[1.51892],[1.51674],[1.51754],[1.51625],[1.51797],[1.51784],[1.52058],[1.51596],[1.51775],[1.51811],[1.51789],[1.5182],[1.51646],[1.51841],[1.51841],[1.5169],[1.51653],[1.51709],[1.51689],[1.51721],[1.51643],[1.51764],[1.51824],[1.51593],[1.51806],[1.51742],[1.51779],[1.51769],[1.51605],[1.51569],[1.51769],[1.51674],[1.51755],[1.51846],[1.51847],[1.51645],[1.51673],[1.51747],[1.51763],[1.51779],[1.51299],[1.5186],[1.51839],[1.51409],[1.51786],[1.51571],[1.51851],[1.51761],[1.51613],[1.51783],[1.518],[1.51736],[1.5159],[1.51766],[1.51594],[1.51662],[1.51567],[1.51872],[1.51753],[1.51707]],\"hovertemplate\":\"Cluster=Cluster 0<br>PCA1=%{x}<br>PCA2=%{y}<br>Feature=%{customdata[0]}<extra></extra>\",\"legendgroup\":\"Cluster 0\",\"marker\":{\"color\":\"#636efa\",\"opacity\":0.5,\"symbol\":\"circle\"},\"mode\":\"markers\",\"name\":\"Cluster 0\",\"orientation\":\"v\",\"showlegend\":true,\"x\":[-0.48496213555336,-0.5972811579704285,0.14456717669963837,-0.35984766483306885,0.3454217314720154,-0.18516851961612701,-0.1784408539533615,-0.41135838627815247,-0.1367201954126358,-0.1263054460287094,-0.9938868284225464,0.005185153800994158,-0.2936778962612152,0.45784005522727966,-0.6048349142074585,-0.17201538383960724,-0.4680153727531433,0.16861632466316223,0.3164312243461609,0.7069070935249329,-0.736847460269928,0.41510826349258423,0.05200111120939255,0.7318682074546814,0.8502761125564575,-0.16141678392887115,1.1162551641464233,1.0237610340118408,-0.46093693375587463,-1.4047168493270874,-0.5197527408599854,-0.5554104447364807,-0.08065041154623032,0.1215544119477272,0.09290613234043121,0.15956838428974152,-0.7605322599411011,0.4477555751800537,-0.20994378626346588,0.616766095161438,0.18061430752277374,-0.432675302028656,-0.7620314955711365,0.37475350499153137,-0.608330249786377,0.10388168692588806,0.22424806654453278,0.4764344394207001,-0.38660869002342224,0.04820135235786438,0.0888013020157814,0.13897138833999634,0.029674990102648735,-2.546729564666748,0.24850763380527496,1.0321259498596191,-2.0491392612457275,0.7873135209083557,-0.2951176166534424,0.5209241509437561,-0.4321778416633606,-0.4003865420818329,0.2193826586008072,0.28886520862579346,0.20469172298908234,-0.637164831161499,0.04423854872584343,-0.49425846338272095,-0.006508317310363054,-0.24485445022583008,0.41208696365356445,0.024189846590161324,-0.597908616065979],\"xaxis\":\"x\",\"y\":[-1.0172594785690308,-0.8776647448539734,-0.26544398069381714,-1.1042125225067139,-0.9124876856803894,-1.545407772064209,-0.8937092423439026,-0.9896527528762817,-0.7423238158226013,-0.385088711977005,-1.1926673650741577,-1.029463529586792,-0.9629279375076294,-0.921311616897583,-1.1972298622131348,-1.0168408155441284,-0.9273726344108582,-0.8924587965011597,-1.0256942510604858,0.41859421133995056,-1.3325167894363403,-1.0484615564346313,-0.9495874047279358,-1.1923104524612427,-0.5274706482887268,-0.9209555387496948,-1.0267000198364258,-0.8403887152671814,-0.983331561088562,-1.2032617330551147,-0.9746331572532654,-0.8328143358230591,-0.9798068404197693,-1.3008772134780884,-0.9609872698783875,-0.8880435824394226,-1.1875698566436768,-1.14357590675354,-1.0057307481765747,-0.40197840332984924,-0.44260409474372864,-1.0466853380203247,-1.0341370105743408,-0.8006559014320374,-1.2728729248046875,-1.0498663187026978,-0.8099348545074463,-0.9852768778800964,-1.1121351718902588,-1.3466993570327759,-0.975695013999939,-1.018248200416565,-0.7161073684692383,-0.19834551215171814,-0.4987289309501648,-1.2057206630706787,-1.3016573190689087,-1.163525938987732,-1.5522913932800293,-0.9090298414230347,-0.7628732919692993,-0.9530313014984131,-0.8871955275535583,-0.8951398730278015,-0.9803497195243835,-0.8901853561401367,-0.9664698243141174,-1.296822428703308,-1.3543802499771118,-0.9813819527626038,-0.8672088384628296,-1.0763198137283325,-0.8679213523864746],\"yaxis\":\"y\",\"type\":\"scatter\",\"textposition\":\"top center\"},{\"customdata\":[[1.5221],[1.51934],[1.519],[1.52196],[1.51911],[1.51905],[1.51909],[1.51969],[1.51966],[1.51852],[1.51888],[1.51937],[1.52099],[1.52177],[1.52667],[1.52211],[1.52213],[1.52223],[1.52068],[1.52172],[1.51918],[1.52213],[1.51829],[1.52152],[1.52315],[1.52081],[1.52247],[1.52127],[1.51977],[1.52152],[1.523],[1.52177],[1.52121],[1.52152],[1.51905],[1.5232]],\"hovertemplate\":\"Cluster=Cluster 1<br>PCA1=%{x}<br>PCA2=%{y}<br>Feature=%{customdata[0]}<extra></extra>\",\"legendgroup\":\"Cluster 1\",\"marker\":{\"color\":\"#EF553B\",\"opacity\":0.5,\"symbol\":\"circle\"},\"mode\":\"markers\",\"name\":\"Cluster 1\",\"orientation\":\"v\",\"showlegend\":true,\"x\":[1.9945249557495117,1.108774185180664,0.5756927132606506,1.580763816833496,0.6321553587913513,0.519365668296814,0.3636239767074585,0.6083015203475952,1.261615514755249,-0.27444690465927124,-0.5833104252815247,0.5221499800682068,1.2699298858642578,1.1398977041244507,2.9620649814605713,2.2030441761016846,1.9963241815567017,2.136786937713623,0.4200064539909363,1.8213881254196167,0.14606066048145294,1.9963241815567017,-0.3124489188194275,2.061140298843384,1.1680387258529663,1.036516785621643,0.6912544369697571,1.6103140115737915,0.0070543852634727955,2.100314140319824,2.2701597213745117,0.9179675579071045,1.8138009309768677,2.012709379196167,0.1582324504852295,2.7173807621002197],\"xaxis\":\"x\",\"y\":[0.3148033320903778,-0.29657840728759766,-0.32843732833862305,0.37634679675102234,-0.057963933795690536,-0.24388504028320312,-0.14869342744350433,2.339614152908325,0.15249548852443695,0.8191776871681213,1.9581942558288574,0.7691715359687805,0.2894260287284851,1.899415135383606,1.0317449569702148,-0.0237128846347332,0.4141817092895508,0.3054662048816681,0.8044797778129578,0.14486797153949738,-0.39136797189712524,0.4141817092895508,0.8773526549339294,-0.024510620161890984,0.0822736844420433,0.6381456255912781,1.3893619775772095,0.4461829662322998,0.6252709627151489,-0.022550323978066444,0.5418546199798584,-0.3923654556274414,0.31679242849349976,0.011920585297048092,0.8388587236404419,0.4482952356338501],\"yaxis\":\"y\",\"type\":\"scatter\",\"textposition\":\"top center\"},{\"customdata\":[[1.52777],[1.52475],[1.52369],[1.51994],[1.52739],[1.52664],[1.52043],[1.52614]],\"hovertemplate\":\"Cluster=Cluster 2<br>PCA1=%{x}<br>PCA2=%{y}<br>Feature=%{customdata[0]}<extra></extra>\",\"legendgroup\":\"Cluster 2\",\"marker\":{\"color\":\"#00cc96\",\"opacity\":0.5,\"symbol\":\"circle\"},\"mode\":\"markers\",\"name\":\"Cluster 2\",\"orientation\":\"v\",\"showlegend\":true,\"x\":[4.0995612144470215,2.939981698989868,1.5479075908660889,0.19096329808235168,4.322745323181152,3.96596097946167,1.2239618301391602,2.9816222190856934],\"xaxis\":\"x\",\"y\":[3.713685989379883,2.0713207721710205,2.8383195400238037,1.9614183902740479,3.324296474456787,3.216677188873291,2.4659504890441895,3.5746102333068848],\"yaxis\":\"y\",\"type\":\"scatter\",\"textposition\":\"top center\"},{\"customdata\":[[1.51545],[1.52065],[1.51623],[1.51685],[1.51508],[1.51617],[1.51602],[1.51115],[1.51131],[1.51609],[1.51727],[1.51838],[1.5164],[1.51711],[1.51719],[1.51514],[1.51732]],\"hovertemplate\":\"Cluster=Cluster 3<br>PCA1=%{x}<br>PCA2=%{y}<br>Feature=%{customdata[0]}<extra></extra>\",\"legendgroup\":\"Cluster 3\",\"marker\":{\"color\":\"#ab63fa\",\"opacity\":0.5,\"symbol\":\"circle\"},\"mode\":\"markers\",\"name\":\"Cluster 3\",\"orientation\":\"v\",\"showlegend\":true,\"x\":[-2.968792676925659,-2.8873825073242188,-2.7013590335845947,-3.5457000732421875,-3.368170976638794,-2.978776216506958,-2.8692808151245117,-3.797586679458618,-4.112112522125244,-2.958198070526123,-2.669450044631958,-3.144808769226074,-2.6108107566833496,-3.4597911834716797,-3.2538094520568848,-3.3948214054107666,-3.180619239807129],\"xaxis\":\"x\",\"y\":[1.9425379037857056,3.3344452381134033,1.8614299297332764,3.0151467323303223,2.017195224761963,2.246980905532837,2.1260879039764404,0.6907990574836731,-1.7735371589660645,2.19810152053833,2.3785905838012695,0.1032390221953392,2.3151638507843018,2.9691483974456787,2.9694950580596924,1.9062724113464355,3.0714666843414307],\"yaxis\":\"y\",\"type\":\"scatter\",\"textposition\":\"top center\"},{\"customdata\":[[1.51316]],\"hovertemplate\":\"Cluster=Cluster 4<br>PCA1=%{x}<br>PCA2=%{y}<br>Feature=%{customdata[0]}<extra></extra>\",\"legendgroup\":\"Cluster 4\",\"marker\":{\"color\":\"#FFA15A\",\"opacity\":0.5,\"symbol\":\"circle\"},\"mode\":\"markers\",\"name\":\"Cluster 4\",\"orientation\":\"v\",\"showlegend\":true,\"x\":[-3.448786735534668],\"xaxis\":\"x\",\"y\":[-3.4575297832489014],\"yaxis\":\"y\",\"type\":\"scatter\",\"textposition\":\"top center\"}],                        {\"template\":{\"data\":{\"bar\":[{\"error_x\":{\"color\":\"#2a3f5f\"},\"error_y\":{\"color\":\"#2a3f5f\"},\"marker\":{\"line\":{\"color\":\"#E5ECF6\",\"width\":0.5},\"pattern\":{\"fillmode\":\"overlay\",\"size\":10,\"solidity\":0.2}},\"type\":\"bar\"}],\"barpolar\":[{\"marker\":{\"line\":{\"color\":\"#E5ECF6\",\"width\":0.5},\"pattern\":{\"fillmode\":\"overlay\",\"size\":10,\"solidity\":0.2}},\"type\":\"barpolar\"}],\"carpet\":[{\"aaxis\":{\"endlinecolor\":\"#2a3f5f\",\"gridcolor\":\"white\",\"linecolor\":\"white\",\"minorgridcolor\":\"white\",\"startlinecolor\":\"#2a3f5f\"},\"baxis\":{\"endlinecolor\":\"#2a3f5f\",\"gridcolor\":\"white\",\"linecolor\":\"white\",\"minorgridcolor\":\"white\",\"startlinecolor\":\"#2a3f5f\"},\"type\":\"carpet\"}],\"choropleth\":[{\"colorbar\":{\"outlinewidth\":0,\"ticks\":\"\"},\"type\":\"choropleth\"}],\"contour\":[{\"colorbar\":{\"outlinewidth\":0,\"ticks\":\"\"},\"colorscale\":[[0.0,\"#0d0887\"],[0.1111111111111111,\"#46039f\"],[0.2222222222222222,\"#7201a8\"],[0.3333333333333333,\"#9c179e\"],[0.4444444444444444,\"#bd3786\"],[0.5555555555555556,\"#d8576b\"],[0.6666666666666666,\"#ed7953\"],[0.7777777777777778,\"#fb9f3a\"],[0.8888888888888888,\"#fdca26\"],[1.0,\"#f0f921\"]],\"type\":\"contour\"}],\"contourcarpet\":[{\"colorbar\":{\"outlinewidth\":0,\"ticks\":\"\"},\"type\":\"contourcarpet\"}],\"heatmap\":[{\"colorbar\":{\"outlinewidth\":0,\"ticks\":\"\"},\"colorscale\":[[0.0,\"#0d0887\"],[0.1111111111111111,\"#46039f\"],[0.2222222222222222,\"#7201a8\"],[0.3333333333333333,\"#9c179e\"],[0.4444444444444444,\"#bd3786\"],[0.5555555555555556,\"#d8576b\"],[0.6666666666666666,\"#ed7953\"],[0.7777777777777778,\"#fb9f3a\"],[0.8888888888888888,\"#fdca26\"],[1.0,\"#f0f921\"]],\"type\":\"heatmap\"}],\"heatmapgl\":[{\"colorbar\":{\"outlinewidth\":0,\"ticks\":\"\"},\"colorscale\":[[0.0,\"#0d0887\"],[0.1111111111111111,\"#46039f\"],[0.2222222222222222,\"#7201a8\"],[0.3333333333333333,\"#9c179e\"],[0.4444444444444444,\"#bd3786\"],[0.5555555555555556,\"#d8576b\"],[0.6666666666666666,\"#ed7953\"],[0.7777777777777778,\"#fb9f3a\"],[0.8888888888888888,\"#fdca26\"],[1.0,\"#f0f921\"]],\"type\":\"heatmapgl\"}],\"histogram\":[{\"marker\":{\"pattern\":{\"fillmode\":\"overlay\",\"size\":10,\"solidity\":0.2}},\"type\":\"histogram\"}],\"histogram2d\":[{\"colorbar\":{\"outlinewidth\":0,\"ticks\":\"\"},\"colorscale\":[[0.0,\"#0d0887\"],[0.1111111111111111,\"#46039f\"],[0.2222222222222222,\"#7201a8\"],[0.3333333333333333,\"#9c179e\"],[0.4444444444444444,\"#bd3786\"],[0.5555555555555556,\"#d8576b\"],[0.6666666666666666,\"#ed7953\"],[0.7777777777777778,\"#fb9f3a\"],[0.8888888888888888,\"#fdca26\"],[1.0,\"#f0f921\"]],\"type\":\"histogram2d\"}],\"histogram2dcontour\":[{\"colorbar\":{\"outlinewidth\":0,\"ticks\":\"\"},\"colorscale\":[[0.0,\"#0d0887\"],[0.1111111111111111,\"#46039f\"],[0.2222222222222222,\"#7201a8\"],[0.3333333333333333,\"#9c179e\"],[0.4444444444444444,\"#bd3786\"],[0.5555555555555556,\"#d8576b\"],[0.6666666666666666,\"#ed7953\"],[0.7777777777777778,\"#fb9f3a\"],[0.8888888888888888,\"#fdca26\"],[1.0,\"#f0f921\"]],\"type\":\"histogram2dcontour\"}],\"mesh3d\":[{\"colorbar\":{\"outlinewidth\":0,\"ticks\":\"\"},\"type\":\"mesh3d\"}],\"parcoords\":[{\"line\":{\"colorbar\":{\"outlinewidth\":0,\"ticks\":\"\"}},\"type\":\"parcoords\"}],\"pie\":[{\"automargin\":true,\"type\":\"pie\"}],\"scatter\":[{\"marker\":{\"colorbar\":{\"outlinewidth\":0,\"ticks\":\"\"}},\"type\":\"scatter\"}],\"scatter3d\":[{\"line\":{\"colorbar\":{\"outlinewidth\":0,\"ticks\":\"\"}},\"marker\":{\"colorbar\":{\"outlinewidth\":0,\"ticks\":\"\"}},\"type\":\"scatter3d\"}],\"scattercarpet\":[{\"marker\":{\"colorbar\":{\"outlinewidth\":0,\"ticks\":\"\"}},\"type\":\"scattercarpet\"}],\"scattergeo\":[{\"marker\":{\"colorbar\":{\"outlinewidth\":0,\"ticks\":\"\"}},\"type\":\"scattergeo\"}],\"scattergl\":[{\"marker\":{\"colorbar\":{\"outlinewidth\":0,\"ticks\":\"\"}},\"type\":\"scattergl\"}],\"scattermapbox\":[{\"marker\":{\"colorbar\":{\"outlinewidth\":0,\"ticks\":\"\"}},\"type\":\"scattermapbox\"}],\"scatterpolar\":[{\"marker\":{\"colorbar\":{\"outlinewidth\":0,\"ticks\":\"\"}},\"type\":\"scatterpolar\"}],\"scatterpolargl\":[{\"marker\":{\"colorbar\":{\"outlinewidth\":0,\"ticks\":\"\"}},\"type\":\"scatterpolargl\"}],\"scatterternary\":[{\"marker\":{\"colorbar\":{\"outlinewidth\":0,\"ticks\":\"\"}},\"type\":\"scatterternary\"}],\"surface\":[{\"colorbar\":{\"outlinewidth\":0,\"ticks\":\"\"},\"colorscale\":[[0.0,\"#0d0887\"],[0.1111111111111111,\"#46039f\"],[0.2222222222222222,\"#7201a8\"],[0.3333333333333333,\"#9c179e\"],[0.4444444444444444,\"#bd3786\"],[0.5555555555555556,\"#d8576b\"],[0.6666666666666666,\"#ed7953\"],[0.7777777777777778,\"#fb9f3a\"],[0.8888888888888888,\"#fdca26\"],[1.0,\"#f0f921\"]],\"type\":\"surface\"}],\"table\":[{\"cells\":{\"fill\":{\"color\":\"#EBF0F8\"},\"line\":{\"color\":\"white\"}},\"header\":{\"fill\":{\"color\":\"#C8D4E3\"},\"line\":{\"color\":\"white\"}},\"type\":\"table\"}]},\"layout\":{\"annotationdefaults\":{\"arrowcolor\":\"#2a3f5f\",\"arrowhead\":0,\"arrowwidth\":1},\"autotypenumbers\":\"strict\",\"coloraxis\":{\"colorbar\":{\"outlinewidth\":0,\"ticks\":\"\"}},\"colorscale\":{\"diverging\":[[0,\"#8e0152\"],[0.1,\"#c51b7d\"],[0.2,\"#de77ae\"],[0.3,\"#f1b6da\"],[0.4,\"#fde0ef\"],[0.5,\"#f7f7f7\"],[0.6,\"#e6f5d0\"],[0.7,\"#b8e186\"],[0.8,\"#7fbc41\"],[0.9,\"#4d9221\"],[1,\"#276419\"]],\"sequential\":[[0.0,\"#0d0887\"],[0.1111111111111111,\"#46039f\"],[0.2222222222222222,\"#7201a8\"],[0.3333333333333333,\"#9c179e\"],[0.4444444444444444,\"#bd3786\"],[0.5555555555555556,\"#d8576b\"],[0.6666666666666666,\"#ed7953\"],[0.7777777777777778,\"#fb9f3a\"],[0.8888888888888888,\"#fdca26\"],[1.0,\"#f0f921\"]],\"sequentialminus\":[[0.0,\"#0d0887\"],[0.1111111111111111,\"#46039f\"],[0.2222222222222222,\"#7201a8\"],[0.3333333333333333,\"#9c179e\"],[0.4444444444444444,\"#bd3786\"],[0.5555555555555556,\"#d8576b\"],[0.6666666666666666,\"#ed7953\"],[0.7777777777777778,\"#fb9f3a\"],[0.8888888888888888,\"#fdca26\"],[1.0,\"#f0f921\"]]},\"colorway\":[\"#636efa\",\"#EF553B\",\"#00cc96\",\"#ab63fa\",\"#FFA15A\",\"#19d3f3\",\"#FF6692\",\"#B6E880\",\"#FF97FF\",\"#FECB52\"],\"font\":{\"color\":\"#2a3f5f\"},\"geo\":{\"bgcolor\":\"white\",\"lakecolor\":\"white\",\"landcolor\":\"#E5ECF6\",\"showlakes\":true,\"showland\":true,\"subunitcolor\":\"white\"},\"hoverlabel\":{\"align\":\"left\"},\"hovermode\":\"closest\",\"mapbox\":{\"style\":\"light\"},\"paper_bgcolor\":\"white\",\"plot_bgcolor\":\"#E5ECF6\",\"polar\":{\"angularaxis\":{\"gridcolor\":\"white\",\"linecolor\":\"white\",\"ticks\":\"\"},\"bgcolor\":\"#E5ECF6\",\"radialaxis\":{\"gridcolor\":\"white\",\"linecolor\":\"white\",\"ticks\":\"\"}},\"scene\":{\"xaxis\":{\"backgroundcolor\":\"#E5ECF6\",\"gridcolor\":\"white\",\"gridwidth\":2,\"linecolor\":\"white\",\"showbackground\":true,\"ticks\":\"\",\"zerolinecolor\":\"white\"},\"yaxis\":{\"backgroundcolor\":\"#E5ECF6\",\"gridcolor\":\"white\",\"gridwidth\":2,\"linecolor\":\"white\",\"showbackground\":true,\"ticks\":\"\",\"zerolinecolor\":\"white\"},\"zaxis\":{\"backgroundcolor\":\"#E5ECF6\",\"gridcolor\":\"white\",\"gridwidth\":2,\"linecolor\":\"white\",\"showbackground\":true,\"ticks\":\"\",\"zerolinecolor\":\"white\"}},\"shapedefaults\":{\"line\":{\"color\":\"#2a3f5f\"}},\"ternary\":{\"aaxis\":{\"gridcolor\":\"white\",\"linecolor\":\"white\",\"ticks\":\"\"},\"baxis\":{\"gridcolor\":\"white\",\"linecolor\":\"white\",\"ticks\":\"\"},\"bgcolor\":\"#E5ECF6\",\"caxis\":{\"gridcolor\":\"white\",\"linecolor\":\"white\",\"ticks\":\"\"}},\"title\":{\"x\":0.05},\"xaxis\":{\"automargin\":true,\"gridcolor\":\"white\",\"linecolor\":\"white\",\"ticks\":\"\",\"title\":{\"standoff\":15},\"zerolinecolor\":\"white\",\"zerolinewidth\":2},\"yaxis\":{\"automargin\":true,\"gridcolor\":\"white\",\"linecolor\":\"white\",\"ticks\":\"\",\"title\":{\"standoff\":15},\"zerolinecolor\":\"white\",\"zerolinewidth\":2}}},\"xaxis\":{\"anchor\":\"y\",\"domain\":[0.0,1.0],\"title\":{\"text\":\"PCA1\"}},\"yaxis\":{\"anchor\":\"x\",\"domain\":[0.0,1.0],\"title\":{\"text\":\"PCA2\"}},\"legend\":{\"title\":{\"text\":\"Cluster\"},\"tracegroupgap\":0},\"margin\":{\"t\":60},\"plot_bgcolor\":\"rgb(240,240,240)\",\"title\":{\"text\":\"2D Cluster PCA Plot\"},\"height\":600},                        {\"responsive\": true}                    ).then(function(){\n",
              "                            \n",
              "var gd = document.getElementById('902d9b4c-9cc8-4a8a-9211-ca473688f8de');\n",
              "var x = new MutationObserver(function (mutations, observer) {{\n",
              "        var display = window.getComputedStyle(gd).display;\n",
              "        if (!display || display === 'none') {{\n",
              "            console.log([gd, 'removed!']);\n",
              "            Plotly.purge(gd);\n",
              "            observer.disconnect();\n",
              "        }}\n",
              "}});\n",
              "\n",
              "// Listen for the removal of the full notebook cells\n",
              "var notebookContainer = gd.closest('#notebook-container');\n",
              "if (notebookContainer) {{\n",
              "    x.observe(notebookContainer, {childList: true});\n",
              "}}\n",
              "\n",
              "// Listen for the clearing of the current output cell\n",
              "var outputEl = gd.closest('.output');\n",
              "if (outputEl) {{\n",
              "    x.observe(outputEl, {childList: true});\n",
              "}}\n",
              "\n",
              "                        })                };                            </script>        </div>\n",
              "</body>\n",
              "</html>"
            ]
          },
          "metadata": {}
        },
        {
          "output_type": "stream",
          "name": "stderr",
          "text": [
            "INFO:logs:Visual Rendered Successfully\n",
            "INFO:logs:plot_model() succesfully completed......................................\n"
          ]
        }
      ]
    },
    {
      "cell_type": "markdown",
      "source": [
        "**We use elbow distortion score method to determine what is the best number of cluster, and we find that 5 is the best number of cluster**"
      ],
      "metadata": {
        "id": "j-0HqsEZFfx5"
      }
    },
    {
      "cell_type": "code",
      "source": [
        "# Elbow Evaluation\n",
        "plot_model(cls_models, plot = 'elbow')"
      ],
      "metadata": {
        "colab": {
          "base_uri": "https://localhost:8080/",
          "height": 412,
          "referenced_widgets": [
            "af6b4ca17a0b42cb8082f821e25662e0",
            "aa2ec815077643c5a5ef0c08ff891fe8",
            "f04218867cc24dc4b764735b44b19daa"
          ]
        },
        "id": "c0lBPfAc6iXr",
        "outputId": "f5e45ada-9192-42f7-df4a-0e26ff6606d0"
      },
      "execution_count": 61,
      "outputs": [
        {
          "output_type": "display_data",
          "data": {
            "text/plain": [
              "<Figure size 576x396 with 1 Axes>"
            ],
            "image/png": "[encoded data removed]"
          },
          "metadata": {}
        },
        {
          "output_type": "stream",
          "name": "stderr",
          "text": [
            "INFO:logs:Visual Rendered Successfully\n",
            "INFO:logs:plot_model() succesfully completed......................................\n"
          ]
        }
      ]
    },
    {
      "cell_type": "markdown",
      "source": [
        "**Average Silhouette Evaluation Score is 0.31 which means every single sample in each cluster is near decision boundaries**"
      ],
      "metadata": {
        "id": "iHXexrM9FyJo"
      }
    },
    {
      "cell_type": "code",
      "source": [
        "# silhouette evaluation\n",
        "plot_model(cls_models, plot = 'silhouette')"
      ],
      "metadata": {
        "colab": {
          "base_uri": "https://localhost:8080/",
          "height": 412
        },
        "id": "-OBrjsPv62Js",
        "outputId": "184c9c1e-f2bf-4a2d-ed74-5615d5f76a42"
      },
      "execution_count": 62,
      "outputs": [
        {
          "output_type": "display_data",
          "data": {
            "text/plain": [
              "<Figure size 576x396 with 1 Axes>"
            ],
            "image/png": "[encoded data removed]"
          },
          "metadata": {}
        },
        {
          "output_type": "stream",
          "name": "stderr",
          "text": [
            "INFO:logs:Visual Rendered Successfully\n",
            "INFO:logs:plot_model() succesfully completed......................................\n"
          ]
        }
      ]
    },
    {
      "cell_type": "code",
      "source": [
        "# Distribution plot\n",
        "plot_model(cls_models, plot = 'distribution')"
      ],
      "metadata": {
        "colab": {
          "base_uri": "https://localhost:8080/",
          "height": 672,
          "referenced_widgets": [
            "765579deec4b43509d93a7d91f11c9a4",
            "0ab239da96bb4d7bb12a32dfec8e512f",
            "dce1d5c79ff04c56a0cb2017e33c5e36"
          ]
        },
        "id": "0g4h73eN7VEY",
        "outputId": "d9b17553-eec3-4d1d-fca5-d3a87af869da"
      },
      "execution_count": 63,
      "outputs": [
        {
          "output_type": "stream",
          "name": "stderr",
          "text": [
            "INFO:logs:Rendering Visual\n"
          ]
        },
        {
          "output_type": "display_data",
          "data": {
            "text/html": [
              "<html>\n",
              "<head><meta charset=\"utf-8\" /></head>\n",
              "<body>\n",
              "    <div>            <script src=\"https://cdnjs.cloudflare.com/ajax/libs/mathjax/2.7.5/MathJax.js?config=TeX-AMS-MML_SVG\"></script><script type=\"text/javascript\">if (window.MathJax) {MathJax.Hub.Config({SVG: {font: \"STIX-Web\"}});}</script>                <script type=\"text/javascript\">window.PlotlyConfig = {MathJaxConfig: 'local'};</script>\n",
              "        <script src=\"https://cdn.plot.ly/plotly-2.8.3.min.js\"></script>                <div id=\"fac06535-a519-4c1f-bf0e-fea6ac720a69\" class=\"plotly-graph-div\" style=\"height:600px; width:100%;\"></div>            <script type=\"text/javascript\">                                    window.PLOTLYENV=window.PLOTLYENV || {};                                    if (document.getElementById(\"fac06535-a519-4c1f-bf0e-fea6ac720a69\")) {                    Plotly.newPlot(                        \"fac06535-a519-4c1f-bf0e-fea6ac720a69\",                        [{\"alignmentgroup\":\"True\",\"bingroup\":\"x\",\"hovertemplate\":\"Cluster=%{x}<br>count=%{y}<extra></extra>\",\"legendgroup\":\"Cluster 0\",\"marker\":{\"color\":\"#636efa\",\"opacity\":0.7,\"pattern\":{\"shape\":\"\"}},\"name\":\"Cluster 0\",\"offsetgroup\":\"Cluster 0\",\"orientation\":\"v\",\"showlegend\":true,\"x\":[\"Cluster 0\",\"Cluster 0\",\"Cluster 0\",\"Cluster 0\",\"Cluster 0\",\"Cluster 0\",\"Cluster 0\",\"Cluster 0\",\"Cluster 0\",\"Cluster 0\",\"Cluster 0\",\"Cluster 0\",\"Cluster 0\",\"Cluster 0\",\"Cluster 0\",\"Cluster 0\",\"Cluster 0\",\"Cluster 0\",\"Cluster 0\",\"Cluster 0\",\"Cluster 0\",\"Cluster 0\",\"Cluster 0\",\"Cluster 0\",\"Cluster 0\",\"Cluster 0\",\"Cluster 0\",\"Cluster 0\",\"Cluster 0\",\"Cluster 0\",\"Cluster 0\",\"Cluster 0\",\"Cluster 0\",\"Cluster 0\",\"Cluster 0\",\"Cluster 0\",\"Cluster 0\",\"Cluster 0\",\"Cluster 0\",\"Cluster 0\",\"Cluster 0\",\"Cluster 0\",\"Cluster 0\",\"Cluster 0\",\"Cluster 0\",\"Cluster 0\",\"Cluster 0\",\"Cluster 0\",\"Cluster 0\",\"Cluster 0\",\"Cluster 0\",\"Cluster 0\",\"Cluster 0\",\"Cluster 0\",\"Cluster 0\",\"Cluster 0\",\"Cluster 0\",\"Cluster 0\",\"Cluster 0\",\"Cluster 0\",\"Cluster 0\",\"Cluster 0\",\"Cluster 0\",\"Cluster 0\",\"Cluster 0\",\"Cluster 0\",\"Cluster 0\",\"Cluster 0\",\"Cluster 0\",\"Cluster 0\",\"Cluster 0\",\"Cluster 0\",\"Cluster 0\"],\"xaxis\":\"x\",\"yaxis\":\"y\",\"type\":\"histogram\"},{\"alignmentgroup\":\"True\",\"customdata\":[[1.51652,13.56,3.57,1.47,72.45,0.64,7.96,0.0,0.0],[1.51708,13.72,3.68,1.81,72.06,0.64,7.88,0.0,0.0],[1.51808,13.43,2.87,1.19,72.84,0.55,9.03,0.0,0.0],[1.51646,13.41,3.55,1.25,72.81,0.68,8.1,0.0,0.0],[1.51793,12.79,3.5,1.12,73.03,0.64,8.77,0.0,0.0],[1.51596,12.79,3.61,1.62,72.97,0.64,8.07,0.0,0.26],[1.51735,13.02,3.54,1.69,72.73,0.54,8.44,0.0,0.07],[1.51687,13.23,3.54,1.48,72.84,0.56,8.1,0.0,0.0],[1.51655,13.41,3.39,1.28,72.64,0.52,8.65,0.0,0.0],[1.51811,12.96,2.96,1.43,72.92,0.6,8.79,0.14,0.0],[1.51592,12.86,3.52,2.12,72.66,0.69,7.97,0.0,0.0],[1.51756,13.15,3.61,1.05,73.24,0.57,8.24,0.0,0.0],[1.5161,13.42,3.4,1.22,72.69,0.59,8.32,0.0,0.0],[1.51892,13.46,3.83,1.26,72.55,0.57,8.21,0.0,0.14],[1.51674,12.87,3.56,1.64,73.14,0.65,7.99,0.0,0.0],[1.51754,13.48,3.74,1.17,72.99,0.59,8.03,0.0,0.0],[1.51625,13.36,3.58,1.49,72.72,0.45,8.21,0.0,0.0],[1.51797,12.74,3.48,1.35,72.96,0.64,8.68,0.0,0.0],[1.51784,12.68,3.67,1.16,73.11,0.61,8.7,0.0,0.0],[1.52058,12.85,1.61,2.17,72.18,0.76,9.7,0.24,0.51],[1.51596,13.02,3.56,1.54,73.11,0.72,7.9,0.0,0.0],[1.51775,12.85,3.48,1.23,72.97,0.61,8.56,0.09,0.22],[1.51811,13.33,3.85,1.25,72.78,0.52,8.12,0.0,0.0],[1.51789,13.19,3.9,1.3,72.33,0.55,8.44,0.0,0.28],[1.5182,12.62,2.76,0.83,73.81,0.35,9.42,0.0,0.2],[1.51646,13.04,3.4,1.26,73.01,0.52,8.58,0.0,0.0],[1.51841,12.93,3.74,1.11,72.28,0.64,8.96,0.0,0.22],[1.51841,13.02,3.62,1.06,72.34,0.64,9.13,0.0,0.15],[1.5169,13.33,3.54,1.61,72.54,0.68,8.11,0.0,0.0],[1.51653,11.95,0.0,1.19,75.18,2.7,8.93,0.0,0.0],[1.51709,13.0,3.47,1.79,72.72,0.66,8.18,0.0,0.0],[1.51689,12.67,2.88,1.71,73.21,0.73,8.54,0.0,0.0],[1.51721,12.87,3.48,1.33,73.04,0.56,8.43,0.0,0.0],[1.51643,12.16,3.52,1.35,72.89,0.57,8.53,0.0,0.0],[1.51764,12.98,3.54,1.21,73.0,0.65,8.53,0.0,0.0],[1.51824,12.87,3.48,1.29,72.95,0.6,8.43,0.0,0.0],[1.51593,13.25,3.45,1.43,73.17,0.61,7.86,0.0,0.0],[1.51806,13.0,3.8,1.08,73.07,0.56,8.38,0.0,0.12],[1.51742,13.27,3.62,1.24,73.08,0.55,8.07,0.0,0.0],[1.51779,13.64,3.65,0.65,73.0,0.06,8.93,0.0,0.0],[1.51769,13.65,3.66,1.11,72.77,0.11,8.6,0.0,0.0],[1.51605,12.9,3.44,1.45,73.06,0.44,8.27,0.0,0.0],[1.51569,13.24,3.49,1.47,73.25,0.38,8.03,0.0,0.0],[1.51769,12.45,2.71,1.29,73.7,0.56,9.06,0.0,0.24],[1.51674,12.79,3.52,1.54,73.36,0.66,7.9,0.0,0.0],[1.51755,13.0,3.6,1.36,72.99,0.57,8.4,0.0,0.11],[1.51846,13.41,3.89,1.33,72.38,0.51,8.28,0.0,0.0],[1.51847,13.1,3.97,1.19,72.44,0.6,8.43,0.0,0.0],[1.51645,13.4,3.49,1.52,72.65,0.67,8.08,0.0,0.1],[1.51673,13.3,3.64,1.53,72.53,0.65,8.03,0.0,0.29],[1.51747,12.84,3.5,1.14,73.27,0.56,8.55,0.0,0.0],[1.51763,12.8,3.66,1.27,73.01,0.6,8.56,0.0,0.0],[1.51779,13.21,3.39,1.33,72.76,0.59,8.59,0.0,0.0],[1.51299,14.4,1.74,1.54,74.55,0.0,7.59,0.0,0.0],[1.5186,13.36,3.43,1.43,72.26,0.51,8.6,0.0,0.0],[1.51839,12.85,3.67,1.24,72.57,0.62,8.68,0.0,0.35],[1.51409,14.25,3.09,2.08,72.28,1.1,7.08,0.0,0.0],[1.51786,12.73,3.43,1.19,72.95,0.62,8.76,0.0,0.3],[1.51571,12.72,3.46,1.56,73.2,0.67,8.09,0.0,0.24],[1.51851,13.2,3.63,1.07,72.83,0.57,8.41,0.09,0.17],[1.51761,13.89,3.6,1.36,72.73,0.48,7.83,0.0,0.0],[1.51613,13.92,3.52,1.25,72.88,0.37,7.94,0.0,0.14],[1.51783,12.69,3.54,1.34,72.95,0.57,8.75,0.0,0.0],[1.518,13.71,3.93,1.54,71.81,0.54,8.21,0.0,0.15],[1.51736,12.78,3.62,1.29,72.79,0.59,8.7,0.0,0.0],[1.5159,13.24,3.34,1.47,73.1,0.39,8.22,0.0,0.0],[1.51766,13.21,3.69,1.29,72.61,0.57,8.22,0.0,0.0],[1.51594,13.09,3.52,1.55,72.87,0.68,8.05,0.0,0.09],[1.51662,12.85,3.51,1.44,73.01,0.68,8.23,0.06,0.25],[1.51567,13.29,3.45,1.21,72.74,0.56,8.57,0.0,0.0],[1.51872,12.93,3.66,1.56,72.51,0.58,8.55,0.0,0.12],[1.51753,12.57,3.47,1.38,73.39,0.6,8.55,0.0,0.06],[1.51707,13.48,3.48,1.71,72.52,0.62,7.99,0.0,0.0]],\"hovertemplate\":\"Cluster=%{x}<br>a=%{customdata[0]}<br>b=%{customdata[1]}<br>c=%{customdata[2]}<br>d=%{customdata[3]}<br>e=%{customdata[4]}<br>f=%{customdata[5]}<br>g=%{customdata[6]}<br>h=%{customdata[7]}<br>i=%{customdata[8]}<extra></extra>\",\"legendgroup\":\"Cluster 0\",\"marker\":{\"color\":\"#636efa\"},\"name\":\"Cluster 0\",\"notched\":true,\"offsetgroup\":\"Cluster 0\",\"showlegend\":false,\"x\":[\"Cluster 0\",\"Cluster 0\",\"Cluster 0\",\"Cluster 0\",\"Cluster 0\",\"Cluster 0\",\"Cluster 0\",\"Cluster 0\",\"Cluster 0\",\"Cluster 0\",\"Cluster 0\",\"Cluster 0\",\"Cluster 0\",\"Cluster 0\",\"Cluster 0\",\"Cluster 0\",\"Cluster 0\",\"Cluster 0\",\"Cluster 0\",\"Cluster 0\",\"Cluster 0\",\"Cluster 0\",\"Cluster 0\",\"Cluster 0\",\"Cluster 0\",\"Cluster 0\",\"Cluster 0\",\"Cluster 0\",\"Cluster 0\",\"Cluster 0\",\"Cluster 0\",\"Cluster 0\",\"Cluster 0\",\"Cluster 0\",\"Cluster 0\",\"Cluster 0\",\"Cluster 0\",\"Cluster 0\",\"Cluster 0\",\"Cluster 0\",\"Cluster 0\",\"Cluster 0\",\"Cluster 0\",\"Cluster 0\",\"Cluster 0\",\"Cluster 0\",\"Cluster 0\",\"Cluster 0\",\"Cluster 0\",\"Cluster 0\",\"Cluster 0\",\"Cluster 0\",\"Cluster 0\",\"Cluster 0\",\"Cluster 0\",\"Cluster 0\",\"Cluster 0\",\"Cluster 0\",\"Cluster 0\",\"Cluster 0\",\"Cluster 0\",\"Cluster 0\",\"Cluster 0\",\"Cluster 0\",\"Cluster 0\",\"Cluster 0\",\"Cluster 0\",\"Cluster 0\",\"Cluster 0\",\"Cluster 0\",\"Cluster 0\",\"Cluster 0\",\"Cluster 0\"],\"xaxis\":\"x2\",\"yaxis\":\"y2\",\"type\":\"box\"},{\"alignmentgroup\":\"True\",\"bingroup\":\"x\",\"hovertemplate\":\"Cluster=%{x}<br>count=%{y}<extra></extra>\",\"legendgroup\":\"Cluster 1\",\"marker\":{\"color\":\"#EF553B\",\"opacity\":0.7,\"pattern\":{\"shape\":\"\"}},\"name\":\"Cluster 1\",\"offsetgroup\":\"Cluster 1\",\"orientation\":\"v\",\"showlegend\":true,\"x\":[\"Cluster 1\",\"Cluster 1\",\"Cluster 1\",\"Cluster 1\",\"Cluster 1\",\"Cluster 1\",\"Cluster 1\",\"Cluster 1\",\"Cluster 1\",\"Cluster 1\",\"Cluster 1\",\"Cluster 1\",\"Cluster 1\",\"Cluster 1\",\"Cluster 1\",\"Cluster 1\",\"Cluster 1\",\"Cluster 1\",\"Cluster 1\",\"Cluster 1\",\"Cluster 1\",\"Cluster 1\",\"Cluster 1\",\"Cluster 1\",\"Cluster 1\",\"Cluster 1\",\"Cluster 1\",\"Cluster 1\",\"Cluster 1\",\"Cluster 1\",\"Cluster 1\",\"Cluster 1\",\"Cluster 1\",\"Cluster 1\",\"Cluster 1\",\"Cluster 1\"],\"xaxis\":\"x\",\"yaxis\":\"y\",\"type\":\"histogram\"},{\"alignmentgroup\":\"True\",\"customdata\":[[1.5221,13.73,3.84,0.72,71.76,0.17,9.74,0.0,0.0],[1.51934,13.64,3.54,0.75,72.65,0.16,8.89,0.15,0.24],[1.519,13.49,3.48,1.35,71.95,0.55,9.0,0.0,0.0],[1.52196,14.36,3.85,0.89,71.36,0.15,9.15,0.0,0.0],[1.51911,13.9,3.73,1.18,72.12,0.06,8.89,0.0,0.0],[1.51905,13.6,3.62,1.11,72.64,0.14,8.76,0.0,0.0],[1.51909,13.89,3.53,1.32,71.81,0.51,8.78,0.11,0.0],[1.51969,14.56,0.0,0.56,73.48,0.0,11.22,0.0,0.0],[1.51966,14.77,3.75,0.29,72.02,0.03,9.0,0.0,0.0],[1.51852,14.09,2.19,1.66,72.67,0.0,9.32,0.0,0.0],[1.51888,14.99,0.78,1.74,72.5,0.0,9.95,0.0,0.0],[1.51937,13.79,2.41,1.19,72.76,0.0,9.77,0.0,0.0],[1.52099,13.69,3.59,1.12,71.96,0.09,9.4,0.0,0.0],[1.52177,13.75,1.01,1.36,72.19,0.33,11.14,0.0,0.0],[1.52667,13.99,3.7,0.71,71.57,0.02,9.82,0.0,0.1],[1.52211,14.19,3.78,0.91,71.36,0.23,9.14,0.0,0.37],[1.52213,14.21,3.82,0.47,71.77,0.11,9.57,0.0,0.0],[1.52223,13.21,3.77,0.79,71.99,0.13,10.02,0.0,0.0],[1.52068,13.55,2.09,1.67,72.18,0.53,9.57,0.27,0.17],[1.52172,13.48,3.74,0.9,72.01,0.18,9.61,0.0,0.07],[1.51918,14.04,3.58,1.37,72.08,0.56,8.3,0.0,0.0],[1.52213,14.21,3.82,0.47,71.77,0.11,9.57,0.0,0.0],[1.51829,14.46,2.24,1.62,72.38,0.0,9.26,0.0,0.0],[1.52152,13.05,3.65,0.87,72.32,0.19,9.85,0.0,0.17],[1.52315,13.44,3.34,1.23,72.38,0.6,8.83,0.0,0.0],[1.52081,13.78,2.28,1.43,71.99,0.49,9.85,0.0,0.17],[1.52247,14.86,2.2,2.06,70.26,0.76,9.76,0.0,0.0],[1.52127,14.32,3.9,0.83,71.5,0.0,9.49,0.0,0.0],[1.51977,13.81,3.58,1.32,71.72,0.12,8.67,0.69,0.0],[1.52152,13.05,3.65,0.87,72.22,0.19,9.85,0.0,0.17],[1.523,13.31,3.58,0.82,71.99,0.12,10.17,0.0,0.03],[1.52177,13.2,3.68,1.15,72.75,0.54,8.52,0.0,0.0],[1.52121,14.03,3.76,0.58,71.79,0.11,9.65,0.0,0.0],[1.52152,13.12,3.58,0.9,72.2,0.23,9.82,0.0,0.16],[1.51905,14.0,2.39,1.56,72.37,0.0,9.57,0.0,0.0],[1.5232,13.72,3.72,0.51,71.75,0.09,10.06,0.0,0.16]],\"hovertemplate\":\"Cluster=%{x}<br>a=%{customdata[0]}<br>b=%{customdata[1]}<br>c=%{customdata[2]}<br>d=%{customdata[3]}<br>e=%{customdata[4]}<br>f=%{customdata[5]}<br>g=%{customdata[6]}<br>h=%{customdata[7]}<br>i=%{customdata[8]}<extra></extra>\",\"legendgroup\":\"Cluster 1\",\"marker\":{\"color\":\"#EF553B\"},\"name\":\"Cluster 1\",\"notched\":true,\"offsetgroup\":\"Cluster 1\",\"showlegend\":false,\"x\":[\"Cluster 1\",\"Cluster 1\",\"Cluster 1\",\"Cluster 1\",\"Cluster 1\",\"Cluster 1\",\"Cluster 1\",\"Cluster 1\",\"Cluster 1\",\"Cluster 1\",\"Cluster 1\",\"Cluster 1\",\"Cluster 1\",\"Cluster 1\",\"Cluster 1\",\"Cluster 1\",\"Cluster 1\",\"Cluster 1\",\"Cluster 1\",\"Cluster 1\",\"Cluster 1\",\"Cluster 1\",\"Cluster 1\",\"Cluster 1\",\"Cluster 1\",\"Cluster 1\",\"Cluster 1\",\"Cluster 1\",\"Cluster 1\",\"Cluster 1\",\"Cluster 1\",\"Cluster 1\",\"Cluster 1\",\"Cluster 1\",\"Cluster 1\",\"Cluster 1\"],\"xaxis\":\"x2\",\"yaxis\":\"y2\",\"type\":\"box\"},{\"alignmentgroup\":\"True\",\"bingroup\":\"x\",\"hovertemplate\":\"Cluster=%{x}<br>count=%{y}<extra></extra>\",\"legendgroup\":\"Cluster 2\",\"marker\":{\"color\":\"#00cc96\",\"opacity\":0.7,\"pattern\":{\"shape\":\"\"}},\"name\":\"Cluster 2\",\"offsetgroup\":\"Cluster 2\",\"orientation\":\"v\",\"showlegend\":true,\"x\":[\"Cluster 2\",\"Cluster 2\",\"Cluster 2\",\"Cluster 2\",\"Cluster 2\",\"Cluster 2\",\"Cluster 2\",\"Cluster 2\"],\"xaxis\":\"x\",\"yaxis\":\"y\",\"type\":\"histogram\"},{\"alignmentgroup\":\"True\",\"customdata\":[[1.52777,12.64,0.0,0.67,72.02,0.06,14.4,0.0,0.0],[1.52475,11.45,0.0,1.88,72.19,0.81,13.24,0.0,0.34],[1.52369,13.44,0.0,1.58,72.22,0.32,12.24,0.0,0.0],[1.51994,13.27,0.0,1.76,73.03,0.47,11.32,0.0,0.0],[1.52739,11.02,0.0,0.75,73.08,0.0,14.96,0.0,0.0],[1.52664,11.23,0.0,0.77,73.21,0.0,14.68,0.0,0.0],[1.52043,13.38,0.0,1.4,72.25,0.33,12.5,0.0,0.0],[1.52614,13.7,0.0,1.36,71.24,0.19,13.44,0.0,0.1]],\"hovertemplate\":\"Cluster=%{x}<br>a=%{customdata[0]}<br>b=%{customdata[1]}<br>c=%{customdata[2]}<br>d=%{customdata[3]}<br>e=%{customdata[4]}<br>f=%{customdata[5]}<br>g=%{customdata[6]}<br>h=%{customdata[7]}<br>i=%{customdata[8]}<extra></extra>\",\"legendgroup\":\"Cluster 2\",\"marker\":{\"color\":\"#00cc96\"},\"name\":\"Cluster 2\",\"notched\":true,\"offsetgroup\":\"Cluster 2\",\"showlegend\":false,\"x\":[\"Cluster 2\",\"Cluster 2\",\"Cluster 2\",\"Cluster 2\",\"Cluster 2\",\"Cluster 2\",\"Cluster 2\",\"Cluster 2\"],\"xaxis\":\"x2\",\"yaxis\":\"y2\",\"type\":\"box\"},{\"alignmentgroup\":\"True\",\"bingroup\":\"x\",\"hovertemplate\":\"Cluster=%{x}<br>count=%{y}<extra></extra>\",\"legendgroup\":\"Cluster 3\",\"marker\":{\"color\":\"#ab63fa\",\"opacity\":0.7,\"pattern\":{\"shape\":\"\"}},\"name\":\"Cluster 3\",\"offsetgroup\":\"Cluster 3\",\"orientation\":\"v\",\"showlegend\":true,\"x\":[\"Cluster 3\",\"Cluster 3\",\"Cluster 3\",\"Cluster 3\",\"Cluster 3\",\"Cluster 3\",\"Cluster 3\",\"Cluster 3\",\"Cluster 3\",\"Cluster 3\",\"Cluster 3\",\"Cluster 3\",\"Cluster 3\",\"Cluster 3\",\"Cluster 3\",\"Cluster 3\",\"Cluster 3\"],\"xaxis\":\"x\",\"yaxis\":\"y\",\"type\":\"histogram\"},{\"alignmentgroup\":\"True\",\"customdata\":[[1.51545,14.14,0.0,2.68,73.39,0.08,9.07,0.61,0.05],[1.52065,14.36,0.0,2.02,73.42,0.0,8.44,1.64,0.0],[1.51623,14.2,0.0,2.79,73.46,0.04,9.04,0.4,0.09],[1.51685,14.92,0.0,1.99,73.06,0.0,8.4,1.59,0.0],[1.51508,15.15,0.0,2.25,73.5,0.0,8.34,0.63,0.0],[1.51617,14.95,0.0,2.27,73.3,0.0,8.71,0.67,0.0],[1.51602,14.85,0.0,2.38,73.28,0.0,8.76,0.64,0.09],[1.51115,17.38,0.0,0.34,75.41,0.0,6.65,0.0,0.0],[1.51131,13.69,3.2,1.81,72.81,1.76,5.43,1.19,0.0],[1.51609,15.01,0.0,2.51,73.05,0.05,8.83,0.53,0.0],[1.51727,14.7,0.0,2.34,73.28,0.0,8.95,0.66,0.0],[1.51838,14.32,3.26,2.22,71.25,1.46,5.79,1.63,0.0],[1.5164,14.37,0.0,2.74,72.85,0.0,9.45,0.54,0.0],[1.51711,14.23,0.0,2.08,73.36,0.0,8.62,1.67,0.0],[1.51719,14.75,0.0,2.0,73.02,0.0,8.53,1.59,0.08],[1.51514,14.85,0.0,2.42,73.72,0.0,8.39,0.56,0.0],[1.51732,14.95,0.0,1.8,72.99,0.0,8.61,1.55,0.0]],\"hovertemplate\":\"Cluster=%{x}<br>a=%{customdata[0]}<br>b=%{customdata[1]}<br>c=%{customdata[2]}<br>d=%{customdata[3]}<br>e=%{customdata[4]}<br>f=%{customdata[5]}<br>g=%{customdata[6]}<br>h=%{customdata[7]}<br>i=%{customdata[8]}<extra></extra>\",\"legendgroup\":\"Cluster 3\",\"marker\":{\"color\":\"#ab63fa\"},\"name\":\"Cluster 3\",\"notched\":true,\"offsetgroup\":\"Cluster 3\",\"showlegend\":false,\"x\":[\"Cluster 3\",\"Cluster 3\",\"Cluster 3\",\"Cluster 3\",\"Cluster 3\",\"Cluster 3\",\"Cluster 3\",\"Cluster 3\",\"Cluster 3\",\"Cluster 3\",\"Cluster 3\",\"Cluster 3\",\"Cluster 3\",\"Cluster 3\",\"Cluster 3\",\"Cluster 3\",\"Cluster 3\"],\"xaxis\":\"x2\",\"yaxis\":\"y2\",\"type\":\"box\"},{\"alignmentgroup\":\"True\",\"bingroup\":\"x\",\"hovertemplate\":\"Cluster=%{x}<br>count=%{y}<extra></extra>\",\"legendgroup\":\"Cluster 4\",\"marker\":{\"color\":\"#FFA15A\",\"opacity\":0.7,\"pattern\":{\"shape\":\"\"}},\"name\":\"Cluster 4\",\"offsetgroup\":\"Cluster 4\",\"orientation\":\"v\",\"showlegend\":true,\"x\":[\"Cluster 4\"],\"xaxis\":\"x\",\"yaxis\":\"y\",\"type\":\"histogram\"},{\"alignmentgroup\":\"True\",\"customdata\":[[1.51316,13.02,0.0,3.04,70.48,6.21,6.96,0.0,0.0]],\"hovertemplate\":\"Cluster=%{x}<br>a=%{customdata[0]}<br>b=%{customdata[1]}<br>c=%{customdata[2]}<br>d=%{customdata[3]}<br>e=%{customdata[4]}<br>f=%{customdata[5]}<br>g=%{customdata[6]}<br>h=%{customdata[7]}<br>i=%{customdata[8]}<extra></extra>\",\"legendgroup\":\"Cluster 4\",\"marker\":{\"color\":\"#FFA15A\"},\"name\":\"Cluster 4\",\"notched\":true,\"offsetgroup\":\"Cluster 4\",\"showlegend\":false,\"x\":[\"Cluster 4\"],\"xaxis\":\"x2\",\"yaxis\":\"y2\",\"type\":\"box\"}],                        {\"template\":{\"data\":{\"bar\":[{\"error_x\":{\"color\":\"#2a3f5f\"},\"error_y\":{\"color\":\"#2a3f5f\"},\"marker\":{\"line\":{\"color\":\"#E5ECF6\",\"width\":0.5},\"pattern\":{\"fillmode\":\"overlay\",\"size\":10,\"solidity\":0.2}},\"type\":\"bar\"}],\"barpolar\":[{\"marker\":{\"line\":{\"color\":\"#E5ECF6\",\"width\":0.5},\"pattern\":{\"fillmode\":\"overlay\",\"size\":10,\"solidity\":0.2}},\"type\":\"barpolar\"}],\"carpet\":[{\"aaxis\":{\"endlinecolor\":\"#2a3f5f\",\"gridcolor\":\"white\",\"linecolor\":\"white\",\"minorgridcolor\":\"white\",\"startlinecolor\":\"#2a3f5f\"},\"baxis\":{\"endlinecolor\":\"#2a3f5f\",\"gridcolor\":\"white\",\"linecolor\":\"white\",\"minorgridcolor\":\"white\",\"startlinecolor\":\"#2a3f5f\"},\"type\":\"carpet\"}],\"choropleth\":[{\"colorbar\":{\"outlinewidth\":0,\"ticks\":\"\"},\"type\":\"choropleth\"}],\"contour\":[{\"colorbar\":{\"outlinewidth\":0,\"ticks\":\"\"},\"colorscale\":[[0.0,\"#0d0887\"],[0.1111111111111111,\"#46039f\"],[0.2222222222222222,\"#7201a8\"],[0.3333333333333333,\"#9c179e\"],[0.4444444444444444,\"#bd3786\"],[0.5555555555555556,\"#d8576b\"],[0.6666666666666666,\"#ed7953\"],[0.7777777777777778,\"#fb9f3a\"],[0.8888888888888888,\"#fdca26\"],[1.0,\"#f0f921\"]],\"type\":\"contour\"}],\"contourcarpet\":[{\"colorbar\":{\"outlinewidth\":0,\"ticks\":\"\"},\"type\":\"contourcarpet\"}],\"heatmap\":[{\"colorbar\":{\"outlinewidth\":0,\"ticks\":\"\"},\"colorscale\":[[0.0,\"#0d0887\"],[0.1111111111111111,\"#46039f\"],[0.2222222222222222,\"#7201a8\"],[0.3333333333333333,\"#9c179e\"],[0.4444444444444444,\"#bd3786\"],[0.5555555555555556,\"#d8576b\"],[0.6666666666666666,\"#ed7953\"],[0.7777777777777778,\"#fb9f3a\"],[0.8888888888888888,\"#fdca26\"],[1.0,\"#f0f921\"]],\"type\":\"heatmap\"}],\"heatmapgl\":[{\"colorbar\":{\"outlinewidth\":0,\"ticks\":\"\"},\"colorscale\":[[0.0,\"#0d0887\"],[0.1111111111111111,\"#46039f\"],[0.2222222222222222,\"#7201a8\"],[0.3333333333333333,\"#9c179e\"],[0.4444444444444444,\"#bd3786\"],[0.5555555555555556,\"#d8576b\"],[0.6666666666666666,\"#ed7953\"],[0.7777777777777778,\"#fb9f3a\"],[0.8888888888888888,\"#fdca26\"],[1.0,\"#f0f921\"]],\"type\":\"heatmapgl\"}],\"histogram\":[{\"marker\":{\"pattern\":{\"fillmode\":\"overlay\",\"size\":10,\"solidity\":0.2}},\"type\":\"histogram\"}],\"histogram2d\":[{\"colorbar\":{\"outlinewidth\":0,\"ticks\":\"\"},\"colorscale\":[[0.0,\"#0d0887\"],[0.1111111111111111,\"#46039f\"],[0.2222222222222222,\"#7201a8\"],[0.3333333333333333,\"#9c179e\"],[0.4444444444444444,\"#bd3786\"],[0.5555555555555556,\"#d8576b\"],[0.6666666666666666,\"#ed7953\"],[0.7777777777777778,\"#fb9f3a\"],[0.8888888888888888,\"#fdca26\"],[1.0,\"#f0f921\"]],\"type\":\"histogram2d\"}],\"histogram2dcontour\":[{\"colorbar\":{\"outlinewidth\":0,\"ticks\":\"\"},\"colorscale\":[[0.0,\"#0d0887\"],[0.1111111111111111,\"#46039f\"],[0.2222222222222222,\"#7201a8\"],[0.3333333333333333,\"#9c179e\"],[0.4444444444444444,\"#bd3786\"],[0.5555555555555556,\"#d8576b\"],[0.6666666666666666,\"#ed7953\"],[0.7777777777777778,\"#fb9f3a\"],[0.8888888888888888,\"#fdca26\"],[1.0,\"#f0f921\"]],\"type\":\"histogram2dcontour\"}],\"mesh3d\":[{\"colorbar\":{\"outlinewidth\":0,\"ticks\":\"\"},\"type\":\"mesh3d\"}],\"parcoords\":[{\"line\":{\"colorbar\":{\"outlinewidth\":0,\"ticks\":\"\"}},\"type\":\"parcoords\"}],\"pie\":[{\"automargin\":true,\"type\":\"pie\"}],\"scatter\":[{\"marker\":{\"colorbar\":{\"outlinewidth\":0,\"ticks\":\"\"}},\"type\":\"scatter\"}],\"scatter3d\":[{\"line\":{\"colorbar\":{\"outlinewidth\":0,\"ticks\":\"\"}},\"marker\":{\"colorbar\":{\"outlinewidth\":0,\"ticks\":\"\"}},\"type\":\"scatter3d\"}],\"scattercarpet\":[{\"marker\":{\"colorbar\":{\"outlinewidth\":0,\"ticks\":\"\"}},\"type\":\"scattercarpet\"}],\"scattergeo\":[{\"marker\":{\"colorbar\":{\"outlinewidth\":0,\"ticks\":\"\"}},\"type\":\"scattergeo\"}],\"scattergl\":[{\"marker\":{\"colorbar\":{\"outlinewidth\":0,\"ticks\":\"\"}},\"type\":\"scattergl\"}],\"scattermapbox\":[{\"marker\":{\"colorbar\":{\"outlinewidth\":0,\"ticks\":\"\"}},\"type\":\"scattermapbox\"}],\"scatterpolar\":[{\"marker\":{\"colorbar\":{\"outlinewidth\":0,\"ticks\":\"\"}},\"type\":\"scatterpolar\"}],\"scatterpolargl\":[{\"marker\":{\"colorbar\":{\"outlinewidth\":0,\"ticks\":\"\"}},\"type\":\"scatterpolargl\"}],\"scatterternary\":[{\"marker\":{\"colorbar\":{\"outlinewidth\":0,\"ticks\":\"\"}},\"type\":\"scatterternary\"}],\"surface\":[{\"colorbar\":{\"outlinewidth\":0,\"ticks\":\"\"},\"colorscale\":[[0.0,\"#0d0887\"],[0.1111111111111111,\"#46039f\"],[0.2222222222222222,\"#7201a8\"],[0.3333333333333333,\"#9c179e\"],[0.4444444444444444,\"#bd3786\"],[0.5555555555555556,\"#d8576b\"],[0.6666666666666666,\"#ed7953\"],[0.7777777777777778,\"#fb9f3a\"],[0.8888888888888888,\"#fdca26\"],[1.0,\"#f0f921\"]],\"type\":\"surface\"}],\"table\":[{\"cells\":{\"fill\":{\"color\":\"#EBF0F8\"},\"line\":{\"color\":\"white\"}},\"header\":{\"fill\":{\"color\":\"#C8D4E3\"},\"line\":{\"color\":\"white\"}},\"type\":\"table\"}]},\"layout\":{\"annotationdefaults\":{\"arrowcolor\":\"#2a3f5f\",\"arrowhead\":0,\"arrowwidth\":1},\"autotypenumbers\":\"strict\",\"coloraxis\":{\"colorbar\":{\"outlinewidth\":0,\"ticks\":\"\"}},\"colorscale\":{\"diverging\":[[0,\"#8e0152\"],[0.1,\"#c51b7d\"],[0.2,\"#de77ae\"],[0.3,\"#f1b6da\"],[0.4,\"#fde0ef\"],[0.5,\"#f7f7f7\"],[0.6,\"#e6f5d0\"],[0.7,\"#b8e186\"],[0.8,\"#7fbc41\"],[0.9,\"#4d9221\"],[1,\"#276419\"]],\"sequential\":[[0.0,\"#0d0887\"],[0.1111111111111111,\"#46039f\"],[0.2222222222222222,\"#7201a8\"],[0.3333333333333333,\"#9c179e\"],[0.4444444444444444,\"#bd3786\"],[0.5555555555555556,\"#d8576b\"],[0.6666666666666666,\"#ed7953\"],[0.7777777777777778,\"#fb9f3a\"],[0.8888888888888888,\"#fdca26\"],[1.0,\"#f0f921\"]],\"sequentialminus\":[[0.0,\"#0d0887\"],[0.1111111111111111,\"#46039f\"],[0.2222222222222222,\"#7201a8\"],[0.3333333333333333,\"#9c179e\"],[0.4444444444444444,\"#bd3786\"],[0.5555555555555556,\"#d8576b\"],[0.6666666666666666,\"#ed7953\"],[0.7777777777777778,\"#fb9f3a\"],[0.8888888888888888,\"#fdca26\"],[1.0,\"#f0f921\"]]},\"colorway\":[\"#636efa\",\"#EF553B\",\"#00cc96\",\"#ab63fa\",\"#FFA15A\",\"#19d3f3\",\"#FF6692\",\"#B6E880\",\"#FF97FF\",\"#FECB52\"],\"font\":{\"color\":\"#2a3f5f\"},\"geo\":{\"bgcolor\":\"white\",\"lakecolor\":\"white\",\"landcolor\":\"#E5ECF6\",\"showlakes\":true,\"showland\":true,\"subunitcolor\":\"white\"},\"hoverlabel\":{\"align\":\"left\"},\"hovermode\":\"closest\",\"mapbox\":{\"style\":\"light\"},\"paper_bgcolor\":\"white\",\"plot_bgcolor\":\"#E5ECF6\",\"polar\":{\"angularaxis\":{\"gridcolor\":\"white\",\"linecolor\":\"white\",\"ticks\":\"\"},\"bgcolor\":\"#E5ECF6\",\"radialaxis\":{\"gridcolor\":\"white\",\"linecolor\":\"white\",\"ticks\":\"\"}},\"scene\":{\"xaxis\":{\"backgroundcolor\":\"#E5ECF6\",\"gridcolor\":\"white\",\"gridwidth\":2,\"linecolor\":\"white\",\"showbackground\":true,\"ticks\":\"\",\"zerolinecolor\":\"white\"},\"yaxis\":{\"backgroundcolor\":\"#E5ECF6\",\"gridcolor\":\"white\",\"gridwidth\":2,\"linecolor\":\"white\",\"showbackground\":true,\"ticks\":\"\",\"zerolinecolor\":\"white\"},\"zaxis\":{\"backgroundcolor\":\"#E5ECF6\",\"gridcolor\":\"white\",\"gridwidth\":2,\"linecolor\":\"white\",\"showbackground\":true,\"ticks\":\"\",\"zerolinecolor\":\"white\"}},\"shapedefaults\":{\"line\":{\"color\":\"#2a3f5f\"}},\"ternary\":{\"aaxis\":{\"gridcolor\":\"white\",\"linecolor\":\"white\",\"ticks\":\"\"},\"baxis\":{\"gridcolor\":\"white\",\"linecolor\":\"white\",\"ticks\":\"\"},\"bgcolor\":\"#E5ECF6\",\"caxis\":{\"gridcolor\":\"white\",\"linecolor\":\"white\",\"ticks\":\"\"}},\"title\":{\"x\":0.05},\"xaxis\":{\"automargin\":true,\"gridcolor\":\"white\",\"linecolor\":\"white\",\"ticks\":\"\",\"title\":{\"standoff\":15},\"zerolinecolor\":\"white\",\"zerolinewidth\":2},\"yaxis\":{\"automargin\":true,\"gridcolor\":\"white\",\"linecolor\":\"white\",\"ticks\":\"\",\"title\":{\"standoff\":15},\"zerolinecolor\":\"white\",\"zerolinewidth\":2}}},\"xaxis\":{\"anchor\":\"y\",\"domain\":[0.0,1.0],\"categoryorder\":\"array\",\"categoryarray\":[\"Cluster 0\",\"Cluster 1\",\"Cluster 2\",\"Cluster 3\",\"Cluster 4\"],\"title\":{\"text\":\"Cluster\"}},\"yaxis\":{\"anchor\":\"x\",\"domain\":[0.0,0.7326],\"title\":{\"text\":\"count\"}},\"xaxis2\":{\"anchor\":\"y2\",\"domain\":[0.0,1.0],\"matches\":\"x\",\"showticklabels\":false,\"showgrid\":true},\"yaxis2\":{\"anchor\":\"x2\",\"domain\":[0.7426,1.0],\"matches\":\"y2\",\"showticklabels\":false,\"showline\":false,\"ticks\":\"\",\"showgrid\":false},\"legend\":{\"title\":{\"text\":\"Cluster\"},\"tracegroupgap\":0},\"margin\":{\"t\":60},\"barmode\":\"relative\",\"height\":600},                        {\"responsive\": true}                    ).then(function(){\n",
              "                            \n",
              "var gd = document.getElementById('fac06535-a519-4c1f-bf0e-fea6ac720a69');\n",
              "var x = new MutationObserver(function (mutations, observer) {{\n",
              "        var display = window.getComputedStyle(gd).display;\n",
              "        if (!display || display === 'none') {{\n",
              "            console.log([gd, 'removed!']);\n",
              "            Plotly.purge(gd);\n",
              "            observer.disconnect();\n",
              "        }}\n",
              "}});\n",
              "\n",
              "// Listen for the removal of the full notebook cells\n",
              "var notebookContainer = gd.closest('#notebook-container');\n",
              "if (notebookContainer) {{\n",
              "    x.observe(notebookContainer, {childList: true});\n",
              "}}\n",
              "\n",
              "// Listen for the clearing of the current output cell\n",
              "var outputEl = gd.closest('.output');\n",
              "if (outputEl) {{\n",
              "    x.observe(outputEl, {childList: true});\n",
              "}}\n",
              "\n",
              "                        })                };                            </script>        </div>\n",
              "</body>\n",
              "</html>"
            ]
          },
          "metadata": {}
        },
        {
          "output_type": "stream",
          "name": "stderr",
          "text": [
            "INFO:logs:Visual Rendered Successfully\n",
            "INFO:logs:plot_model() succesfully completed......................................\n"
          ]
        }
      ]
    },
    {
      "cell_type": "markdown",
      "source": [
        "**from this plot, we can indentify that cluster 0 have the most sample compared to other clusters. and we can indentify what is value composition of each variable for every clusters**"
      ],
      "metadata": {
        "id": "9FEvKcZzGEtE"
      }
    },
    {
      "cell_type": "code",
      "source": [
        "plot_model(cls_models, plot = 'distribution', feature = 'a')"
      ],
      "metadata": {
        "colab": {
          "base_uri": "https://localhost:8080/",
          "height": 672
        },
        "id": "kU7Nxv8N7uH-",
        "outputId": "dd2e7adc-48e3-4294-e477-210b0c47a8a0"
      },
      "execution_count": 66,
      "outputs": [
        {
          "output_type": "stream",
          "name": "stderr",
          "text": [
            "INFO:logs:Rendering Visual\n"
          ]
        },
        {
          "output_type": "display_data",
          "data": {
            "text/html": [
              "<html>\n",
              "<head><meta charset=\"utf-8\" /></head>\n",
              "<body>\n",
              "    <div>            <script src=\"https://cdnjs.cloudflare.com/ajax/libs/mathjax/2.7.5/MathJax.js?config=TeX-AMS-MML_SVG\"></script><script type=\"text/javascript\">if (window.MathJax) {MathJax.Hub.Config({SVG: {font: \"STIX-Web\"}});}</script>                <script type=\"text/javascript\">window.PlotlyConfig = {MathJaxConfig: 'local'};</script>\n",
              "        <script src=\"https://cdn.plot.ly/plotly-2.8.3.min.js\"></script>                <div id=\"167b51d9-2b83-425e-8c25-a329ac1e0b29\" class=\"plotly-graph-div\" style=\"height:600px; width:100%;\"></div>            <script type=\"text/javascript\">                                    window.PLOTLYENV=window.PLOTLYENV || {};                                    if (document.getElementById(\"167b51d9-2b83-425e-8c25-a329ac1e0b29\")) {                    Plotly.newPlot(                        \"167b51d9-2b83-425e-8c25-a329ac1e0b29\",                        [{\"alignmentgroup\":\"True\",\"bingroup\":\"x\",\"hovertemplate\":\"Cluster=Cluster 0<br>a=%{x}<br>count=%{y}<extra></extra>\",\"legendgroup\":\"Cluster 0\",\"marker\":{\"color\":\"#636efa\",\"opacity\":0.7,\"pattern\":{\"shape\":\"\"}},\"name\":\"Cluster 0\",\"offsetgroup\":\"Cluster 0\",\"orientation\":\"v\",\"showlegend\":true,\"x\":[1.51652,1.51708,1.51808,1.51646,1.51793,1.51596,1.51735,1.51687,1.51655,1.51811,1.51592,1.51756,1.5161,1.51892,1.51674,1.51754,1.51625,1.51797,1.51784,1.52058,1.51596,1.51775,1.51811,1.51789,1.5182,1.51646,1.51841,1.51841,1.5169,1.51653,1.51709,1.51689,1.51721,1.51643,1.51764,1.51824,1.51593,1.51806,1.51742,1.51779,1.51769,1.51605,1.51569,1.51769,1.51674,1.51755,1.51846,1.51847,1.51645,1.51673,1.51747,1.51763,1.51779,1.51299,1.5186,1.51839,1.51409,1.51786,1.51571,1.51851,1.51761,1.51613,1.51783,1.518,1.51736,1.5159,1.51766,1.51594,1.51662,1.51567,1.51872,1.51753,1.51707],\"xaxis\":\"x\",\"yaxis\":\"y\",\"type\":\"histogram\"},{\"alignmentgroup\":\"True\",\"customdata\":[[13.56,3.57,1.47,72.45,0.64,7.96,0.0,0.0,\"Cluster 0\"],[13.72,3.68,1.81,72.06,0.64,7.88,0.0,0.0,\"Cluster 0\"],[13.43,2.87,1.19,72.84,0.55,9.03,0.0,0.0,\"Cluster 0\"],[13.41,3.55,1.25,72.81,0.68,8.1,0.0,0.0,\"Cluster 0\"],[12.79,3.5,1.12,73.03,0.64,8.77,0.0,0.0,\"Cluster 0\"],[12.79,3.61,1.62,72.97,0.64,8.07,0.0,0.26,\"Cluster 0\"],[13.02,3.54,1.69,72.73,0.54,8.44,0.0,0.07,\"Cluster 0\"],[13.23,3.54,1.48,72.84,0.56,8.1,0.0,0.0,\"Cluster 0\"],[13.41,3.39,1.28,72.64,0.52,8.65,0.0,0.0,\"Cluster 0\"],[12.96,2.96,1.43,72.92,0.6,8.79,0.14,0.0,\"Cluster 0\"],[12.86,3.52,2.12,72.66,0.69,7.97,0.0,0.0,\"Cluster 0\"],[13.15,3.61,1.05,73.24,0.57,8.24,0.0,0.0,\"Cluster 0\"],[13.42,3.4,1.22,72.69,0.59,8.32,0.0,0.0,\"Cluster 0\"],[13.46,3.83,1.26,72.55,0.57,8.21,0.0,0.14,\"Cluster 0\"],[12.87,3.56,1.64,73.14,0.65,7.99,0.0,0.0,\"Cluster 0\"],[13.48,3.74,1.17,72.99,0.59,8.03,0.0,0.0,\"Cluster 0\"],[13.36,3.58,1.49,72.72,0.45,8.21,0.0,0.0,\"Cluster 0\"],[12.74,3.48,1.35,72.96,0.64,8.68,0.0,0.0,\"Cluster 0\"],[12.68,3.67,1.16,73.11,0.61,8.7,0.0,0.0,\"Cluster 0\"],[12.85,1.61,2.17,72.18,0.76,9.7,0.24,0.51,\"Cluster 0\"],[13.02,3.56,1.54,73.11,0.72,7.9,0.0,0.0,\"Cluster 0\"],[12.85,3.48,1.23,72.97,0.61,8.56,0.09,0.22,\"Cluster 0\"],[13.33,3.85,1.25,72.78,0.52,8.12,0.0,0.0,\"Cluster 0\"],[13.19,3.9,1.3,72.33,0.55,8.44,0.0,0.28,\"Cluster 0\"],[12.62,2.76,0.83,73.81,0.35,9.42,0.0,0.2,\"Cluster 0\"],[13.04,3.4,1.26,73.01,0.52,8.58,0.0,0.0,\"Cluster 0\"],[12.93,3.74,1.11,72.28,0.64,8.96,0.0,0.22,\"Cluster 0\"],[13.02,3.62,1.06,72.34,0.64,9.13,0.0,0.15,\"Cluster 0\"],[13.33,3.54,1.61,72.54,0.68,8.11,0.0,0.0,\"Cluster 0\"],[11.95,0.0,1.19,75.18,2.7,8.93,0.0,0.0,\"Cluster 0\"],[13.0,3.47,1.79,72.72,0.66,8.18,0.0,0.0,\"Cluster 0\"],[12.67,2.88,1.71,73.21,0.73,8.54,0.0,0.0,\"Cluster 0\"],[12.87,3.48,1.33,73.04,0.56,8.43,0.0,0.0,\"Cluster 0\"],[12.16,3.52,1.35,72.89,0.57,8.53,0.0,0.0,\"Cluster 0\"],[12.98,3.54,1.21,73.0,0.65,8.53,0.0,0.0,\"Cluster 0\"],[12.87,3.48,1.29,72.95,0.6,8.43,0.0,0.0,\"Cluster 0\"],[13.25,3.45,1.43,73.17,0.61,7.86,0.0,0.0,\"Cluster 0\"],[13.0,3.8,1.08,73.07,0.56,8.38,0.0,0.12,\"Cluster 0\"],[13.27,3.62,1.24,73.08,0.55,8.07,0.0,0.0,\"Cluster 0\"],[13.64,3.65,0.65,73.0,0.06,8.93,0.0,0.0,\"Cluster 0\"],[13.65,3.66,1.11,72.77,0.11,8.6,0.0,0.0,\"Cluster 0\"],[12.9,3.44,1.45,73.06,0.44,8.27,0.0,0.0,\"Cluster 0\"],[13.24,3.49,1.47,73.25,0.38,8.03,0.0,0.0,\"Cluster 0\"],[12.45,2.71,1.29,73.7,0.56,9.06,0.0,0.24,\"Cluster 0\"],[12.79,3.52,1.54,73.36,0.66,7.9,0.0,0.0,\"Cluster 0\"],[13.0,3.6,1.36,72.99,0.57,8.4,0.0,0.11,\"Cluster 0\"],[13.41,3.89,1.33,72.38,0.51,8.28,0.0,0.0,\"Cluster 0\"],[13.1,3.97,1.19,72.44,0.6,8.43,0.0,0.0,\"Cluster 0\"],[13.4,3.49,1.52,72.65,0.67,8.08,0.0,0.1,\"Cluster 0\"],[13.3,3.64,1.53,72.53,0.65,8.03,0.0,0.29,\"Cluster 0\"],[12.84,3.5,1.14,73.27,0.56,8.55,0.0,0.0,\"Cluster 0\"],[12.8,3.66,1.27,73.01,0.6,8.56,0.0,0.0,\"Cluster 0\"],[13.21,3.39,1.33,72.76,0.59,8.59,0.0,0.0,\"Cluster 0\"],[14.4,1.74,1.54,74.55,0.0,7.59,0.0,0.0,\"Cluster 0\"],[13.36,3.43,1.43,72.26,0.51,8.6,0.0,0.0,\"Cluster 0\"],[12.85,3.67,1.24,72.57,0.62,8.68,0.0,0.35,\"Cluster 0\"],[14.25,3.09,2.08,72.28,1.1,7.08,0.0,0.0,\"Cluster 0\"],[12.73,3.43,1.19,72.95,0.62,8.76,0.0,0.3,\"Cluster 0\"],[12.72,3.46,1.56,73.2,0.67,8.09,0.0,0.24,\"Cluster 0\"],[13.2,3.63,1.07,72.83,0.57,8.41,0.09,0.17,\"Cluster 0\"],[13.89,3.6,1.36,72.73,0.48,7.83,0.0,0.0,\"Cluster 0\"],[13.92,3.52,1.25,72.88,0.37,7.94,0.0,0.14,\"Cluster 0\"],[12.69,3.54,1.34,72.95,0.57,8.75,0.0,0.0,\"Cluster 0\"],[13.71,3.93,1.54,71.81,0.54,8.21,0.0,0.15,\"Cluster 0\"],[12.78,3.62,1.29,72.79,0.59,8.7,0.0,0.0,\"Cluster 0\"],[13.24,3.34,1.47,73.1,0.39,8.22,0.0,0.0,\"Cluster 0\"],[13.21,3.69,1.29,72.61,0.57,8.22,0.0,0.0,\"Cluster 0\"],[13.09,3.52,1.55,72.87,0.68,8.05,0.0,0.09,\"Cluster 0\"],[12.85,3.51,1.44,73.01,0.68,8.23,0.06,0.25,\"Cluster 0\"],[13.29,3.45,1.21,72.74,0.56,8.57,0.0,0.0,\"Cluster 0\"],[12.93,3.66,1.56,72.51,0.58,8.55,0.0,0.12,\"Cluster 0\"],[12.57,3.47,1.38,73.39,0.6,8.55,0.0,0.06,\"Cluster 0\"],[13.48,3.48,1.71,72.52,0.62,7.99,0.0,0.0,\"Cluster 0\"]],\"hovertemplate\":\"Cluster=%{customdata[8]}<br>a=%{x}<br>b=%{customdata[0]}<br>c=%{customdata[1]}<br>d=%{customdata[2]}<br>e=%{customdata[3]}<br>f=%{customdata[4]}<br>g=%{customdata[5]}<br>h=%{customdata[6]}<br>i=%{customdata[7]}<extra></extra>\",\"legendgroup\":\"Cluster 0\",\"marker\":{\"color\":\"#636efa\"},\"name\":\"Cluster 0\",\"notched\":true,\"offsetgroup\":\"Cluster 0\",\"showlegend\":false,\"x\":[1.51652,1.51708,1.51808,1.51646,1.51793,1.51596,1.51735,1.51687,1.51655,1.51811,1.51592,1.51756,1.5161,1.51892,1.51674,1.51754,1.51625,1.51797,1.51784,1.52058,1.51596,1.51775,1.51811,1.51789,1.5182,1.51646,1.51841,1.51841,1.5169,1.51653,1.51709,1.51689,1.51721,1.51643,1.51764,1.51824,1.51593,1.51806,1.51742,1.51779,1.51769,1.51605,1.51569,1.51769,1.51674,1.51755,1.51846,1.51847,1.51645,1.51673,1.51747,1.51763,1.51779,1.51299,1.5186,1.51839,1.51409,1.51786,1.51571,1.51851,1.51761,1.51613,1.51783,1.518,1.51736,1.5159,1.51766,1.51594,1.51662,1.51567,1.51872,1.51753,1.51707],\"xaxis\":\"x2\",\"yaxis\":\"y2\",\"type\":\"box\"},{\"alignmentgroup\":\"True\",\"bingroup\":\"x\",\"hovertemplate\":\"Cluster=Cluster 1<br>a=%{x}<br>count=%{y}<extra></extra>\",\"legendgroup\":\"Cluster 1\",\"marker\":{\"color\":\"#EF553B\",\"opacity\":0.7,\"pattern\":{\"shape\":\"\"}},\"name\":\"Cluster 1\",\"offsetgroup\":\"Cluster 1\",\"orientation\":\"v\",\"showlegend\":true,\"x\":[1.5221,1.51934,1.519,1.52196,1.51911,1.51905,1.51909,1.51969,1.51966,1.51852,1.51888,1.51937,1.52099,1.52177,1.52667,1.52211,1.52213,1.52223,1.52068,1.52172,1.51918,1.52213,1.51829,1.52152,1.52315,1.52081,1.52247,1.52127,1.51977,1.52152,1.523,1.52177,1.52121,1.52152,1.51905,1.5232],\"xaxis\":\"x\",\"yaxis\":\"y\",\"type\":\"histogram\"},{\"alignmentgroup\":\"True\",\"customdata\":[[13.73,3.84,0.72,71.76,0.17,9.74,0.0,0.0,\"Cluster 1\"],[13.64,3.54,0.75,72.65,0.16,8.89,0.15,0.24,\"Cluster 1\"],[13.49,3.48,1.35,71.95,0.55,9.0,0.0,0.0,\"Cluster 1\"],[14.36,3.85,0.89,71.36,0.15,9.15,0.0,0.0,\"Cluster 1\"],[13.9,3.73,1.18,72.12,0.06,8.89,0.0,0.0,\"Cluster 1\"],[13.6,3.62,1.11,72.64,0.14,8.76,0.0,0.0,\"Cluster 1\"],[13.89,3.53,1.32,71.81,0.51,8.78,0.11,0.0,\"Cluster 1\"],[14.56,0.0,0.56,73.48,0.0,11.22,0.0,0.0,\"Cluster 1\"],[14.77,3.75,0.29,72.02,0.03,9.0,0.0,0.0,\"Cluster 1\"],[14.09,2.19,1.66,72.67,0.0,9.32,0.0,0.0,\"Cluster 1\"],[14.99,0.78,1.74,72.5,0.0,9.95,0.0,0.0,\"Cluster 1\"],[13.79,2.41,1.19,72.76,0.0,9.77,0.0,0.0,\"Cluster 1\"],[13.69,3.59,1.12,71.96,0.09,9.4,0.0,0.0,\"Cluster 1\"],[13.75,1.01,1.36,72.19,0.33,11.14,0.0,0.0,\"Cluster 1\"],[13.99,3.7,0.71,71.57,0.02,9.82,0.0,0.1,\"Cluster 1\"],[14.19,3.78,0.91,71.36,0.23,9.14,0.0,0.37,\"Cluster 1\"],[14.21,3.82,0.47,71.77,0.11,9.57,0.0,0.0,\"Cluster 1\"],[13.21,3.77,0.79,71.99,0.13,10.02,0.0,0.0,\"Cluster 1\"],[13.55,2.09,1.67,72.18,0.53,9.57,0.27,0.17,\"Cluster 1\"],[13.48,3.74,0.9,72.01,0.18,9.61,0.0,0.07,\"Cluster 1\"],[14.04,3.58,1.37,72.08,0.56,8.3,0.0,0.0,\"Cluster 1\"],[14.21,3.82,0.47,71.77,0.11,9.57,0.0,0.0,\"Cluster 1\"],[14.46,2.24,1.62,72.38,0.0,9.26,0.0,0.0,\"Cluster 1\"],[13.05,3.65,0.87,72.32,0.19,9.85,0.0,0.17,\"Cluster 1\"],[13.44,3.34,1.23,72.38,0.6,8.83,0.0,0.0,\"Cluster 1\"],[13.78,2.28,1.43,71.99,0.49,9.85,0.0,0.17,\"Cluster 1\"],[14.86,2.2,2.06,70.26,0.76,9.76,0.0,0.0,\"Cluster 1\"],[14.32,3.9,0.83,71.5,0.0,9.49,0.0,0.0,\"Cluster 1\"],[13.81,3.58,1.32,71.72,0.12,8.67,0.69,0.0,\"Cluster 1\"],[13.05,3.65,0.87,72.22,0.19,9.85,0.0,0.17,\"Cluster 1\"],[13.31,3.58,0.82,71.99,0.12,10.17,0.0,0.03,\"Cluster 1\"],[13.2,3.68,1.15,72.75,0.54,8.52,0.0,0.0,\"Cluster 1\"],[14.03,3.76,0.58,71.79,0.11,9.65,0.0,0.0,\"Cluster 1\"],[13.12,3.58,0.9,72.2,0.23,9.82,0.0,0.16,\"Cluster 1\"],[14.0,2.39,1.56,72.37,0.0,9.57,0.0,0.0,\"Cluster 1\"],[13.72,3.72,0.51,71.75,0.09,10.06,0.0,0.16,\"Cluster 1\"]],\"hovertemplate\":\"Cluster=%{customdata[8]}<br>a=%{x}<br>b=%{customdata[0]}<br>c=%{customdata[1]}<br>d=%{customdata[2]}<br>e=%{customdata[3]}<br>f=%{customdata[4]}<br>g=%{customdata[5]}<br>h=%{customdata[6]}<br>i=%{customdata[7]}<extra></extra>\",\"legendgroup\":\"Cluster 1\",\"marker\":{\"color\":\"#EF553B\"},\"name\":\"Cluster 1\",\"notched\":true,\"offsetgroup\":\"Cluster 1\",\"showlegend\":false,\"x\":[1.5221,1.51934,1.519,1.52196,1.51911,1.51905,1.51909,1.51969,1.51966,1.51852,1.51888,1.51937,1.52099,1.52177,1.52667,1.52211,1.52213,1.52223,1.52068,1.52172,1.51918,1.52213,1.51829,1.52152,1.52315,1.52081,1.52247,1.52127,1.51977,1.52152,1.523,1.52177,1.52121,1.52152,1.51905,1.5232],\"xaxis\":\"x2\",\"yaxis\":\"y2\",\"type\":\"box\"},{\"alignmentgroup\":\"True\",\"bingroup\":\"x\",\"hovertemplate\":\"Cluster=Cluster 2<br>a=%{x}<br>count=%{y}<extra></extra>\",\"legendgroup\":\"Cluster 2\",\"marker\":{\"color\":\"#00cc96\",\"opacity\":0.7,\"pattern\":{\"shape\":\"\"}},\"name\":\"Cluster 2\",\"offsetgroup\":\"Cluster 2\",\"orientation\":\"v\",\"showlegend\":true,\"x\":[1.52777,1.52475,1.52369,1.51994,1.52739,1.52664,1.52043,1.52614],\"xaxis\":\"x\",\"yaxis\":\"y\",\"type\":\"histogram\"},{\"alignmentgroup\":\"True\",\"customdata\":[[12.64,0.0,0.67,72.02,0.06,14.4,0.0,0.0,\"Cluster 2\"],[11.45,0.0,1.88,72.19,0.81,13.24,0.0,0.34,\"Cluster 2\"],[13.44,0.0,1.58,72.22,0.32,12.24,0.0,0.0,\"Cluster 2\"],[13.27,0.0,1.76,73.03,0.47,11.32,0.0,0.0,\"Cluster 2\"],[11.02,0.0,0.75,73.08,0.0,14.96,0.0,0.0,\"Cluster 2\"],[11.23,0.0,0.77,73.21,0.0,14.68,0.0,0.0,\"Cluster 2\"],[13.38,0.0,1.4,72.25,0.33,12.5,0.0,0.0,\"Cluster 2\"],[13.7,0.0,1.36,71.24,0.19,13.44,0.0,0.1,\"Cluster 2\"]],\"hovertemplate\":\"Cluster=%{customdata[8]}<br>a=%{x}<br>b=%{customdata[0]}<br>c=%{customdata[1]}<br>d=%{customdata[2]}<br>e=%{customdata[3]}<br>f=%{customdata[4]}<br>g=%{customdata[5]}<br>h=%{customdata[6]}<br>i=%{customdata[7]}<extra></extra>\",\"legendgroup\":\"Cluster 2\",\"marker\":{\"color\":\"#00cc96\"},\"name\":\"Cluster 2\",\"notched\":true,\"offsetgroup\":\"Cluster 2\",\"showlegend\":false,\"x\":[1.52777,1.52475,1.52369,1.51994,1.52739,1.52664,1.52043,1.52614],\"xaxis\":\"x2\",\"yaxis\":\"y2\",\"type\":\"box\"},{\"alignmentgroup\":\"True\",\"bingroup\":\"x\",\"hovertemplate\":\"Cluster=Cluster 3<br>a=%{x}<br>count=%{y}<extra></extra>\",\"legendgroup\":\"Cluster 3\",\"marker\":{\"color\":\"#ab63fa\",\"opacity\":0.7,\"pattern\":{\"shape\":\"\"}},\"name\":\"Cluster 3\",\"offsetgroup\":\"Cluster 3\",\"orientation\":\"v\",\"showlegend\":true,\"x\":[1.51545,1.52065,1.51623,1.51685,1.51508,1.51617,1.51602,1.51115,1.51131,1.51609,1.51727,1.51838,1.5164,1.51711,1.51719,1.51514,1.51732],\"xaxis\":\"x\",\"yaxis\":\"y\",\"type\":\"histogram\"},{\"alignmentgroup\":\"True\",\"customdata\":[[14.14,0.0,2.68,73.39,0.08,9.07,0.61,0.05,\"Cluster 3\"],[14.36,0.0,2.02,73.42,0.0,8.44,1.64,0.0,\"Cluster 3\"],[14.2,0.0,2.79,73.46,0.04,9.04,0.4,0.09,\"Cluster 3\"],[14.92,0.0,1.99,73.06,0.0,8.4,1.59,0.0,\"Cluster 3\"],[15.15,0.0,2.25,73.5,0.0,8.34,0.63,0.0,\"Cluster 3\"],[14.95,0.0,2.27,73.3,0.0,8.71,0.67,0.0,\"Cluster 3\"],[14.85,0.0,2.38,73.28,0.0,8.76,0.64,0.09,\"Cluster 3\"],[17.38,0.0,0.34,75.41,0.0,6.65,0.0,0.0,\"Cluster 3\"],[13.69,3.2,1.81,72.81,1.76,5.43,1.19,0.0,\"Cluster 3\"],[15.01,0.0,2.51,73.05,0.05,8.83,0.53,0.0,\"Cluster 3\"],[14.7,0.0,2.34,73.28,0.0,8.95,0.66,0.0,\"Cluster 3\"],[14.32,3.26,2.22,71.25,1.46,5.79,1.63,0.0,\"Cluster 3\"],[14.37,0.0,2.74,72.85,0.0,9.45,0.54,0.0,\"Cluster 3\"],[14.23,0.0,2.08,73.36,0.0,8.62,1.67,0.0,\"Cluster 3\"],[14.75,0.0,2.0,73.02,0.0,8.53,1.59,0.08,\"Cluster 3\"],[14.85,0.0,2.42,73.72,0.0,8.39,0.56,0.0,\"Cluster 3\"],[14.95,0.0,1.8,72.99,0.0,8.61,1.55,0.0,\"Cluster 3\"]],\"hovertemplate\":\"Cluster=%{customdata[8]}<br>a=%{x}<br>b=%{customdata[0]}<br>c=%{customdata[1]}<br>d=%{customdata[2]}<br>e=%{customdata[3]}<br>f=%{customdata[4]}<br>g=%{customdata[5]}<br>h=%{customdata[6]}<br>i=%{customdata[7]}<extra></extra>\",\"legendgroup\":\"Cluster 3\",\"marker\":{\"color\":\"#ab63fa\"},\"name\":\"Cluster 3\",\"notched\":true,\"offsetgroup\":\"Cluster 3\",\"showlegend\":false,\"x\":[1.51545,1.52065,1.51623,1.51685,1.51508,1.51617,1.51602,1.51115,1.51131,1.51609,1.51727,1.51838,1.5164,1.51711,1.51719,1.51514,1.51732],\"xaxis\":\"x2\",\"yaxis\":\"y2\",\"type\":\"box\"},{\"alignmentgroup\":\"True\",\"bingroup\":\"x\",\"hovertemplate\":\"Cluster=Cluster 4<br>a=%{x}<br>count=%{y}<extra></extra>\",\"legendgroup\":\"Cluster 4\",\"marker\":{\"color\":\"#FFA15A\",\"opacity\":0.7,\"pattern\":{\"shape\":\"\"}},\"name\":\"Cluster 4\",\"offsetgroup\":\"Cluster 4\",\"orientation\":\"v\",\"showlegend\":true,\"x\":[1.51316],\"xaxis\":\"x\",\"yaxis\":\"y\",\"type\":\"histogram\"},{\"alignmentgroup\":\"True\",\"customdata\":[[13.02,0.0,3.04,70.48,6.21,6.96,0.0,0.0,\"Cluster 4\"]],\"hovertemplate\":\"Cluster=%{customdata[8]}<br>a=%{x}<br>b=%{customdata[0]}<br>c=%{customdata[1]}<br>d=%{customdata[2]}<br>e=%{customdata[3]}<br>f=%{customdata[4]}<br>g=%{customdata[5]}<br>h=%{customdata[6]}<br>i=%{customdata[7]}<extra></extra>\",\"legendgroup\":\"Cluster 4\",\"marker\":{\"color\":\"#FFA15A\"},\"name\":\"Cluster 4\",\"notched\":true,\"offsetgroup\":\"Cluster 4\",\"showlegend\":false,\"x\":[1.51316],\"xaxis\":\"x2\",\"yaxis\":\"y2\",\"type\":\"box\"}],                        {\"template\":{\"data\":{\"bar\":[{\"error_x\":{\"color\":\"#2a3f5f\"},\"error_y\":{\"color\":\"#2a3f5f\"},\"marker\":{\"line\":{\"color\":\"#E5ECF6\",\"width\":0.5},\"pattern\":{\"fillmode\":\"overlay\",\"size\":10,\"solidity\":0.2}},\"type\":\"bar\"}],\"barpolar\":[{\"marker\":{\"line\":{\"color\":\"#E5ECF6\",\"width\":0.5},\"pattern\":{\"fillmode\":\"overlay\",\"size\":10,\"solidity\":0.2}},\"type\":\"barpolar\"}],\"carpet\":[{\"aaxis\":{\"endlinecolor\":\"#2a3f5f\",\"gridcolor\":\"white\",\"linecolor\":\"white\",\"minorgridcolor\":\"white\",\"startlinecolor\":\"#2a3f5f\"},\"baxis\":{\"endlinecolor\":\"#2a3f5f\",\"gridcolor\":\"white\",\"linecolor\":\"white\",\"minorgridcolor\":\"white\",\"startlinecolor\":\"#2a3f5f\"},\"type\":\"carpet\"}],\"choropleth\":[{\"colorbar\":{\"outlinewidth\":0,\"ticks\":\"\"},\"type\":\"choropleth\"}],\"contour\":[{\"colorbar\":{\"outlinewidth\":0,\"ticks\":\"\"},\"colorscale\":[[0.0,\"#0d0887\"],[0.1111111111111111,\"#46039f\"],[0.2222222222222222,\"#7201a8\"],[0.3333333333333333,\"#9c179e\"],[0.4444444444444444,\"#bd3786\"],[0.5555555555555556,\"#d8576b\"],[0.6666666666666666,\"#ed7953\"],[0.7777777777777778,\"#fb9f3a\"],[0.8888888888888888,\"#fdca26\"],[1.0,\"#f0f921\"]],\"type\":\"contour\"}],\"contourcarpet\":[{\"colorbar\":{\"outlinewidth\":0,\"ticks\":\"\"},\"type\":\"contourcarpet\"}],\"heatmap\":[{\"colorbar\":{\"outlinewidth\":0,\"ticks\":\"\"},\"colorscale\":[[0.0,\"#0d0887\"],[0.1111111111111111,\"#46039f\"],[0.2222222222222222,\"#7201a8\"],[0.3333333333333333,\"#9c179e\"],[0.4444444444444444,\"#bd3786\"],[0.5555555555555556,\"#d8576b\"],[0.6666666666666666,\"#ed7953\"],[0.7777777777777778,\"#fb9f3a\"],[0.8888888888888888,\"#fdca26\"],[1.0,\"#f0f921\"]],\"type\":\"heatmap\"}],\"heatmapgl\":[{\"colorbar\":{\"outlinewidth\":0,\"ticks\":\"\"},\"colorscale\":[[0.0,\"#0d0887\"],[0.1111111111111111,\"#46039f\"],[0.2222222222222222,\"#7201a8\"],[0.3333333333333333,\"#9c179e\"],[0.4444444444444444,\"#bd3786\"],[0.5555555555555556,\"#d8576b\"],[0.6666666666666666,\"#ed7953\"],[0.7777777777777778,\"#fb9f3a\"],[0.8888888888888888,\"#fdca26\"],[1.0,\"#f0f921\"]],\"type\":\"heatmapgl\"}],\"histogram\":[{\"marker\":{\"pattern\":{\"fillmode\":\"overlay\",\"size\":10,\"solidity\":0.2}},\"type\":\"histogram\"}],\"histogram2d\":[{\"colorbar\":{\"outlinewidth\":0,\"ticks\":\"\"},\"colorscale\":[[0.0,\"#0d0887\"],[0.1111111111111111,\"#46039f\"],[0.2222222222222222,\"#7201a8\"],[0.3333333333333333,\"#9c179e\"],[0.4444444444444444,\"#bd3786\"],[0.5555555555555556,\"#d8576b\"],[0.6666666666666666,\"#ed7953\"],[0.7777777777777778,\"#fb9f3a\"],[0.8888888888888888,\"#fdca26\"],[1.0,\"#f0f921\"]],\"type\":\"histogram2d\"}],\"histogram2dcontour\":[{\"colorbar\":{\"outlinewidth\":0,\"ticks\":\"\"},\"colorscale\":[[0.0,\"#0d0887\"],[0.1111111111111111,\"#46039f\"],[0.2222222222222222,\"#7201a8\"],[0.3333333333333333,\"#9c179e\"],[0.4444444444444444,\"#bd3786\"],[0.5555555555555556,\"#d8576b\"],[0.6666666666666666,\"#ed7953\"],[0.7777777777777778,\"#fb9f3a\"],[0.8888888888888888,\"#fdca26\"],[1.0,\"#f0f921\"]],\"type\":\"histogram2dcontour\"}],\"mesh3d\":[{\"colorbar\":{\"outlinewidth\":0,\"ticks\":\"\"},\"type\":\"mesh3d\"}],\"parcoords\":[{\"line\":{\"colorbar\":{\"outlinewidth\":0,\"ticks\":\"\"}},\"type\":\"parcoords\"}],\"pie\":[{\"automargin\":true,\"type\":\"pie\"}],\"scatter\":[{\"marker\":{\"colorbar\":{\"outlinewidth\":0,\"ticks\":\"\"}},\"type\":\"scatter\"}],\"scatter3d\":[{\"line\":{\"colorbar\":{\"outlinewidth\":0,\"ticks\":\"\"}},\"marker\":{\"colorbar\":{\"outlinewidth\":0,\"ticks\":\"\"}},\"type\":\"scatter3d\"}],\"scattercarpet\":[{\"marker\":{\"colorbar\":{\"outlinewidth\":0,\"ticks\":\"\"}},\"type\":\"scattercarpet\"}],\"scattergeo\":[{\"marker\":{\"colorbar\":{\"outlinewidth\":0,\"ticks\":\"\"}},\"type\":\"scattergeo\"}],\"scattergl\":[{\"marker\":{\"colorbar\":{\"outlinewidth\":0,\"ticks\":\"\"}},\"type\":\"scattergl\"}],\"scattermapbox\":[{\"marker\":{\"colorbar\":{\"outlinewidth\":0,\"ticks\":\"\"}},\"type\":\"scattermapbox\"}],\"scatterpolar\":[{\"marker\":{\"colorbar\":{\"outlinewidth\":0,\"ticks\":\"\"}},\"type\":\"scatterpolar\"}],\"scatterpolargl\":[{\"marker\":{\"colorbar\":{\"outlinewidth\":0,\"ticks\":\"\"}},\"type\":\"scatterpolargl\"}],\"scatterternary\":[{\"marker\":{\"colorbar\":{\"outlinewidth\":0,\"ticks\":\"\"}},\"type\":\"scatterternary\"}],\"surface\":[{\"colorbar\":{\"outlinewidth\":0,\"ticks\":\"\"},\"colorscale\":[[0.0,\"#0d0887\"],[0.1111111111111111,\"#46039f\"],[0.2222222222222222,\"#7201a8\"],[0.3333333333333333,\"#9c179e\"],[0.4444444444444444,\"#bd3786\"],[0.5555555555555556,\"#d8576b\"],[0.6666666666666666,\"#ed7953\"],[0.7777777777777778,\"#fb9f3a\"],[0.8888888888888888,\"#fdca26\"],[1.0,\"#f0f921\"]],\"type\":\"surface\"}],\"table\":[{\"cells\":{\"fill\":{\"color\":\"#EBF0F8\"},\"line\":{\"color\":\"white\"}},\"header\":{\"fill\":{\"color\":\"#C8D4E3\"},\"line\":{\"color\":\"white\"}},\"type\":\"table\"}]},\"layout\":{\"annotationdefaults\":{\"arrowcolor\":\"#2a3f5f\",\"arrowhead\":0,\"arrowwidth\":1},\"autotypenumbers\":\"strict\",\"coloraxis\":{\"colorbar\":{\"outlinewidth\":0,\"ticks\":\"\"}},\"colorscale\":{\"diverging\":[[0,\"#8e0152\"],[0.1,\"#c51b7d\"],[0.2,\"#de77ae\"],[0.3,\"#f1b6da\"],[0.4,\"#fde0ef\"],[0.5,\"#f7f7f7\"],[0.6,\"#e6f5d0\"],[0.7,\"#b8e186\"],[0.8,\"#7fbc41\"],[0.9,\"#4d9221\"],[1,\"#276419\"]],\"sequential\":[[0.0,\"#0d0887\"],[0.1111111111111111,\"#46039f\"],[0.2222222222222222,\"#7201a8\"],[0.3333333333333333,\"#9c179e\"],[0.4444444444444444,\"#bd3786\"],[0.5555555555555556,\"#d8576b\"],[0.6666666666666666,\"#ed7953\"],[0.7777777777777778,\"#fb9f3a\"],[0.8888888888888888,\"#fdca26\"],[1.0,\"#f0f921\"]],\"sequentialminus\":[[0.0,\"#0d0887\"],[0.1111111111111111,\"#46039f\"],[0.2222222222222222,\"#7201a8\"],[0.3333333333333333,\"#9c179e\"],[0.4444444444444444,\"#bd3786\"],[0.5555555555555556,\"#d8576b\"],[0.6666666666666666,\"#ed7953\"],[0.7777777777777778,\"#fb9f3a\"],[0.8888888888888888,\"#fdca26\"],[1.0,\"#f0f921\"]]},\"colorway\":[\"#636efa\",\"#EF553B\",\"#00cc96\",\"#ab63fa\",\"#FFA15A\",\"#19d3f3\",\"#FF6692\",\"#B6E880\",\"#FF97FF\",\"#FECB52\"],\"font\":{\"color\":\"#2a3f5f\"},\"geo\":{\"bgcolor\":\"white\",\"lakecolor\":\"white\",\"landcolor\":\"#E5ECF6\",\"showlakes\":true,\"showland\":true,\"subunitcolor\":\"white\"},\"hoverlabel\":{\"align\":\"left\"},\"hovermode\":\"closest\",\"mapbox\":{\"style\":\"light\"},\"paper_bgcolor\":\"white\",\"plot_bgcolor\":\"#E5ECF6\",\"polar\":{\"angularaxis\":{\"gridcolor\":\"white\",\"linecolor\":\"white\",\"ticks\":\"\"},\"bgcolor\":\"#E5ECF6\",\"radialaxis\":{\"gridcolor\":\"white\",\"linecolor\":\"white\",\"ticks\":\"\"}},\"scene\":{\"xaxis\":{\"backgroundcolor\":\"#E5ECF6\",\"gridcolor\":\"white\",\"gridwidth\":2,\"linecolor\":\"white\",\"showbackground\":true,\"ticks\":\"\",\"zerolinecolor\":\"white\"},\"yaxis\":{\"backgroundcolor\":\"#E5ECF6\",\"gridcolor\":\"white\",\"gridwidth\":2,\"linecolor\":\"white\",\"showbackground\":true,\"ticks\":\"\",\"zerolinecolor\":\"white\"},\"zaxis\":{\"backgroundcolor\":\"#E5ECF6\",\"gridcolor\":\"white\",\"gridwidth\":2,\"linecolor\":\"white\",\"showbackground\":true,\"ticks\":\"\",\"zerolinecolor\":\"white\"}},\"shapedefaults\":{\"line\":{\"color\":\"#2a3f5f\"}},\"ternary\":{\"aaxis\":{\"gridcolor\":\"white\",\"linecolor\":\"white\",\"ticks\":\"\"},\"baxis\":{\"gridcolor\":\"white\",\"linecolor\":\"white\",\"ticks\":\"\"},\"bgcolor\":\"#E5ECF6\",\"caxis\":{\"gridcolor\":\"white\",\"linecolor\":\"white\",\"ticks\":\"\"}},\"title\":{\"x\":0.05},\"xaxis\":{\"automargin\":true,\"gridcolor\":\"white\",\"linecolor\":\"white\",\"ticks\":\"\",\"title\":{\"standoff\":15},\"zerolinecolor\":\"white\",\"zerolinewidth\":2},\"yaxis\":{\"automargin\":true,\"gridcolor\":\"white\",\"linecolor\":\"white\",\"ticks\":\"\",\"title\":{\"standoff\":15},\"zerolinecolor\":\"white\",\"zerolinewidth\":2}}},\"xaxis\":{\"anchor\":\"y\",\"domain\":[0.0,1.0],\"title\":{\"text\":\"a\"}},\"yaxis\":{\"anchor\":\"x\",\"domain\":[0.0,0.7326],\"title\":{\"text\":\"count\"}},\"xaxis2\":{\"anchor\":\"y2\",\"domain\":[0.0,1.0],\"matches\":\"x\",\"showticklabels\":false,\"showgrid\":true},\"yaxis2\":{\"anchor\":\"x2\",\"domain\":[0.7426,1.0],\"matches\":\"y2\",\"showticklabels\":false,\"showline\":false,\"ticks\":\"\",\"showgrid\":false},\"legend\":{\"title\":{\"text\":\"Cluster\"},\"tracegroupgap\":0},\"margin\":{\"t\":60},\"barmode\":\"relative\",\"height\":600},                        {\"responsive\": true}                    ).then(function(){\n",
              "                            \n",
              "var gd = document.getElementById('167b51d9-2b83-425e-8c25-a329ac1e0b29');\n",
              "var x = new MutationObserver(function (mutations, observer) {{\n",
              "        var display = window.getComputedStyle(gd).display;\n",
              "        if (!display || display === 'none') {{\n",
              "            console.log([gd, 'removed!']);\n",
              "            Plotly.purge(gd);\n",
              "            observer.disconnect();\n",
              "        }}\n",
              "}});\n",
              "\n",
              "// Listen for the removal of the full notebook cells\n",
              "var notebookContainer = gd.closest('#notebook-container');\n",
              "if (notebookContainer) {{\n",
              "    x.observe(notebookContainer, {childList: true});\n",
              "}}\n",
              "\n",
              "// Listen for the clearing of the current output cell\n",
              "var outputEl = gd.closest('.output');\n",
              "if (outputEl) {{\n",
              "    x.observe(outputEl, {childList: true});\n",
              "}}\n",
              "\n",
              "                        })                };                            </script>        </div>\n",
              "</body>\n",
              "</html>"
            ]
          },
          "metadata": {}
        },
        {
          "output_type": "stream",
          "name": "stderr",
          "text": [
            "INFO:logs:Visual Rendered Successfully\n",
            "INFO:logs:plot_model() succesfully completed......................................\n"
          ]
        }
      ]
    },
    {
      "cell_type": "code",
      "source": [
        "plot_model(cls_models, plot = 'distribution', feature = 'b')"
      ],
      "metadata": {
        "colab": {
          "base_uri": "https://localhost:8080/",
          "height": 672
        },
        "id": "dNuy-EgmCn1f",
        "outputId": "a5ed90cd-8d7d-4028-c0f6-6c9d1ca54366"
      },
      "execution_count": 67,
      "outputs": [
        {
          "output_type": "stream",
          "name": "stderr",
          "text": [
            "INFO:logs:Rendering Visual\n"
          ]
        },
        {
          "output_type": "display_data",
          "data": {
            "text/html": [
              "<html>\n",
              "<head><meta charset=\"utf-8\" /></head>\n",
              "<body>\n",
              "    <div>            <script src=\"https://cdnjs.cloudflare.com/ajax/libs/mathjax/2.7.5/MathJax.js?config=TeX-AMS-MML_SVG\"></script><script type=\"text/javascript\">if (window.MathJax) {MathJax.Hub.Config({SVG: {font: \"STIX-Web\"}});}</script>                <script type=\"text/javascript\">window.PlotlyConfig = {MathJaxConfig: 'local'};</script>\n",
              "        <script src=\"https://cdn.plot.ly/plotly-2.8.3.min.js\"></script>                <div id=\"db3211ef-7e4d-4e37-80d8-7ea8f2ecf78e\" class=\"plotly-graph-div\" style=\"height:600px; width:100%;\"></div>            <script type=\"text/javascript\">                                    window.PLOTLYENV=window.PLOTLYENV || {};                                    if (document.getElementById(\"db3211ef-7e4d-4e37-80d8-7ea8f2ecf78e\")) {                    Plotly.newPlot(                        \"db3211ef-7e4d-4e37-80d8-7ea8f2ecf78e\",                        [{\"alignmentgroup\":\"True\",\"bingroup\":\"x\",\"hovertemplate\":\"Cluster=Cluster 0<br>b=%{x}<br>count=%{y}<extra></extra>\",\"legendgroup\":\"Cluster 0\",\"marker\":{\"color\":\"#636efa\",\"opacity\":0.7,\"pattern\":{\"shape\":\"\"}},\"name\":\"Cluster 0\",\"offsetgroup\":\"Cluster 0\",\"orientation\":\"v\",\"showlegend\":true,\"x\":[13.56,13.72,13.43,13.41,12.79,12.79,13.02,13.23,13.41,12.96,12.86,13.15,13.42,13.46,12.87,13.48,13.36,12.74,12.68,12.85,13.02,12.85,13.33,13.19,12.62,13.04,12.93,13.02,13.33,11.95,13.0,12.67,12.87,12.16,12.98,12.87,13.25,13.0,13.27,13.64,13.65,12.9,13.24,12.45,12.79,13.0,13.41,13.1,13.4,13.3,12.84,12.8,13.21,14.4,13.36,12.85,14.25,12.73,12.72,13.2,13.89,13.92,12.69,13.71,12.78,13.24,13.21,13.09,12.85,13.29,12.93,12.57,13.48],\"xaxis\":\"x\",\"yaxis\":\"y\",\"type\":\"histogram\"},{\"alignmentgroup\":\"True\",\"customdata\":[[1.51652,3.57,1.47,72.45,0.64,7.96,0.0,0.0,\"Cluster 0\"],[1.51708,3.68,1.81,72.06,0.64,7.88,0.0,0.0,\"Cluster 0\"],[1.51808,2.87,1.19,72.84,0.55,9.03,0.0,0.0,\"Cluster 0\"],[1.51646,3.55,1.25,72.81,0.68,8.1,0.0,0.0,\"Cluster 0\"],[1.51793,3.5,1.12,73.03,0.64,8.77,0.0,0.0,\"Cluster 0\"],[1.51596,3.61,1.62,72.97,0.64,8.07,0.0,0.26,\"Cluster 0\"],[1.51735,3.54,1.69,72.73,0.54,8.44,0.0,0.07,\"Cluster 0\"],[1.51687,3.54,1.48,72.84,0.56,8.1,0.0,0.0,\"Cluster 0\"],[1.51655,3.39,1.28,72.64,0.52,8.65,0.0,0.0,\"Cluster 0\"],[1.51811,2.96,1.43,72.92,0.6,8.79,0.14,0.0,\"Cluster 0\"],[1.51592,3.52,2.12,72.66,0.69,7.97,0.0,0.0,\"Cluster 0\"],[1.51756,3.61,1.05,73.24,0.57,8.24,0.0,0.0,\"Cluster 0\"],[1.5161,3.4,1.22,72.69,0.59,8.32,0.0,0.0,\"Cluster 0\"],[1.51892,3.83,1.26,72.55,0.57,8.21,0.0,0.14,\"Cluster 0\"],[1.51674,3.56,1.64,73.14,0.65,7.99,0.0,0.0,\"Cluster 0\"],[1.51754,3.74,1.17,72.99,0.59,8.03,0.0,0.0,\"Cluster 0\"],[1.51625,3.58,1.49,72.72,0.45,8.21,0.0,0.0,\"Cluster 0\"],[1.51797,3.48,1.35,72.96,0.64,8.68,0.0,0.0,\"Cluster 0\"],[1.51784,3.67,1.16,73.11,0.61,8.7,0.0,0.0,\"Cluster 0\"],[1.52058,1.61,2.17,72.18,0.76,9.7,0.24,0.51,\"Cluster 0\"],[1.51596,3.56,1.54,73.11,0.72,7.9,0.0,0.0,\"Cluster 0\"],[1.51775,3.48,1.23,72.97,0.61,8.56,0.09,0.22,\"Cluster 0\"],[1.51811,3.85,1.25,72.78,0.52,8.12,0.0,0.0,\"Cluster 0\"],[1.51789,3.9,1.3,72.33,0.55,8.44,0.0,0.28,\"Cluster 0\"],[1.5182,2.76,0.83,73.81,0.35,9.42,0.0,0.2,\"Cluster 0\"],[1.51646,3.4,1.26,73.01,0.52,8.58,0.0,0.0,\"Cluster 0\"],[1.51841,3.74,1.11,72.28,0.64,8.96,0.0,0.22,\"Cluster 0\"],[1.51841,3.62,1.06,72.34,0.64,9.13,0.0,0.15,\"Cluster 0\"],[1.5169,3.54,1.61,72.54,0.68,8.11,0.0,0.0,\"Cluster 0\"],[1.51653,0.0,1.19,75.18,2.7,8.93,0.0,0.0,\"Cluster 0\"],[1.51709,3.47,1.79,72.72,0.66,8.18,0.0,0.0,\"Cluster 0\"],[1.51689,2.88,1.71,73.21,0.73,8.54,0.0,0.0,\"Cluster 0\"],[1.51721,3.48,1.33,73.04,0.56,8.43,0.0,0.0,\"Cluster 0\"],[1.51643,3.52,1.35,72.89,0.57,8.53,0.0,0.0,\"Cluster 0\"],[1.51764,3.54,1.21,73.0,0.65,8.53,0.0,0.0,\"Cluster 0\"],[1.51824,3.48,1.29,72.95,0.6,8.43,0.0,0.0,\"Cluster 0\"],[1.51593,3.45,1.43,73.17,0.61,7.86,0.0,0.0,\"Cluster 0\"],[1.51806,3.8,1.08,73.07,0.56,8.38,0.0,0.12,\"Cluster 0\"],[1.51742,3.62,1.24,73.08,0.55,8.07,0.0,0.0,\"Cluster 0\"],[1.51779,3.65,0.65,73.0,0.06,8.93,0.0,0.0,\"Cluster 0\"],[1.51769,3.66,1.11,72.77,0.11,8.6,0.0,0.0,\"Cluster 0\"],[1.51605,3.44,1.45,73.06,0.44,8.27,0.0,0.0,\"Cluster 0\"],[1.51569,3.49,1.47,73.25,0.38,8.03,0.0,0.0,\"Cluster 0\"],[1.51769,2.71,1.29,73.7,0.56,9.06,0.0,0.24,\"Cluster 0\"],[1.51674,3.52,1.54,73.36,0.66,7.9,0.0,0.0,\"Cluster 0\"],[1.51755,3.6,1.36,72.99,0.57,8.4,0.0,0.11,\"Cluster 0\"],[1.51846,3.89,1.33,72.38,0.51,8.28,0.0,0.0,\"Cluster 0\"],[1.51847,3.97,1.19,72.44,0.6,8.43,0.0,0.0,\"Cluster 0\"],[1.51645,3.49,1.52,72.65,0.67,8.08,0.0,0.1,\"Cluster 0\"],[1.51673,3.64,1.53,72.53,0.65,8.03,0.0,0.29,\"Cluster 0\"],[1.51747,3.5,1.14,73.27,0.56,8.55,0.0,0.0,\"Cluster 0\"],[1.51763,3.66,1.27,73.01,0.6,8.56,0.0,0.0,\"Cluster 0\"],[1.51779,3.39,1.33,72.76,0.59,8.59,0.0,0.0,\"Cluster 0\"],[1.51299,1.74,1.54,74.55,0.0,7.59,0.0,0.0,\"Cluster 0\"],[1.5186,3.43,1.43,72.26,0.51,8.6,0.0,0.0,\"Cluster 0\"],[1.51839,3.67,1.24,72.57,0.62,8.68,0.0,0.35,\"Cluster 0\"],[1.51409,3.09,2.08,72.28,1.1,7.08,0.0,0.0,\"Cluster 0\"],[1.51786,3.43,1.19,72.95,0.62,8.76,0.0,0.3,\"Cluster 0\"],[1.51571,3.46,1.56,73.2,0.67,8.09,0.0,0.24,\"Cluster 0\"],[1.51851,3.63,1.07,72.83,0.57,8.41,0.09,0.17,\"Cluster 0\"],[1.51761,3.6,1.36,72.73,0.48,7.83,0.0,0.0,\"Cluster 0\"],[1.51613,3.52,1.25,72.88,0.37,7.94,0.0,0.14,\"Cluster 0\"],[1.51783,3.54,1.34,72.95,0.57,8.75,0.0,0.0,\"Cluster 0\"],[1.518,3.93,1.54,71.81,0.54,8.21,0.0,0.15,\"Cluster 0\"],[1.51736,3.62,1.29,72.79,0.59,8.7,0.0,0.0,\"Cluster 0\"],[1.5159,3.34,1.47,73.1,0.39,8.22,0.0,0.0,\"Cluster 0\"],[1.51766,3.69,1.29,72.61,0.57,8.22,0.0,0.0,\"Cluster 0\"],[1.51594,3.52,1.55,72.87,0.68,8.05,0.0,0.09,\"Cluster 0\"],[1.51662,3.51,1.44,73.01,0.68,8.23,0.06,0.25,\"Cluster 0\"],[1.51567,3.45,1.21,72.74,0.56,8.57,0.0,0.0,\"Cluster 0\"],[1.51872,3.66,1.56,72.51,0.58,8.55,0.0,0.12,\"Cluster 0\"],[1.51753,3.47,1.38,73.39,0.6,8.55,0.0,0.06,\"Cluster 0\"],[1.51707,3.48,1.71,72.52,0.62,7.99,0.0,0.0,\"Cluster 0\"]],\"hovertemplate\":\"Cluster=%{customdata[8]}<br>b=%{x}<br>a=%{customdata[0]}<br>c=%{customdata[1]}<br>d=%{customdata[2]}<br>e=%{customdata[3]}<br>f=%{customdata[4]}<br>g=%{customdata[5]}<br>h=%{customdata[6]}<br>i=%{customdata[7]}<extra></extra>\",\"legendgroup\":\"Cluster 0\",\"marker\":{\"color\":\"#636efa\"},\"name\":\"Cluster 0\",\"notched\":true,\"offsetgroup\":\"Cluster 0\",\"showlegend\":false,\"x\":[13.56,13.72,13.43,13.41,12.79,12.79,13.02,13.23,13.41,12.96,12.86,13.15,13.42,13.46,12.87,13.48,13.36,12.74,12.68,12.85,13.02,12.85,13.33,13.19,12.62,13.04,12.93,13.02,13.33,11.95,13.0,12.67,12.87,12.16,12.98,12.87,13.25,13.0,13.27,13.64,13.65,12.9,13.24,12.45,12.79,13.0,13.41,13.1,13.4,13.3,12.84,12.8,13.21,14.4,13.36,12.85,14.25,12.73,12.72,13.2,13.89,13.92,12.69,13.71,12.78,13.24,13.21,13.09,12.85,13.29,12.93,12.57,13.48],\"xaxis\":\"x2\",\"yaxis\":\"y2\",\"type\":\"box\"},{\"alignmentgroup\":\"True\",\"bingroup\":\"x\",\"hovertemplate\":\"Cluster=Cluster 1<br>b=%{x}<br>count=%{y}<extra></extra>\",\"legendgroup\":\"Cluster 1\",\"marker\":{\"color\":\"#EF553B\",\"opacity\":0.7,\"pattern\":{\"shape\":\"\"}},\"name\":\"Cluster 1\",\"offsetgroup\":\"Cluster 1\",\"orientation\":\"v\",\"showlegend\":true,\"x\":[13.73,13.64,13.49,14.36,13.9,13.6,13.89,14.56,14.77,14.09,14.99,13.79,13.69,13.75,13.99,14.19,14.21,13.21,13.55,13.48,14.04,14.21,14.46,13.05,13.44,13.78,14.86,14.32,13.81,13.05,13.31,13.2,14.03,13.12,14.0,13.72],\"xaxis\":\"x\",\"yaxis\":\"y\",\"type\":\"histogram\"},{\"alignmentgroup\":\"True\",\"customdata\":[[1.5221,3.84,0.72,71.76,0.17,9.74,0.0,0.0,\"Cluster 1\"],[1.51934,3.54,0.75,72.65,0.16,8.89,0.15,0.24,\"Cluster 1\"],[1.519,3.48,1.35,71.95,0.55,9.0,0.0,0.0,\"Cluster 1\"],[1.52196,3.85,0.89,71.36,0.15,9.15,0.0,0.0,\"Cluster 1\"],[1.51911,3.73,1.18,72.12,0.06,8.89,0.0,0.0,\"Cluster 1\"],[1.51905,3.62,1.11,72.64,0.14,8.76,0.0,0.0,\"Cluster 1\"],[1.51909,3.53,1.32,71.81,0.51,8.78,0.11,0.0,\"Cluster 1\"],[1.51969,0.0,0.56,73.48,0.0,11.22,0.0,0.0,\"Cluster 1\"],[1.51966,3.75,0.29,72.02,0.03,9.0,0.0,0.0,\"Cluster 1\"],[1.51852,2.19,1.66,72.67,0.0,9.32,0.0,0.0,\"Cluster 1\"],[1.51888,0.78,1.74,72.5,0.0,9.95,0.0,0.0,\"Cluster 1\"],[1.51937,2.41,1.19,72.76,0.0,9.77,0.0,0.0,\"Cluster 1\"],[1.52099,3.59,1.12,71.96,0.09,9.4,0.0,0.0,\"Cluster 1\"],[1.52177,1.01,1.36,72.19,0.33,11.14,0.0,0.0,\"Cluster 1\"],[1.52667,3.7,0.71,71.57,0.02,9.82,0.0,0.1,\"Cluster 1\"],[1.52211,3.78,0.91,71.36,0.23,9.14,0.0,0.37,\"Cluster 1\"],[1.52213,3.82,0.47,71.77,0.11,9.57,0.0,0.0,\"Cluster 1\"],[1.52223,3.77,0.79,71.99,0.13,10.02,0.0,0.0,\"Cluster 1\"],[1.52068,2.09,1.67,72.18,0.53,9.57,0.27,0.17,\"Cluster 1\"],[1.52172,3.74,0.9,72.01,0.18,9.61,0.0,0.07,\"Cluster 1\"],[1.51918,3.58,1.37,72.08,0.56,8.3,0.0,0.0,\"Cluster 1\"],[1.52213,3.82,0.47,71.77,0.11,9.57,0.0,0.0,\"Cluster 1\"],[1.51829,2.24,1.62,72.38,0.0,9.26,0.0,0.0,\"Cluster 1\"],[1.52152,3.65,0.87,72.32,0.19,9.85,0.0,0.17,\"Cluster 1\"],[1.52315,3.34,1.23,72.38,0.6,8.83,0.0,0.0,\"Cluster 1\"],[1.52081,2.28,1.43,71.99,0.49,9.85,0.0,0.17,\"Cluster 1\"],[1.52247,2.2,2.06,70.26,0.76,9.76,0.0,0.0,\"Cluster 1\"],[1.52127,3.9,0.83,71.5,0.0,9.49,0.0,0.0,\"Cluster 1\"],[1.51977,3.58,1.32,71.72,0.12,8.67,0.69,0.0,\"Cluster 1\"],[1.52152,3.65,0.87,72.22,0.19,9.85,0.0,0.17,\"Cluster 1\"],[1.523,3.58,0.82,71.99,0.12,10.17,0.0,0.03,\"Cluster 1\"],[1.52177,3.68,1.15,72.75,0.54,8.52,0.0,0.0,\"Cluster 1\"],[1.52121,3.76,0.58,71.79,0.11,9.65,0.0,0.0,\"Cluster 1\"],[1.52152,3.58,0.9,72.2,0.23,9.82,0.0,0.16,\"Cluster 1\"],[1.51905,2.39,1.56,72.37,0.0,9.57,0.0,0.0,\"Cluster 1\"],[1.5232,3.72,0.51,71.75,0.09,10.06,0.0,0.16,\"Cluster 1\"]],\"hovertemplate\":\"Cluster=%{customdata[8]}<br>b=%{x}<br>a=%{customdata[0]}<br>c=%{customdata[1]}<br>d=%{customdata[2]}<br>e=%{customdata[3]}<br>f=%{customdata[4]}<br>g=%{customdata[5]}<br>h=%{customdata[6]}<br>i=%{customdata[7]}<extra></extra>\",\"legendgroup\":\"Cluster 1\",\"marker\":{\"color\":\"#EF553B\"},\"name\":\"Cluster 1\",\"notched\":true,\"offsetgroup\":\"Cluster 1\",\"showlegend\":false,\"x\":[13.73,13.64,13.49,14.36,13.9,13.6,13.89,14.56,14.77,14.09,14.99,13.79,13.69,13.75,13.99,14.19,14.21,13.21,13.55,13.48,14.04,14.21,14.46,13.05,13.44,13.78,14.86,14.32,13.81,13.05,13.31,13.2,14.03,13.12,14.0,13.72],\"xaxis\":\"x2\",\"yaxis\":\"y2\",\"type\":\"box\"},{\"alignmentgroup\":\"True\",\"bingroup\":\"x\",\"hovertemplate\":\"Cluster=Cluster 2<br>b=%{x}<br>count=%{y}<extra></extra>\",\"legendgroup\":\"Cluster 2\",\"marker\":{\"color\":\"#00cc96\",\"opacity\":0.7,\"pattern\":{\"shape\":\"\"}},\"name\":\"Cluster 2\",\"offsetgroup\":\"Cluster 2\",\"orientation\":\"v\",\"showlegend\":true,\"x\":[12.64,11.45,13.44,13.27,11.02,11.23,13.38,13.7],\"xaxis\":\"x\",\"yaxis\":\"y\",\"type\":\"histogram\"},{\"alignmentgroup\":\"True\",\"customdata\":[[1.52777,0.0,0.67,72.02,0.06,14.4,0.0,0.0,\"Cluster 2\"],[1.52475,0.0,1.88,72.19,0.81,13.24,0.0,0.34,\"Cluster 2\"],[1.52369,0.0,1.58,72.22,0.32,12.24,0.0,0.0,\"Cluster 2\"],[1.51994,0.0,1.76,73.03,0.47,11.32,0.0,0.0,\"Cluster 2\"],[1.52739,0.0,0.75,73.08,0.0,14.96,0.0,0.0,\"Cluster 2\"],[1.52664,0.0,0.77,73.21,0.0,14.68,0.0,0.0,\"Cluster 2\"],[1.52043,0.0,1.4,72.25,0.33,12.5,0.0,0.0,\"Cluster 2\"],[1.52614,0.0,1.36,71.24,0.19,13.44,0.0,0.1,\"Cluster 2\"]],\"hovertemplate\":\"Cluster=%{customdata[8]}<br>b=%{x}<br>a=%{customdata[0]}<br>c=%{customdata[1]}<br>d=%{customdata[2]}<br>e=%{customdata[3]}<br>f=%{customdata[4]}<br>g=%{customdata[5]}<br>h=%{customdata[6]}<br>i=%{customdata[7]}<extra></extra>\",\"legendgroup\":\"Cluster 2\",\"marker\":{\"color\":\"#00cc96\"},\"name\":\"Cluster 2\",\"notched\":true,\"offsetgroup\":\"Cluster 2\",\"showlegend\":false,\"x\":[12.64,11.45,13.44,13.27,11.02,11.23,13.38,13.7],\"xaxis\":\"x2\",\"yaxis\":\"y2\",\"type\":\"box\"},{\"alignmentgroup\":\"True\",\"bingroup\":\"x\",\"hovertemplate\":\"Cluster=Cluster 3<br>b=%{x}<br>count=%{y}<extra></extra>\",\"legendgroup\":\"Cluster 3\",\"marker\":{\"color\":\"#ab63fa\",\"opacity\":0.7,\"pattern\":{\"shape\":\"\"}},\"name\":\"Cluster 3\",\"offsetgroup\":\"Cluster 3\",\"orientation\":\"v\",\"showlegend\":true,\"x\":[14.14,14.36,14.2,14.92,15.15,14.95,14.85,17.38,13.69,15.01,14.7,14.32,14.37,14.23,14.75,14.85,14.95],\"xaxis\":\"x\",\"yaxis\":\"y\",\"type\":\"histogram\"},{\"alignmentgroup\":\"True\",\"customdata\":[[1.51545,0.0,2.68,73.39,0.08,9.07,0.61,0.05,\"Cluster 3\"],[1.52065,0.0,2.02,73.42,0.0,8.44,1.64,0.0,\"Cluster 3\"],[1.51623,0.0,2.79,73.46,0.04,9.04,0.4,0.09,\"Cluster 3\"],[1.51685,0.0,1.99,73.06,0.0,8.4,1.59,0.0,\"Cluster 3\"],[1.51508,0.0,2.25,73.5,0.0,8.34,0.63,0.0,\"Cluster 3\"],[1.51617,0.0,2.27,73.3,0.0,8.71,0.67,0.0,\"Cluster 3\"],[1.51602,0.0,2.38,73.28,0.0,8.76,0.64,0.09,\"Cluster 3\"],[1.51115,0.0,0.34,75.41,0.0,6.65,0.0,0.0,\"Cluster 3\"],[1.51131,3.2,1.81,72.81,1.76,5.43,1.19,0.0,\"Cluster 3\"],[1.51609,0.0,2.51,73.05,0.05,8.83,0.53,0.0,\"Cluster 3\"],[1.51727,0.0,2.34,73.28,0.0,8.95,0.66,0.0,\"Cluster 3\"],[1.51838,3.26,2.22,71.25,1.46,5.79,1.63,0.0,\"Cluster 3\"],[1.5164,0.0,2.74,72.85,0.0,9.45,0.54,0.0,\"Cluster 3\"],[1.51711,0.0,2.08,73.36,0.0,8.62,1.67,0.0,\"Cluster 3\"],[1.51719,0.0,2.0,73.02,0.0,8.53,1.59,0.08,\"Cluster 3\"],[1.51514,0.0,2.42,73.72,0.0,8.39,0.56,0.0,\"Cluster 3\"],[1.51732,0.0,1.8,72.99,0.0,8.61,1.55,0.0,\"Cluster 3\"]],\"hovertemplate\":\"Cluster=%{customdata[8]}<br>b=%{x}<br>a=%{customdata[0]}<br>c=%{customdata[1]}<br>d=%{customdata[2]}<br>e=%{customdata[3]}<br>f=%{customdata[4]}<br>g=%{customdata[5]}<br>h=%{customdata[6]}<br>i=%{customdata[7]}<extra></extra>\",\"legendgroup\":\"Cluster 3\",\"marker\":{\"color\":\"#ab63fa\"},\"name\":\"Cluster 3\",\"notched\":true,\"offsetgroup\":\"Cluster 3\",\"showlegend\":false,\"x\":[14.14,14.36,14.2,14.92,15.15,14.95,14.85,17.38,13.69,15.01,14.7,14.32,14.37,14.23,14.75,14.85,14.95],\"xaxis\":\"x2\",\"yaxis\":\"y2\",\"type\":\"box\"},{\"alignmentgroup\":\"True\",\"bingroup\":\"x\",\"hovertemplate\":\"Cluster=Cluster 4<br>b=%{x}<br>count=%{y}<extra></extra>\",\"legendgroup\":\"Cluster 4\",\"marker\":{\"color\":\"#FFA15A\",\"opacity\":0.7,\"pattern\":{\"shape\":\"\"}},\"name\":\"Cluster 4\",\"offsetgroup\":\"Cluster 4\",\"orientation\":\"v\",\"showlegend\":true,\"x\":[13.02],\"xaxis\":\"x\",\"yaxis\":\"y\",\"type\":\"histogram\"},{\"alignmentgroup\":\"True\",\"customdata\":[[1.51316,0.0,3.04,70.48,6.21,6.96,0.0,0.0,\"Cluster 4\"]],\"hovertemplate\":\"Cluster=%{customdata[8]}<br>b=%{x}<br>a=%{customdata[0]}<br>c=%{customdata[1]}<br>d=%{customdata[2]}<br>e=%{customdata[3]}<br>f=%{customdata[4]}<br>g=%{customdata[5]}<br>h=%{customdata[6]}<br>i=%{customdata[7]}<extra></extra>\",\"legendgroup\":\"Cluster 4\",\"marker\":{\"color\":\"#FFA15A\"},\"name\":\"Cluster 4\",\"notched\":true,\"offsetgroup\":\"Cluster 4\",\"showlegend\":false,\"x\":[13.02],\"xaxis\":\"x2\",\"yaxis\":\"y2\",\"type\":\"box\"}],                        {\"template\":{\"data\":{\"bar\":[{\"error_x\":{\"color\":\"#2a3f5f\"},\"error_y\":{\"color\":\"#2a3f5f\"},\"marker\":{\"line\":{\"color\":\"#E5ECF6\",\"width\":0.5},\"pattern\":{\"fillmode\":\"overlay\",\"size\":10,\"solidity\":0.2}},\"type\":\"bar\"}],\"barpolar\":[{\"marker\":{\"line\":{\"color\":\"#E5ECF6\",\"width\":0.5},\"pattern\":{\"fillmode\":\"overlay\",\"size\":10,\"solidity\":0.2}},\"type\":\"barpolar\"}],\"carpet\":[{\"aaxis\":{\"endlinecolor\":\"#2a3f5f\",\"gridcolor\":\"white\",\"linecolor\":\"white\",\"minorgridcolor\":\"white\",\"startlinecolor\":\"#2a3f5f\"},\"baxis\":{\"endlinecolor\":\"#2a3f5f\",\"gridcolor\":\"white\",\"linecolor\":\"white\",\"minorgridcolor\":\"white\",\"startlinecolor\":\"#2a3f5f\"},\"type\":\"carpet\"}],\"choropleth\":[{\"colorbar\":{\"outlinewidth\":0,\"ticks\":\"\"},\"type\":\"choropleth\"}],\"contour\":[{\"colorbar\":{\"outlinewidth\":0,\"ticks\":\"\"},\"colorscale\":[[0.0,\"#0d0887\"],[0.1111111111111111,\"#46039f\"],[0.2222222222222222,\"#7201a8\"],[0.3333333333333333,\"#9c179e\"],[0.4444444444444444,\"#bd3786\"],[0.5555555555555556,\"#d8576b\"],[0.6666666666666666,\"#ed7953\"],[0.7777777777777778,\"#fb9f3a\"],[0.8888888888888888,\"#fdca26\"],[1.0,\"#f0f921\"]],\"type\":\"contour\"}],\"contourcarpet\":[{\"colorbar\":{\"outlinewidth\":0,\"ticks\":\"\"},\"type\":\"contourcarpet\"}],\"heatmap\":[{\"colorbar\":{\"outlinewidth\":0,\"ticks\":\"\"},\"colorscale\":[[0.0,\"#0d0887\"],[0.1111111111111111,\"#46039f\"],[0.2222222222222222,\"#7201a8\"],[0.3333333333333333,\"#9c179e\"],[0.4444444444444444,\"#bd3786\"],[0.5555555555555556,\"#d8576b\"],[0.6666666666666666,\"#ed7953\"],[0.7777777777777778,\"#fb9f3a\"],[0.8888888888888888,\"#fdca26\"],[1.0,\"#f0f921\"]],\"type\":\"heatmap\"}],\"heatmapgl\":[{\"colorbar\":{\"outlinewidth\":0,\"ticks\":\"\"},\"colorscale\":[[0.0,\"#0d0887\"],[0.1111111111111111,\"#46039f\"],[0.2222222222222222,\"#7201a8\"],[0.3333333333333333,\"#9c179e\"],[0.4444444444444444,\"#bd3786\"],[0.5555555555555556,\"#d8576b\"],[0.6666666666666666,\"#ed7953\"],[0.7777777777777778,\"#fb9f3a\"],[0.8888888888888888,\"#fdca26\"],[1.0,\"#f0f921\"]],\"type\":\"heatmapgl\"}],\"histogram\":[{\"marker\":{\"pattern\":{\"fillmode\":\"overlay\",\"size\":10,\"solidity\":0.2}},\"type\":\"histogram\"}],\"histogram2d\":[{\"colorbar\":{\"outlinewidth\":0,\"ticks\":\"\"},\"colorscale\":[[0.0,\"#0d0887\"],[0.1111111111111111,\"#46039f\"],[0.2222222222222222,\"#7201a8\"],[0.3333333333333333,\"#9c179e\"],[0.4444444444444444,\"#bd3786\"],[0.5555555555555556,\"#d8576b\"],[0.6666666666666666,\"#ed7953\"],[0.7777777777777778,\"#fb9f3a\"],[0.8888888888888888,\"#fdca26\"],[1.0,\"#f0f921\"]],\"type\":\"histogram2d\"}],\"histogram2dcontour\":[{\"colorbar\":{\"outlinewidth\":0,\"ticks\":\"\"},\"colorscale\":[[0.0,\"#0d0887\"],[0.1111111111111111,\"#46039f\"],[0.2222222222222222,\"#7201a8\"],[0.3333333333333333,\"#9c179e\"],[0.4444444444444444,\"#bd3786\"],[0.5555555555555556,\"#d8576b\"],[0.6666666666666666,\"#ed7953\"],[0.7777777777777778,\"#fb9f3a\"],[0.8888888888888888,\"#fdca26\"],[1.0,\"#f0f921\"]],\"type\":\"histogram2dcontour\"}],\"mesh3d\":[{\"colorbar\":{\"outlinewidth\":0,\"ticks\":\"\"},\"type\":\"mesh3d\"}],\"parcoords\":[{\"line\":{\"colorbar\":{\"outlinewidth\":0,\"ticks\":\"\"}},\"type\":\"parcoords\"}],\"pie\":[{\"automargin\":true,\"type\":\"pie\"}],\"scatter\":[{\"marker\":{\"colorbar\":{\"outlinewidth\":0,\"ticks\":\"\"}},\"type\":\"scatter\"}],\"scatter3d\":[{\"line\":{\"colorbar\":{\"outlinewidth\":0,\"ticks\":\"\"}},\"marker\":{\"colorbar\":{\"outlinewidth\":0,\"ticks\":\"\"}},\"type\":\"scatter3d\"}],\"scattercarpet\":[{\"marker\":{\"colorbar\":{\"outlinewidth\":0,\"ticks\":\"\"}},\"type\":\"scattercarpet\"}],\"scattergeo\":[{\"marker\":{\"colorbar\":{\"outlinewidth\":0,\"ticks\":\"\"}},\"type\":\"scattergeo\"}],\"scattergl\":[{\"marker\":{\"colorbar\":{\"outlinewidth\":0,\"ticks\":\"\"}},\"type\":\"scattergl\"}],\"scattermapbox\":[{\"marker\":{\"colorbar\":{\"outlinewidth\":0,\"ticks\":\"\"}},\"type\":\"scattermapbox\"}],\"scatterpolar\":[{\"marker\":{\"colorbar\":{\"outlinewidth\":0,\"ticks\":\"\"}},\"type\":\"scatterpolar\"}],\"scatterpolargl\":[{\"marker\":{\"colorbar\":{\"outlinewidth\":0,\"ticks\":\"\"}},\"type\":\"scatterpolargl\"}],\"scatterternary\":[{\"marker\":{\"colorbar\":{\"outlinewidth\":0,\"ticks\":\"\"}},\"type\":\"scatterternary\"}],\"surface\":[{\"colorbar\":{\"outlinewidth\":0,\"ticks\":\"\"},\"colorscale\":[[0.0,\"#0d0887\"],[0.1111111111111111,\"#46039f\"],[0.2222222222222222,\"#7201a8\"],[0.3333333333333333,\"#9c179e\"],[0.4444444444444444,\"#bd3786\"],[0.5555555555555556,\"#d8576b\"],[0.6666666666666666,\"#ed7953\"],[0.7777777777777778,\"#fb9f3a\"],[0.8888888888888888,\"#fdca26\"],[1.0,\"#f0f921\"]],\"type\":\"surface\"}],\"table\":[{\"cells\":{\"fill\":{\"color\":\"#EBF0F8\"},\"line\":{\"color\":\"white\"}},\"header\":{\"fill\":{\"color\":\"#C8D4E3\"},\"line\":{\"color\":\"white\"}},\"type\":\"table\"}]},\"layout\":{\"annotationdefaults\":{\"arrowcolor\":\"#2a3f5f\",\"arrowhead\":0,\"arrowwidth\":1},\"autotypenumbers\":\"strict\",\"coloraxis\":{\"colorbar\":{\"outlinewidth\":0,\"ticks\":\"\"}},\"colorscale\":{\"diverging\":[[0,\"#8e0152\"],[0.1,\"#c51b7d\"],[0.2,\"#de77ae\"],[0.3,\"#f1b6da\"],[0.4,\"#fde0ef\"],[0.5,\"#f7f7f7\"],[0.6,\"#e6f5d0\"],[0.7,\"#b8e186\"],[0.8,\"#7fbc41\"],[0.9,\"#4d9221\"],[1,\"#276419\"]],\"sequential\":[[0.0,\"#0d0887\"],[0.1111111111111111,\"#46039f\"],[0.2222222222222222,\"#7201a8\"],[0.3333333333333333,\"#9c179e\"],[0.4444444444444444,\"#bd3786\"],[0.5555555555555556,\"#d8576b\"],[0.6666666666666666,\"#ed7953\"],[0.7777777777777778,\"#fb9f3a\"],[0.8888888888888888,\"#fdca26\"],[1.0,\"#f0f921\"]],\"sequentialminus\":[[0.0,\"#0d0887\"],[0.1111111111111111,\"#46039f\"],[0.2222222222222222,\"#7201a8\"],[0.3333333333333333,\"#9c179e\"],[0.4444444444444444,\"#bd3786\"],[0.5555555555555556,\"#d8576b\"],[0.6666666666666666,\"#ed7953\"],[0.7777777777777778,\"#fb9f3a\"],[0.8888888888888888,\"#fdca26\"],[1.0,\"#f0f921\"]]},\"colorway\":[\"#636efa\",\"#EF553B\",\"#00cc96\",\"#ab63fa\",\"#FFA15A\",\"#19d3f3\",\"#FF6692\",\"#B6E880\",\"#FF97FF\",\"#FECB52\"],\"font\":{\"color\":\"#2a3f5f\"},\"geo\":{\"bgcolor\":\"white\",\"lakecolor\":\"white\",\"landcolor\":\"#E5ECF6\",\"showlakes\":true,\"showland\":true,\"subunitcolor\":\"white\"},\"hoverlabel\":{\"align\":\"left\"},\"hovermode\":\"closest\",\"mapbox\":{\"style\":\"light\"},\"paper_bgcolor\":\"white\",\"plot_bgcolor\":\"#E5ECF6\",\"polar\":{\"angularaxis\":{\"gridcolor\":\"white\",\"linecolor\":\"white\",\"ticks\":\"\"},\"bgcolor\":\"#E5ECF6\",\"radialaxis\":{\"gridcolor\":\"white\",\"linecolor\":\"white\",\"ticks\":\"\"}},\"scene\":{\"xaxis\":{\"backgroundcolor\":\"#E5ECF6\",\"gridcolor\":\"white\",\"gridwidth\":2,\"linecolor\":\"white\",\"showbackground\":true,\"ticks\":\"\",\"zerolinecolor\":\"white\"},\"yaxis\":{\"backgroundcolor\":\"#E5ECF6\",\"gridcolor\":\"white\",\"gridwidth\":2,\"linecolor\":\"white\",\"showbackground\":true,\"ticks\":\"\",\"zerolinecolor\":\"white\"},\"zaxis\":{\"backgroundcolor\":\"#E5ECF6\",\"gridcolor\":\"white\",\"gridwidth\":2,\"linecolor\":\"white\",\"showbackground\":true,\"ticks\":\"\",\"zerolinecolor\":\"white\"}},\"shapedefaults\":{\"line\":{\"color\":\"#2a3f5f\"}},\"ternary\":{\"aaxis\":{\"gridcolor\":\"white\",\"linecolor\":\"white\",\"ticks\":\"\"},\"baxis\":{\"gridcolor\":\"white\",\"linecolor\":\"white\",\"ticks\":\"\"},\"bgcolor\":\"#E5ECF6\",\"caxis\":{\"gridcolor\":\"white\",\"linecolor\":\"white\",\"ticks\":\"\"}},\"title\":{\"x\":0.05},\"xaxis\":{\"automargin\":true,\"gridcolor\":\"white\",\"linecolor\":\"white\",\"ticks\":\"\",\"title\":{\"standoff\":15},\"zerolinecolor\":\"white\",\"zerolinewidth\":2},\"yaxis\":{\"automargin\":true,\"gridcolor\":\"white\",\"linecolor\":\"white\",\"ticks\":\"\",\"title\":{\"standoff\":15},\"zerolinecolor\":\"white\",\"zerolinewidth\":2}}},\"xaxis\":{\"anchor\":\"y\",\"domain\":[0.0,1.0],\"title\":{\"text\":\"b\"}},\"yaxis\":{\"anchor\":\"x\",\"domain\":[0.0,0.7326],\"title\":{\"text\":\"count\"}},\"xaxis2\":{\"anchor\":\"y2\",\"domain\":[0.0,1.0],\"matches\":\"x\",\"showticklabels\":false,\"showgrid\":true},\"yaxis2\":{\"anchor\":\"x2\",\"domain\":[0.7426,1.0],\"matches\":\"y2\",\"showticklabels\":false,\"showline\":false,\"ticks\":\"\",\"showgrid\":false},\"legend\":{\"title\":{\"text\":\"Cluster\"},\"tracegroupgap\":0},\"margin\":{\"t\":60},\"barmode\":\"relative\",\"height\":600},                        {\"responsive\": true}                    ).then(function(){\n",
              "                            \n",
              "var gd = document.getElementById('db3211ef-7e4d-4e37-80d8-7ea8f2ecf78e');\n",
              "var x = new MutationObserver(function (mutations, observer) {{\n",
              "        var display = window.getComputedStyle(gd).display;\n",
              "        if (!display || display === 'none') {{\n",
              "            console.log([gd, 'removed!']);\n",
              "            Plotly.purge(gd);\n",
              "            observer.disconnect();\n",
              "        }}\n",
              "}});\n",
              "\n",
              "// Listen for the removal of the full notebook cells\n",
              "var notebookContainer = gd.closest('#notebook-container');\n",
              "if (notebookContainer) {{\n",
              "    x.observe(notebookContainer, {childList: true});\n",
              "}}\n",
              "\n",
              "// Listen for the clearing of the current output cell\n",
              "var outputEl = gd.closest('.output');\n",
              "if (outputEl) {{\n",
              "    x.observe(outputEl, {childList: true});\n",
              "}}\n",
              "\n",
              "                        })                };                            </script>        </div>\n",
              "</body>\n",
              "</html>"
            ]
          },
          "metadata": {}
        },
        {
          "output_type": "stream",
          "name": "stderr",
          "text": [
            "INFO:logs:Visual Rendered Successfully\n",
            "INFO:logs:plot_model() succesfully completed......................................\n"
          ]
        }
      ]
    },
    {
      "cell_type": "code",
      "source": [
        ""
      ],
      "metadata": {
        "id": "ZXCmPzBBC68t"
      },
      "execution_count": null,
      "outputs": []
    }
  ]
}